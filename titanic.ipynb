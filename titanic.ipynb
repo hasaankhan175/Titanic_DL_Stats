{
 "cells": [
  {
   "cell_type": "markdown",
   "metadata": {},
   "source": [
    "# **MY SOCIAL LINKS:**"
   ]
  },
  {
   "cell_type": "markdown",
   "metadata": {},
   "source": [
    "<style>\n",
    "  .profile-link {\n",
    "    display: flex;\n",
    "    flex-direction: column;\n",
    "    align-items: center;\n",
    "    text-decoration: none;\n",
    "    color: inherit;\n",
    "    transition: transform 0.3s ease;\n",
    "    position: relative;\n",
    "  }\n",
    "\n",
    "  .profile-link:hover {\n",
    "    transform: scale(1.1);\n",
    "  }\n",
    "\n",
    "  .icon-container {\n",
    "    width: 80px;\n",
    "    height: 80px;\n",
    "    display: flex;\n",
    "    justify-content: center;\n",
    "    align-items: center;\n",
    "    border-radius: 50%;\n",
    "    box-shadow: 0 4px 6px rgba(0, 0, 0, 0.1);\n",
    "    transition: box-shadow 0.3s ease;\n",
    "    position: relative;\n",
    "  }\n",
    "\n",
    "  .profile-link:hover .icon-container {\n",
    "    box-shadow: 0 8px 12px rgba(0, 0, 0, 0.2);\n",
    "  }\n",
    "\n",
    "  .icon {\n",
    "    font-size: 36px;\n",
    "  }\n",
    "\n",
    "  .label {\n",
    "    font-size: 14px;\n",
    "    margin-top: 8px;\n",
    "    text-align: center;\n",
    "  }\n",
    "\n",
    "  .link-info {\n",
    "    position: absolute;\n",
    "    top: 100%;\n",
    "    left: 50%;\n",
    "    transform: translateX(-50%);\n",
    "    background-color: #333; \n",
    "    color: #fff;\n",
    "    padding: 8px;\n",
    "    border-radius: 4px;\n",
    "    font-size: 12px;\n",
    "    opacity: 0;\n",
    "    visibility: hidden;\n",
    "    transition: opacity 0.3s ease, visibility 0.3s ease;\n",
    "  }\n",
    "\n",
    "  .profile-link:hover .link-info {\n",
    "    opacity: 1;\n",
    "    visibility: visible;\n",
    "  }\n",
    "</style>\n",
    "\n",
    "<div style=\"display: flex; justify-content: center; gap: 30px; margin-top: 30px;\">\n",
    "  <a href=\"https://www.facebook.com/hasaan.khan.3511041\" target=\"_blank\" class=\"profile-link\">\n",
    "    <div class=\"icon-container\" style=\"background-color: #ffff;\">\n",
    "      <img src=\"pngegg.png\" alt=\"Facebook Icon\" class=\"icon\" style=\"width: 48px; height: 48px; object-fit: contain;\">\n",
    "      <div class=\"link-info\">Hasaan Facebook</div>\n",
    "    </div>\n",
    "    <div class=\"label\">Facebook</div>\n",
    "  </a>\n",
    "\n",
    "  <a href=\"https://x.com/Hasaan_Khan1\" target=\"_blank\" class=\"profile-link\">\n",
    "    <div class=\"icon-container\" style=\"background-color: #1DA1F2;\">\n",
    "      <img src=\"twitter.png\" alt=\"Twitter Icon\" class=\"icon\" style=\"width: 48px; height: 48px; object-fit: contain;\">\n",
    "      <div class=\"link-info\">Hasaan Twitter</div>\n",
    "    </div>\n",
    "    <div class=\"label\">Twitter</div>\n",
    "  </a>\n",
    "\n",
    "  <a href=\"https://www.kaggle.com/hasaankhan175\" target=\"_blank\" class=\"profile-link\">\n",
    "    <div class=\"icon-container\" style=\"background-color: #ffff;\">\n",
    "      <img src=\"kaggle.png\" alt=\"LinkedIn Icon\" class=\"icon\" style=\"width: 48px; height: 48px; object-fit: contain;\">\n",
    "      <div class=\"link-info\">Hasaan Kaggle</div>\n",
    "    </div>\n",
    "    <div class=\"label\">Kaggle</div>\n",
    "  </a>\n",
    "  \n",
    "  <a href=\"https://www.linkedin.com/in/hasaan-khan-422249289/\" target=\"_blank\" class=\"profile-link\">\n",
    "    <div class=\"icon-container\" style=\"background-color: #ffff;\">\n",
    "      <img src=\"linkedin.png\" alt=\"LinkedIn Icon\" class=\"icon\" style=\"width: 48px; height: 48px; object-fit: contain;\">\n",
    "      <div class=\"link-info\">Hasaan Linkedin</div>\n",
    "    </div>\n",
    "    <div class=\"label\">LinkedIn</div>\n",
    "  </a>\n",
    "\n",
    "\n",
    "  <a href=\"https://github.com/your-username\" target=\"_blank\" class=\"profile-link\">\n",
    "    <div class=\"icon-container\" style=\"background-color: #ffff;\">\n",
    "      <img src=\"github.png\" alt=\"GitHub Icon\" class=\"icon\" style=\"width: 48px; height: 48px; object-fit: contain;\">\n",
    "      <div class=\"link-info\">Hasaan Github</div>\n",
    "    </div>\n",
    "    <div class=\"label\">GitHub</div>\n",
    "  </a>\n",
    "</div>"
   ]
  },
  {
   "cell_type": "markdown",
   "metadata": {},
   "source": [
    "<style>\n",
    "/* General styling for dark theme */\n",
    "body {\n",
    "  font-family: Arial, sans-serif;\n",
    "  background-color: #1b1f23;\n",
    "  color: #cfd8dc;\n",
    "  margin: 0;\n",
    "  padding: 20px;\n",
    "}\n",
    "\n",
    "/* Title styling */\n",
    "h1 {\n",
    "  text-align: center;\n",
    "  color: #5b8dd6;\n",
    "  font-size: 2.5em;\n",
    "  margin-bottom: 20px;\n",
    "}\n",
    "\n",
    "/* Card container styling */\n",
    ".card-container {\n",
    "  display: grid;\n",
    "  grid-template-columns: 1fr;\n",
    "  gap: 15px;\n",
    "  max-width: 800px;\n",
    "  margin: 0 auto;\n",
    "}\n",
    "\n",
    "@media (min-width: 600px) {\n",
    "  .card-container {\n",
    "    grid-template-columns: 1fr 1fr;\n",
    "  }\n",
    "}\n",
    "\n",
    "/* Individual card styling */\n",
    ".card {\n",
    "  background-color: #2a2f35;\n",
    "  border-radius: 8px;\n",
    "  padding: 20px;\n",
    "  box-shadow: 0 4px 12px rgba(0, 0, 0, 0.3);\n",
    "  transition: transform 0.3s ease, background-color 0.3s ease;\n",
    "}\n",
    "\n",
    ".card:hover {\n",
    "  transform: translateY(-8px);\n",
    "  background-color: #3c4450;\n",
    "}\n",
    "\n",
    ".card-title {\n",
    "  color: #5b8dd6;\n",
    "  font-weight: bold;\n",
    "  margin-bottom: 8px;\n",
    "}\n",
    "\n",
    ".card-description {\n",
    "  color: #b0bec5;\n",
    "  font-size: 0.9em;\n",
    "}\n",
    "\n",
    ".data-type {\n",
    "  color: #82b1ff;\n",
    "  font-style: italic;\n",
    "}\n",
    "</style>\n",
    "\n",
    "# Titanic Dataset Overview 🚢\n",
    "\n",
    "Explore the Titanic dataset, which contains information about passengers aboard the Titanic, including details about their demographics, ticket information, and whether they survived.\n",
    "\n",
    "---\n",
    "\n",
    "## Dataset Columns and Descriptions\n",
    "\n",
    "<div class=\"card-container\">\n",
    "  \n",
    "  <div class=\"card\">\n",
    "    <div class=\"card-title\">PassengerId</div>\n",
    "    <div class=\"card-description\">Unique identifier for each passenger.</div>\n",
    "    <div class=\"data-type\">Data Type: Integer</div>\n",
    "  </div>\n",
    "\n",
    "  <div class=\"card\">\n",
    "    <div class=\"card-title\">Survived</div>\n",
    "    <div class=\"card-description\">Survival indicator (0 = No, 1 = Yes).</div>\n",
    "    <div class=\"data-type\">Data Type: Integer (Binary)</div>\n",
    "  </div>\n",
    "\n",
    "  <div class=\"card\">\n",
    "    <div class=\"card-title\">Pclass</div>\n",
    "    <div class=\"card-description\">Ticket class (1 = 1st, 2 = 2nd, 3 = 3rd).</div>\n",
    "    <div class=\"data-type\">Data Type: Integer</div>\n",
    "  </div>\n",
    "\n",
    "  <div class=\"card\">\n",
    "    <div class=\"card-title\">Name</div>\n",
    "    <div class=\"card-description\">Passenger's full name.</div>\n",
    "    <div class=\"data-type\">Data Type: String</div>\n",
    "  </div>\n",
    "\n",
    "  <div class=\"card\">\n",
    "    <div class=\"card-title\">Sex</div>\n",
    "    <div class=\"card-description\">Passenger's gender.</div>\n",
    "    <div class=\"data-type\">Data Type: String</div>\n",
    "  </div>\n",
    "\n",
    "  <div class=\"card\">\n",
    "    <div class=\"card-title\">Age</div>\n",
    "    <div class=\"card-description\">Passenger's age in years.</div>\n",
    "    <div class=\"data-type\">Data Type: Float</div>\n",
    "  </div>\n",
    "\n",
    "  <div class=\"card\">\n",
    "    <div class=\"card-title\">SibSp</div>\n",
    "    <div class=\"card-description\">Number of siblings/spouses aboard.</div>\n",
    "    <div class=\"data-type\">Data Type: Integer</div>\n",
    "  </div>\n",
    "\n",
    "  <div class=\"card\">\n",
    "    <div class=\"card-title\">Parch</div>\n",
    "    <div class=\"card-description\">Number of parents/children aboard.</div>\n",
    "    <div class=\"data-type\">Data Type: Integer</div>\n",
    "  </div>\n",
    "\n",
    "  <div class=\"card\">\n",
    "    <div class=\"card-title\">Ticket</div>\n",
    "    <div class=\"card-description\">Ticket number.</div>\n",
    "    <div class=\"data-type\">Data Type: String</div>\n",
    "  </div>\n",
    "\n",
    "  <div class=\"card\">\n",
    "    <div class=\"card-title\">Fare</div>\n",
    "    <div class=\"card-description\">Ticket fare in British pounds.</div>\n",
    "    <div class=\"data-type\">Data Type: Float</div>\n",
    "  </div>\n",
    "\n",
    "  <div class=\"card\">\n",
    "    <div class=\"card-title\">Cabin</div>\n",
    "    <div class=\"card-description\">Cabin number.</div>\n",
    "    <div class=\"data-type\">Data Type: String</div>\n",
    "  </div>\n",
    "\n",
    "  <div class=\"card\">\n",
    "    <div class=\"card-title\">Embarked</div>\n",
    "    <div class=\"card-description\">Port of Embarkation (C = Cherbourg, Q = Queenstown, S = Southampton).</div>\n",
    "    <div class=\"data-type\">Data Type: String</div>\n",
    "  </div>\n",
    "\n",
    "</div>\n",
    "\n",
    "---\n",
    "\n",
    "\n"
   ]
  },
  {
   "cell_type": "markdown",
   "metadata": {},
   "source": [
    "<style>\n",
    "/* Styling for the heading with cold colors and hover effect */\n",
    ".import-heading {\n",
    "  font-size: 1.8em;\n",
    "  color: #5b8dd6; /* Cold blue color */\n",
    "  margin-bottom: 10px;\n",
    "  text-align: center;\n",
    "  transition: color 0.3s ease, transform 0.3s ease;\n",
    "  cursor: pointer;\n",
    "}\n",
    "\n",
    ".import-heading:hover {\n",
    "  color: #82b1ff;\n",
    "  transform: scale(1.05);\n",
    "}\n",
    "</style>\n",
    "\n",
    "# <span class=\"import-heading\">Importing Libraries</span>\n",
    "\n",
    "The libraries required for this project include popular data science libraries such as `pandas`, `numpy`, `matplotlib`, and `seaborn`. Make sure these libraries are installed in your environment before running the code.\n"
   ]
  },
  {
   "cell_type": "code",
   "execution_count": 89,
   "metadata": {},
   "outputs": [],
   "source": [
    "import pandas as pd \n",
    "import numpy as np \n",
    "import matplotlib.pyplot as plt \n",
    "import plotly.express as px\n",
    "import seaborn as sns"
   ]
  },
  {
   "cell_type": "markdown",
   "metadata": {},
   "source": [
    " <style>\n",
    "/* Styling for the heading with cold colors, hover effect, and underline animation */\n",
    ".dataset-heading {\n",
    "  font-size: 1.8em;\n",
    "  color: #5b8dd6; /* Cold blue color */\n",
    "  margin-bottom: 15px;\n",
    "  text-align: center;\n",
    "  position: relative;\n",
    "  display: inline-block;\n",
    "  cursor: pointer;\n",
    "  transition: color 0.3s ease;\n",
    "}\n",
    "\n",
    ".dataset-heading:hover {\n",
    "  color: #82b1ff; /* Lighter blue on hover */\n",
    "}\n",
    "\n",
    ".dataset-heading::after {\n",
    "  content: \"\";\n",
    "  position: absolute;\n",
    "  width: 100%;\n",
    "  height: 2px;\n",
    "  background-color: #82b1ff;\n",
    "  bottom: -5px;\n",
    "  left: 0;\n",
    "  transform: scaleX(0);\n",
    "  transform-origin: bottom right;\n",
    "  transition: transform 0.3s ease;\n",
    "}\n",
    "\n",
    ".dataset-heading:hover::after {\n",
    "  transform: scaleX(1);\n",
    "  transform-origin: bottom left;\n",
    "}\n",
    "</style>\n",
    "\n",
    "# <span class=\"dataset-heading\">Importing Dataset</span>\n",
    "\n",
    "To start analyzing the data, we first need to import the dataset into our environment. Make sure the dataset file is in the correct directory or provide the full path to load it successfully.\n"
   ]
  },
  {
   "cell_type": "code",
   "execution_count": 90,
   "metadata": {},
   "outputs": [],
   "source": [
    "# importing dataset\n",
    "df = sns.load_dataset(\"titanic\")"
   ]
  },
  {
   "cell_type": "code",
   "execution_count": 91,
   "metadata": {},
   "outputs": [
    {
     "data": {
      "text/html": [
       "<div>\n",
       "<style scoped>\n",
       "    .dataframe tbody tr th:only-of-type {\n",
       "        vertical-align: middle;\n",
       "    }\n",
       "\n",
       "    .dataframe tbody tr th {\n",
       "        vertical-align: top;\n",
       "    }\n",
       "\n",
       "    .dataframe thead th {\n",
       "        text-align: right;\n",
       "    }\n",
       "</style>\n",
       "<table border=\"1\" class=\"dataframe\">\n",
       "  <thead>\n",
       "    <tr style=\"text-align: right;\">\n",
       "      <th></th>\n",
       "      <th>survived</th>\n",
       "      <th>pclass</th>\n",
       "      <th>sex</th>\n",
       "      <th>age</th>\n",
       "      <th>sibsp</th>\n",
       "      <th>parch</th>\n",
       "      <th>fare</th>\n",
       "      <th>embarked</th>\n",
       "      <th>class</th>\n",
       "      <th>who</th>\n",
       "      <th>adult_male</th>\n",
       "      <th>deck</th>\n",
       "      <th>embark_town</th>\n",
       "      <th>alive</th>\n",
       "      <th>alone</th>\n",
       "    </tr>\n",
       "  </thead>\n",
       "  <tbody>\n",
       "    <tr>\n",
       "      <th>0</th>\n",
       "      <td>0</td>\n",
       "      <td>3</td>\n",
       "      <td>male</td>\n",
       "      <td>22.0</td>\n",
       "      <td>1</td>\n",
       "      <td>0</td>\n",
       "      <td>7.2500</td>\n",
       "      <td>S</td>\n",
       "      <td>Third</td>\n",
       "      <td>man</td>\n",
       "      <td>True</td>\n",
       "      <td>NaN</td>\n",
       "      <td>Southampton</td>\n",
       "      <td>no</td>\n",
       "      <td>False</td>\n",
       "    </tr>\n",
       "    <tr>\n",
       "      <th>1</th>\n",
       "      <td>1</td>\n",
       "      <td>1</td>\n",
       "      <td>female</td>\n",
       "      <td>38.0</td>\n",
       "      <td>1</td>\n",
       "      <td>0</td>\n",
       "      <td>71.2833</td>\n",
       "      <td>C</td>\n",
       "      <td>First</td>\n",
       "      <td>woman</td>\n",
       "      <td>False</td>\n",
       "      <td>C</td>\n",
       "      <td>Cherbourg</td>\n",
       "      <td>yes</td>\n",
       "      <td>False</td>\n",
       "    </tr>\n",
       "    <tr>\n",
       "      <th>2</th>\n",
       "      <td>1</td>\n",
       "      <td>3</td>\n",
       "      <td>female</td>\n",
       "      <td>26.0</td>\n",
       "      <td>0</td>\n",
       "      <td>0</td>\n",
       "      <td>7.9250</td>\n",
       "      <td>S</td>\n",
       "      <td>Third</td>\n",
       "      <td>woman</td>\n",
       "      <td>False</td>\n",
       "      <td>NaN</td>\n",
       "      <td>Southampton</td>\n",
       "      <td>yes</td>\n",
       "      <td>True</td>\n",
       "    </tr>\n",
       "    <tr>\n",
       "      <th>3</th>\n",
       "      <td>1</td>\n",
       "      <td>1</td>\n",
       "      <td>female</td>\n",
       "      <td>35.0</td>\n",
       "      <td>1</td>\n",
       "      <td>0</td>\n",
       "      <td>53.1000</td>\n",
       "      <td>S</td>\n",
       "      <td>First</td>\n",
       "      <td>woman</td>\n",
       "      <td>False</td>\n",
       "      <td>C</td>\n",
       "      <td>Southampton</td>\n",
       "      <td>yes</td>\n",
       "      <td>False</td>\n",
       "    </tr>\n",
       "    <tr>\n",
       "      <th>4</th>\n",
       "      <td>0</td>\n",
       "      <td>3</td>\n",
       "      <td>male</td>\n",
       "      <td>35.0</td>\n",
       "      <td>0</td>\n",
       "      <td>0</td>\n",
       "      <td>8.0500</td>\n",
       "      <td>S</td>\n",
       "      <td>Third</td>\n",
       "      <td>man</td>\n",
       "      <td>True</td>\n",
       "      <td>NaN</td>\n",
       "      <td>Southampton</td>\n",
       "      <td>no</td>\n",
       "      <td>True</td>\n",
       "    </tr>\n",
       "  </tbody>\n",
       "</table>\n",
       "</div>"
      ],
      "text/plain": [
       "   survived  pclass     sex   age  sibsp  parch     fare embarked  class  \\\n",
       "0         0       3    male  22.0      1      0   7.2500        S  Third   \n",
       "1         1       1  female  38.0      1      0  71.2833        C  First   \n",
       "2         1       3  female  26.0      0      0   7.9250        S  Third   \n",
       "3         1       1  female  35.0      1      0  53.1000        S  First   \n",
       "4         0       3    male  35.0      0      0   8.0500        S  Third   \n",
       "\n",
       "     who  adult_male deck  embark_town alive  alone  \n",
       "0    man        True  NaN  Southampton    no  False  \n",
       "1  woman       False    C    Cherbourg   yes  False  \n",
       "2  woman       False  NaN  Southampton   yes   True  \n",
       "3  woman       False    C  Southampton   yes  False  \n",
       "4    man        True  NaN  Southampton    no   True  "
      ]
     },
     "execution_count": 91,
     "metadata": {},
     "output_type": "execute_result"
    }
   ],
   "source": [
    "# head of the data\n",
    "df.head()"
   ]
  },
  {
   "cell_type": "markdown",
   "metadata": {},
   "source": [
    "<style>\n",
    "/* Styling for \"Let's DO EDA\" heading */\n",
    ".eda-heading {\n",
    "  font-size: 2em;\n",
    "  color: #5b8dd6; /* Cold blue color */\n",
    "  margin: 20px 0;\n",
    "  text-align: center;\n",
    "  position: relative;\n",
    "  display: inline-block;\n",
    "  transition: color 0.3s ease, transform 0.3s ease;\n",
    "  cursor: pointer;\n",
    "}\n",
    "\n",
    ".eda-heading:hover {\n",
    "  color: #82b1ff; /* Lighter blue on hover */\n",
    "  transform: translateY(-5px); /* Slight bounce effect */\n",
    "}\n",
    "\n",
    "/* Glow effect */\n",
    ".eda-heading::before,\n",
    ".eda-heading::after {\n",
    "  content: \"\";\n",
    "  position: absolute;\n",
    "  width: 100%;\n",
    "  height: 100%;\n",
    "  top: 0;\n",
    "  left: 0;\n",
    "  border-radius: 5px;\n",
    "  transition: opacity 0.3s ease, transform 0.3s ease;\n",
    "  opacity: 0;\n",
    "}\n",
    "\n",
    ".eda-heading:hover::before {\n",
    "  transform: scale(1.1);\n",
    "  opacity: 0.3;\n",
    "  background: radial-gradient(circle, rgba(130,177,255,0.3) 0%, rgba(91,141,214,0) 70%);\n",
    "}\n",
    "\n",
    ".eda-heading:hover::after {\n",
    "  transform: scale(1.15);\n",
    "  opacity: 0.2;\n",
    "  background: radial-gradient(circle, rgba(130,177,255,0.2) 0%, rgba(91,141,214,0) 70%);\n",
    "}\n",
    "</style>\n",
    "\n",
    "# <span class=\"eda-heading\">Let's DO EDA</span>\n",
    "\n",
    "Exploratory Data Analysis (EDA) allows us to uncover patterns, insights, and trends in the dataset. In this section, we’ll dive deep into the data to better understand its characteristics and relationships.\n"
   ]
  },
  {
   "cell_type": "code",
   "execution_count": 92,
   "metadata": {},
   "outputs": [
    {
     "name": "stdout",
     "output_type": "stream",
     "text": [
      "<class 'pandas.core.frame.DataFrame'>\n",
      "RangeIndex: 891 entries, 0 to 890\n",
      "Data columns (total 15 columns):\n",
      " #   Column       Non-Null Count  Dtype   \n",
      "---  ------       --------------  -----   \n",
      " 0   survived     891 non-null    int64   \n",
      " 1   pclass       891 non-null    int64   \n",
      " 2   sex          891 non-null    object  \n",
      " 3   age          714 non-null    float64 \n",
      " 4   sibsp        891 non-null    int64   \n",
      " 5   parch        891 non-null    int64   \n",
      " 6   fare         891 non-null    float64 \n",
      " 7   embarked     889 non-null    object  \n",
      " 8   class        891 non-null    category\n",
      " 9   who          891 non-null    object  \n",
      " 10  adult_male   891 non-null    bool    \n",
      " 11  deck         203 non-null    category\n",
      " 12  embark_town  889 non-null    object  \n",
      " 13  alive        891 non-null    object  \n",
      " 14  alone        891 non-null    bool    \n",
      "dtypes: bool(2), category(2), float64(2), int64(4), object(5)\n",
      "memory usage: 80.7+ KB\n"
     ]
    }
   ],
   "source": [
    "df.info()"
   ]
  },
  {
   "cell_type": "code",
   "execution_count": 93,
   "metadata": {},
   "outputs": [
    {
     "data": {
      "text/plain": [
       "survived  sex   \n",
       "0         male      468\n",
       "          female     81\n",
       "1         female    233\n",
       "          male      109\n",
       "Name: count, dtype: int64"
      ]
     },
     "execution_count": 93,
     "metadata": {},
     "output_type": "execute_result"
    }
   ],
   "source": [
    "df.groupby('survived')['sex'].value_counts()"
   ]
  },
  {
   "cell_type": "markdown",
   "metadata": {},
   "source": [
    "The output shows the following:\n",
    "\n",
    "1. The number of individuals who 'survived' (0) and their corresponding sex ('male' and 'female').\n",
    "1. The number of individuals who 'survived' (1) and their corresponding sex ('female' and 'male').\n",
    "\n",
    "\n",
    "Specifically:\n",
    "\n",
    "- 468 males and 81 females survived.\n",
    "- 233 females and 109 males did not survive."
   ]
  },
  {
   "cell_type": "code",
   "execution_count": 94,
   "metadata": {},
   "outputs": [
    {
     "data": {
      "text/plain": [
       "pclass\n",
       "2         184\n",
       "1         216\n",
       "3         491\n",
       "Name: count, dtype: int64"
      ]
     },
     "execution_count": 94,
     "metadata": {},
     "output_type": "execute_result"
    }
   ],
   "source": [
    "df[['pclass']].value_counts().sort_values(ascending=True)"
   ]
  },
  {
   "cell_type": "markdown",
   "metadata": {},
   "source": [
    "This output shows that most of the people in the dataset are belongs to 3 class."
   ]
  },
  {
   "cell_type": "code",
   "execution_count": 95,
   "metadata": {},
   "outputs": [
    {
     "name": "stdout",
     "output_type": "stream",
     "text": [
      "Number of missing values in Age before imputation: 177\n",
      "Number of missing values in Age after imputation: 0\n",
      "Imputed Age Median within IQR: 28.0\n"
     ]
    },
    {
     "name": "stderr",
     "output_type": "stream",
     "text": [
      "C:\\Users\\DENZEN COMPUTERS\\AppData\\Local\\Temp\\ipykernel_9360\\1189417421.py:13: FutureWarning:\n",
      "\n",
      "A value is trying to be set on a copy of a DataFrame or Series through chained assignment using an inplace method.\n",
      "The behavior will change in pandas 3.0. This inplace method will never work because the intermediate object on which we are setting values always behaves as a copy.\n",
      "\n",
      "For example, when doing 'df[col].method(value, inplace=True)', try using 'df.method({col: value}, inplace=True)' or df[col] = df[col].method(value) instead, to perform the operation inplace on the original object.\n",
      "\n",
      "\n",
      "\n"
     ]
    }
   ],
   "source": [
    "# Step 1: Check for missing values in the Age column\n",
    "print(\"Number of missing values in Age before imputation:\", df['age'].isnull().sum())\n",
    "\n",
    "# Step 2: Calculate Q1, Q3, and IQR for the Age column\n",
    "Q1 = df['age'].quantile(0.25)\n",
    "Q3 = df['age'].quantile(0.75)\n",
    "IQR = Q3 - Q1\n",
    "\n",
    "# Step 3: Filter values within the IQR range and calculate the median\n",
    "age_median_iqr = df[(df['age'] >= Q1) & (df['age'] <= Q3)]['age'].median()\n",
    "\n",
    "# Step 4: Impute missing values in Age with the median of values within the IQR range\n",
    "df['age'].fillna(age_median_iqr, inplace=True)\n",
    "\n",
    "# Step 5: Check if missing values have been filled\n",
    "print(\"Number of missing values in Age after imputation:\", df['age'].isnull().sum())\n",
    "print(\"Imputed Age Median within IQR:\", age_median_iqr)\n",
    "\n",
    "#"
   ]
  },
  {
   "cell_type": "code",
   "execution_count": 96,
   "metadata": {},
   "outputs": [
    {
     "name": "stdout",
     "output_type": "stream",
     "text": [
      "Original number of rows: 825\n",
      "Number of rows after removing outliers: 825\n"
     ]
    }
   ],
   "source": [
    "# Removing outliers form the data of age column\n",
    "Q1 = df['age'].quantile(0.25)\n",
    "Q3 = df['age'].quantile(0.75)\n",
    "IQR = Q3 - Q1\n",
    "\n",
    "# Step 3: Define the lower and upper bounds for non-outliers\n",
    "lower_bound = Q1 - 1.5 * IQR\n",
    "upper_bound = Q3 + 1.5 * IQR\n",
    "\n",
    "# Step 4: Filter the dataframe to remove rows where Age is an outlier\n",
    "df = df[(df['age'] >= lower_bound) & (df['age'] <= upper_bound)]\n",
    "\n",
    "# Display the number of rows before and after outlier removal\n",
    "print(\"Original number of rows:\", len(df))\n",
    "print(\"Number of rows after removing outliers:\", len(df))"
   ]
  },
  {
   "cell_type": "code",
   "execution_count": 97,
   "metadata": {},
   "outputs": [
    {
     "data": {
      "text/plain": [
       "<Axes: xlabel='age'>"
      ]
     },
     "execution_count": 97,
     "metadata": {},
     "output_type": "execute_result"
    },
    {
     "data": {
      "image/png": "[encoded data removed]",
      "text/plain": [
       "<Figure size 640x480 with 1 Axes>"
      ]
     },
     "metadata": {},
     "output_type": "display_data"
    }
   ],
   "source": [
    "sns.boxplot(df , x = 'age')"
   ]
  },
  {
   "cell_type": "code",
   "execution_count": 98,
   "metadata": {},
   "outputs": [
    {
     "name": "stdout",
     "output_type": "stream",
     "text": [
      "Remaining columns after deletion: Index(['survived', 'pclass', 'sex', 'age', 'sibsp', 'parch', 'fare',\n",
      "       'embarked', 'class', 'who', 'adult_male', 'embark_town', 'alive',\n",
      "       'alone'],\n",
      "      dtype='object')\n"
     ]
    }
   ],
   "source": [
    "df = df.drop(columns=['deck'], errors='ignore')\n",
    "\n",
    "# Display the remaining columns to confirm the deletion\n",
    "print(\"Remaining columns after deletion:\", df.columns)\n"
   ]
  },
  {
   "cell_type": "markdown",
   "metadata": {},
   "source": [
    "### Reason for Deleting the deck Column\n",
    "1. **Irrelevance:** If the deck column does not provide meaningful information for the analysis or prediction tasks, it may be considered irrelevant. For instance, if you are primarily focusing on predicting survival based on passenger demographics and fare information, the deck number may not significantly contribute to the predictive power.\n",
    "\n",
    "2. **High Cardinality:** The deck column often contains many unique values (e.g., A, B, C, D, E, etc.). This high cardinality can lead to overfitting in machine learning models, especially if there are very few samples for some decks. In such cases, it's better to remove this feature to simplify the model.\n",
    "\n",
    "3. **Missing Data:** The deck column may have a high percentage of missing values (which is common in the Titanic dataset). If a significant portion of this column contains missing data, it might not be worth keeping it in the analysis, as it could lead to biased results.\n",
    "\n",
    "4. **Data Redundancy:** The information contained in the deck column might be captured by other features (e.g., class or fare). If there is redundancy, it is a good practice to remove one of the correlated features to avoid multicollinearity."
   ]
  },
  {
   "cell_type": "code",
   "execution_count": 99,
   "metadata": {},
   "outputs": [
    {
     "data": {
      "text/plain": [
       "Index(['survived', 'pclass', 'sex', 'age', 'sibsp', 'parch', 'fare',\n",
       "       'embarked', 'class', 'who', 'adult_male', 'embark_town', 'alive',\n",
       "       'alone'],\n",
       "      dtype='object')"
      ]
     },
     "execution_count": 99,
     "metadata": {},
     "output_type": "execute_result"
    }
   ],
   "source": [
    "df.columns"
   ]
  },
  {
   "cell_type": "code",
   "execution_count": 100,
   "metadata": {},
   "outputs": [
    {
     "data": {
      "application/vnd.plotly.v1+json": {
       "config": {
        "plotlyServerURL": "https://plot.ly"
       },
       "data": [
        {
         "alignmentgroup": "True",
         "hovertemplate": "fare=%{x}<extra></extra>",
         "legendgroup": "",
         "marker": {
          "color": "#636efa"
         },
         "name": "",
         "notched": false,
         "offsetgroup": "",
         "orientation": "h",
         "showlegend": false,
         "type": "box",
         "x": [
          7.25,
          71.2833,
          7.925,
          53.1,
          8.05,
          8.4583,
          51.8625,
          11.1333,
          30.0708,
          16.7,
          8.05,
          31.275,
          7.8542,
          13,
          18,
          7.225,
          26,
          13,
          8.0292,
          35.5,
          21.075,
          31.3875,
          7.225,
          263,
          7.8792,
          7.8958,
          27.7208,
          146.5208,
          7.75,
          82.1708,
          52,
          7.2292,
          8.05,
          18,
          11.2417,
          9.475,
          21,
          7.8958,
          41.5792,
          7.8792,
          8.05,
          15.5,
          7.75,
          21.6792,
          17.8,
          39.6875,
          7.8,
          76.7292,
          26,
          35.5,
          10.5,
          7.2292,
          27.75,
          46.9,
          7.2292,
          80,
          83.475,
          27.9,
          27.7208,
          15.2458,
          10.5,
          8.1583,
          7.925,
          8.6625,
          10.5,
          46.9,
          73.5,
          14.4542,
          56.4958,
          7.65,
          7.8958,
          8.05,
          12.475,
          9,
          9.5,
          7.7875,
          47.1,
          10.5,
          15.85,
          34.375,
          8.05,
          263,
          8.05,
          8.05,
          7.8542,
          61.175,
          20.575,
          8.05,
          63.3583,
          23,
          26,
          7.8958,
          7.8958,
          77.2875,
          8.6542,
          7.925,
          7.8958,
          7.65,
          7.775,
          7.8958,
          24.15,
          52,
          14.4542,
          8.05,
          9.825,
          14.4583,
          7.925,
          21,
          247.5208,
          73.5,
          8.05,
          30.0708,
          13,
          77.2875,
          11.2417,
          7.75,
          7.1417,
          22.3583,
          6.975,
          7.8958,
          7.05,
          14.5,
          26,
          13,
          15.0458,
          26.2833,
          53.1,
          9.2167,
          79.2,
          15.2458,
          7.75,
          15.85,
          6.75,
          11.5,
          36.75,
          7.7958,
          34.375,
          26,
          13,
          12.525,
          66.6,
          14.5,
          7.3125,
          61.3792,
          7.7333,
          8.05,
          8.6625,
          69.55,
          16.1,
          15.75,
          7.775,
          8.6625,
          20.525,
          55,
          27.9,
          25.925,
          56.4958,
          29.125,
          7.925,
          7.8542,
          25.4667,
          28.7125,
          13,
          0,
          69.55,
          15.05,
          31.3875,
          22.025,
          50,
          15.5,
          26.55,
          15.5,
          7.8958,
          13,
          13,
          7.8542,
          26,
          27.7208,
          7.75,
          8.4042,
          7.75,
          13,
          9.5,
          69.55,
          6.4958,
          7.225,
          8.05,
          15.85,
          18.7875,
          7.75,
          31,
          7.05,
          21,
          7.25,
          13,
          7.75,
          113.275,
          7.925,
          27,
          76.2917,
          10.5,
          8.05,
          13,
          8.05,
          7.8958,
          90,
          9.35,
          10.5,
          7.25,
          13,
          25.4667,
          83.475,
          7.775,
          31.3875,
          10.5,
          7.55,
          26,
          26.25,
          10.5,
          12.275,
          14.4542,
          15.5,
          10.5,
          7.125,
          7.225,
          90,
          7.775,
          14.5,
          52.5542,
          26,
          7.25,
          10.4625,
          16.1,
          20.2125,
          15.2458,
          79.2,
          86.5,
          512.3292,
          26,
          7.75,
          31.3875,
          79.65,
          0,
          7.75,
          10.5,
          39.6875,
          7.775,
          135.6333,
          31,
          0,
          19.5,
          29.7,
          7.75,
          7.75,
          0,
          29.125,
          20.25,
          7.8542,
          9.5,
          8.05,
          26,
          8.6625,
          9.5,
          7.8958,
          13,
          7.75,
          78.85,
          91.0792,
          12.875,
          8.85,
          7.8958,
          27.7208,
          7.2292,
          30.5,
          247.5208,
          7.75,
          23.25,
          0,
          12.35,
          8.05,
          110.8833,
          108.9,
          24,
          56.9292,
          83.1583,
          262.375,
          26,
          7.8958,
          26.25,
          7.8542,
          26,
          14,
          164.8667,
          134.5,
          7.25,
          7.8958,
          12.35,
          29,
          69.55,
          135.6333,
          13,
          20.525,
          57.9792,
          23.25,
          28.5,
          153.4625,
          18,
          133.65,
          7.8958,
          66.6,
          134.5,
          8.05,
          35.5,
          263,
          13,
          13,
          13,
          13,
          13,
          16.1,
          15.9,
          8.6625,
          9.225,
          35,
          7.2292,
          17.8,
          7.225,
          9.5,
          55,
          13,
          7.8792,
          7.8792,
          27.9,
          27.7208,
          14.4542,
          7.05,
          15.5,
          7.25,
          7.2292,
          7.75,
          69.3,
          55.4417,
          6.4958,
          8.05,
          135.6333,
          21.075,
          82.1708,
          7.25,
          211.5,
          4.0125,
          7.775,
          227.525,
          7.925,
          52,
          7.8958,
          73.5,
          13,
          7.7292,
          12,
          120,
          7.7958,
          7.925,
          113.275,
          16.7,
          7.7958,
          7.8542,
          26,
          10.5,
          12.65,
          7.925,
          8.05,
          9.825,
          15.85,
          8.6625,
          21,
          7.75,
          18.75,
          7.775,
          25.4667,
          7.8958,
          6.8583,
          90,
          0,
          7.925,
          8.05,
          32.5,
          13,
          13,
          24.15,
          7.8958,
          7.7333,
          7.875,
          14.4,
          20.2125,
          7.25,
          26,
          26,
          7.75,
          8.05,
          26.55,
          16.1,
          26,
          7.125,
          55.9,
          120,
          34.375,
          18.75,
          10.5,
          26.25,
          9.5,
          7.775,
          13,
          8.1125,
          81.8583,
          19.5,
          26.55,
          19.2583,
          30.5,
          27.75,
          19.9667,
          27.75,
          89.1042,
          8.05,
          7.8958,
          51.8625,
          10.5,
          7.75,
          26.55,
          8.05,
          38.5,
          13,
          8.05,
          7.05,
          0,
          7.725,
          7.25,
          8.6625,
          27.75,
          13.7917,
          9.8375,
          52,
          21,
          7.0458,
          7.5208,
          46.9,
          0,
          8.05,
          91.0792,
          25.4667,
          90,
          8.05,
          15.9,
          19.9667,
          7.25,
          8.05,
          14.4583,
          78.2667,
          15.1,
          151.55,
          7.7958,
          8.6625,
          7.75,
          7.6292,
          9.5875,
          86.5,
          108.9,
          26,
          26.55,
          22.525,
          56.4958,
          7.75,
          8.05,
          26.2875,
          59.4,
          7.4958,
          34.0208,
          10.5,
          24.15,
          26,
          7.8958,
          93.5,
          7.8958,
          7.225,
          57.9792,
          7.2292,
          7.75,
          10.5,
          221.7792,
          7.925,
          11.5,
          7.2292,
          7.2292,
          22.3583,
          8.6625,
          26.25,
          26.55,
          106.425,
          14.5,
          49.5,
          71,
          31.275,
          31.275,
          26,
          106.425,
          26,
          13.8625,
          20.525,
          36.75,
          110.8833,
          26,
          7.8292,
          7.225,
          7.775,
          39.6,
          227.525,
          79.65,
          17.4,
          7.75,
          7.8958,
          13.5,
          8.05,
          8.05,
          24.15,
          7.8958,
          21.075,
          7.2292,
          7.8542,
          51.4792,
          26.3875,
          7.75,
          8.05,
          14.5,
          13,
          55.9,
          14.4583,
          7.925,
          30,
          110.8833,
          26,
          40.125,
          8.7125,
          79.65,
          15,
          8.05,
          8.05,
          7.125,
          78.2667,
          7.25,
          7.75,
          26,
          24.15,
          33,
          0,
          7.225,
          56.9292,
          27,
          7.8958,
          42.4,
          8.05,
          26.55,
          15.55,
          7.8958,
          30.5,
          41.5792,
          153.4625,
          31.275,
          7.05,
          15.5,
          7.75,
          8.05,
          65,
          14.4,
          16.1,
          39,
          10.5,
          14.4542,
          52.5542,
          15.7417,
          7.8542,
          16.1,
          77.9583,
          7.8958,
          7.7333,
          7.0542,
          30.5,
          0,
          27.9,
          13,
          7.925,
          26.25,
          39.6875,
          16.1,
          7.8542,
          69.3,
          56.4958,
          76.7292,
          7.8958,
          7.55,
          7.55,
          7.8958,
          23,
          8.4333,
          7.8292,
          6.75,
          73.5,
          7.8958,
          15.5,
          13,
          133.65,
          7.225,
          25.5875,
          7.4958,
          7.925,
          73.5,
          13,
          7.775,
          8.05,
          52,
          39,
          52,
          13,
          0,
          7.775,
          8.05,
          9.8417,
          46.9,
          512.3292,
          8.1375,
          76.7292,
          9.225,
          46.9,
          41.5792,
          39.6875,
          10.1708,
          7.7958,
          211.3375,
          57,
          13.4167,
          56.4958,
          7.225,
          13.5,
          8.05,
          7.7333,
          110.8833,
          7.65,
          227.525,
          26.2875,
          14.4542,
          7.7417,
          7.8542,
          26,
          13.5,
          26.2875,
          151.55,
          15.2458,
          49.5042,
          26.55,
          52,
          9.4833,
          13,
          7.65,
          227.525,
          10.5,
          15.5,
          7.775,
          33,
          7.0542,
          13,
          13,
          53.1,
          8.6625,
          21,
          7.7375,
          26,
          7.925,
          211.3375,
          18.7875,
          0,
          13,
          13,
          16.1,
          34.375,
          512.3292,
          7.8958,
          7.8958,
          30,
          78.85,
          262.375,
          16.1,
          7.925,
          20.25,
          13,
          53.1,
          7.75,
          23,
          12.475,
          9.5,
          7.8958,
          65,
          7.7958,
          11.5,
          8.05,
          86.5,
          14.5,
          7.125,
          7.2292,
          120,
          7.775,
          77.9583,
          39.6,
          7.75,
          24.15,
          8.3625,
          9.5,
          7.8542,
          7.225,
          23,
          7.75,
          7.75,
          12.475,
          7.7375,
          211.3375,
          7.2292,
          57,
          30,
          23.45,
          7.05,
          7.25,
          7.4958,
          29.125,
          79.2,
          7.75,
          26,
          69.55,
          30.6958,
          7.8958,
          13,
          25.9292,
          8.6833,
          7.2292,
          24.15,
          13,
          26.25,
          120,
          6.975,
          7.775,
          0,
          7.775,
          13,
          53.1,
          7.8875,
          24.15,
          10.5,
          31.275,
          8.05,
          0,
          7.925,
          37.0042,
          6.45,
          27.9,
          93.5,
          8.6625,
          0,
          12.475,
          6.95,
          56.4958,
          7.75,
          14.4542,
          7.2292,
          7.8542,
          8.3,
          83.1583,
          8.6625,
          8.05,
          56.4958,
          29.7,
          7.925,
          10.5,
          31,
          6.4375,
          8.6625,
          7.55,
          69.55,
          7.8958,
          33,
          89.1042,
          31.275,
          15.2458,
          39.4,
          26,
          9.35,
          164.8667,
          26.55,
          19.2583,
          7.2292,
          14.1083,
          11.5,
          25.9292,
          69.55,
          13,
          13,
          13.8583,
          50.4958,
          9.5,
          11.1333,
          7.8958,
          52.5542,
          5,
          9,
          24,
          7.225,
          9.8458,
          7.8958,
          7.8958,
          26,
          7.8958,
          10.5167,
          10.5,
          7.05,
          29.125,
          13,
          30,
          23.45,
          30,
          7.75
         ],
         "x0": " ",
         "xaxis": "x",
         "y0": " ",
         "yaxis": "y"
        }
       ],
       "layout": {
        "boxmode": "group",
        "legend": {
         "tracegroupgap": 0
        },
        "margin": {
         "t": 60
        },
        "template": {
         "data": {
          "bar": [
           {
            "error_x": {
             "color": "#2a3f5f"
            },
            "error_y": {
             "color": "#2a3f5f"
            },
            "marker": {
             "line": {
              "color": "#E5ECF6",
              "width": 0.5
             },
             "pattern": {
              "fillmode": "overlay",
              "size": 10,
              "solidity": 0.2
             }
            },
            "type": "bar"
           }
          ],
          "barpolar": [
           {
            "marker": {
             "line": {
              "color": "#E5ECF6",
              "width": 0.5
             },
             "pattern": {
              "fillmode": "overlay",
              "size": 10,
              "solidity": 0.2
             }
            },
            "type": "barpolar"
           }
          ],
          "carpet": [
           {
            "aaxis": {
             "endlinecolor": "#2a3f5f",
             "gridcolor": "white",
             "linecolor": "white",
             "minorgridcolor": "white",
             "startlinecolor": "#2a3f5f"
            },
            "baxis": {
             "endlinecolor": "#2a3f5f",
             "gridcolor": "white",
             "linecolor": "white",
             "minorgridcolor": "white",
             "startlinecolor": "#2a3f5f"
            },
            "type": "carpet"
           }
          ],
          "choropleth": [
           {
            "colorbar": {
             "outlinewidth": 0,
             "ticks": ""
            },
            "type": "choropleth"
           }
          ],
          "contour": [
           {
            "colorbar": {
             "outlinewidth": 0,
             "ticks": ""
            },
            "colorscale": [
             [
              0,
              "#0d0887"
             ],
             [
              0.1111111111111111,
              "#46039f"
             ],
             [
              0.2222222222222222,
              "#7201a8"
             ],
             [
              0.3333333333333333,
              "#9c179e"
             ],
             [
              0.4444444444444444,
              "#bd3786"
             ],
             [
              0.5555555555555556,
              "#d8576b"
             ],
             [
              0.6666666666666666,
              "#ed7953"
             ],
             [
              0.7777777777777778,
              "#fb9f3a"
             ],
             [
              0.8888888888888888,
              "#fdca26"
             ],
             [
              1,
              "#f0f921"
             ]
            ],
            "type": "contour"
           }
          ],
          "contourcarpet": [
           {
            "colorbar": {
             "outlinewidth": 0,
             "ticks": ""
            },
            "type": "contourcarpet"
           }
          ],
          "heatmap": [
           {
            "colorbar": {
             "outlinewidth": 0,
             "ticks": ""
            },
            "colorscale": [
             [
              0,
              "#0d0887"
             ],
             [
              0.1111111111111111,
              "#46039f"
             ],
             [
              0.2222222222222222,
              "#7201a8"
             ],
             [
              0.3333333333333333,
              "#9c179e"
             ],
             [
              0.4444444444444444,
              "#bd3786"
             ],
             [
              0.5555555555555556,
              "#d8576b"
             ],
             [
              0.6666666666666666,
              "#ed7953"
             ],
             [
              0.7777777777777778,
              "#fb9f3a"
             ],
             [
              0.8888888888888888,
              "#fdca26"
             ],
             [
              1,
              "#f0f921"
             ]
            ],
            "type": "heatmap"
           }
          ],
          "heatmapgl": [
           {
            "colorbar": {
             "outlinewidth": 0,
             "ticks": ""
            },
            "colorscale": [
             [
              0,
              "#0d0887"
             ],
             [
              0.1111111111111111,
              "#46039f"
             ],
             [
              0.2222222222222222,
              "#7201a8"
             ],
             [
              0.3333333333333333,
              "#9c179e"
             ],
             [
              0.4444444444444444,
              "#bd3786"
             ],
             [
              0.5555555555555556,
              "#d8576b"
             ],
             [
              0.6666666666666666,
              "#ed7953"
             ],
             [
              0.7777777777777778,
              "#fb9f3a"
             ],
             [
              0.8888888888888888,
              "#fdca26"
             ],
             [
              1,
              "#f0f921"
             ]
            ],
            "type": "heatmapgl"
           }
          ],
          "histogram": [
           {
            "marker": {
             "pattern": {
              "fillmode": "overlay",
              "size": 10,
              "solidity": 0.2
             }
            },
            "type": "histogram"
           }
          ],
          "histogram2d": [
           {
            "colorbar": {
             "outlinewidth": 0,
             "ticks": ""
            },
            "colorscale": [
             [
              0,
              "#0d0887"
             ],
             [
              0.1111111111111111,
              "#46039f"
             ],
             [
              0.2222222222222222,
              "#7201a8"
             ],
             [
              0.3333333333333333,
              "#9c179e"
             ],
             [
              0.4444444444444444,
              "#bd3786"
             ],
             [
              0.5555555555555556,
              "#d8576b"
             ],
             [
              0.6666666666666666,
              "#ed7953"
             ],
             [
              0.7777777777777778,
              "#fb9f3a"
             ],
             [
              0.8888888888888888,
              "#fdca26"
             ],
             [
              1,
              "#f0f921"
             ]
            ],
            "type": "histogram2d"
           }
          ],
          "histogram2dcontour": [
           {
            "colorbar": {
             "outlinewidth": 0,
             "ticks": ""
            },
            "colorscale": [
             [
              0,
              "#0d0887"
             ],
             [
              0.1111111111111111,
              "#46039f"
             ],
             [
              0.2222222222222222,
              "#7201a8"
             ],
             [
              0.3333333333333333,
              "#9c179e"
             ],
             [
              0.4444444444444444,
              "#bd3786"
             ],
             [
              0.5555555555555556,
              "#d8576b"
             ],
             [
              0.6666666666666666,
              "#ed7953"
             ],
             [
              0.7777777777777778,
              "#fb9f3a"
             ],
             [
              0.8888888888888888,
              "#fdca26"
             ],
             [
              1,
              "#f0f921"
             ]
            ],
            "type": "histogram2dcontour"
           }
          ],
          "mesh3d": [
           {
            "colorbar": {
             "outlinewidth": 0,
             "ticks": ""
            },
            "type": "mesh3d"
           }
          ],
          "parcoords": [
           {
            "line": {
             "colorbar": {
              "outlinewidth": 0,
              "ticks": ""
             }
            },
            "type": "parcoords"
           }
          ],
          "pie": [
           {
            "automargin": true,
            "type": "pie"
           }
          ],
          "scatter": [
           {
            "fillpattern": {
             "fillmode": "overlay",
             "size": 10,
             "solidity": 0.2
            },
            "type": "scatter"
           }
          ],
          "scatter3d": [
           {
            "line": {
             "colorbar": {
              "outlinewidth": 0,
              "ticks": ""
             }
            },
            "marker": {
             "colorbar": {
              "outlinewidth": 0,
              "ticks": ""
             }
            },
            "type": "scatter3d"
           }
          ],
          "scattercarpet": [
           {
            "marker": {
             "colorbar": {
              "outlinewidth": 0,
              "ticks": ""
             }
            },
            "type": "scattercarpet"
           }
          ],
          "scattergeo": [
           {
            "marker": {
             "colorbar": {
              "outlinewidth": 0,
              "ticks": ""
             }
            },
            "type": "scattergeo"
           }
          ],
          "scattergl": [
           {
            "marker": {
             "colorbar": {
              "outlinewidth": 0,
              "ticks": ""
             }
            },
            "type": "scattergl"
           }
          ],
          "scattermapbox": [
           {
            "marker": {
             "colorbar": {
              "outlinewidth": 0,
              "ticks": ""
             }
            },
            "type": "scattermapbox"
           }
          ],
          "scatterpolar": [
           {
            "marker": {
             "colorbar": {
              "outlinewidth": 0,
              "ticks": ""
             }
            },
            "type": "scatterpolar"
           }
          ],
          "scatterpolargl": [
           {
            "marker": {
             "colorbar": {
              "outlinewidth": 0,
              "ticks": ""
             }
            },
            "type": "scatterpolargl"
           }
          ],
          "scatterternary": [
           {
            "marker": {
             "colorbar": {
              "outlinewidth": 0,
              "ticks": ""
             }
            },
            "type": "scatterternary"
           }
          ],
          "surface": [
           {
            "colorbar": {
             "outlinewidth": 0,
             "ticks": ""
            },
            "colorscale": [
             [
              0,
              "#0d0887"
             ],
             [
              0.1111111111111111,
              "#46039f"
             ],
             [
              0.2222222222222222,
              "#7201a8"
             ],
             [
              0.3333333333333333,
              "#9c179e"
             ],
             [
              0.4444444444444444,
              "#bd3786"
             ],
             [
              0.5555555555555556,
              "#d8576b"
             ],
             [
              0.6666666666666666,
              "#ed7953"
             ],
             [
              0.7777777777777778,
              "#fb9f3a"
             ],
             [
              0.8888888888888888,
              "#fdca26"
             ],
             [
              1,
              "#f0f921"
             ]
            ],
            "type": "surface"
           }
          ],
          "table": [
           {
            "cells": {
             "fill": {
              "color": "#EBF0F8"
             },
             "line": {
              "color": "white"
             }
            },
            "header": {
             "fill": {
              "color": "#C8D4E3"
             },
             "line": {
              "color": "white"
             }
            },
            "type": "table"
           }
          ]
         },
         "layout": {
          "annotationdefaults": {
           "arrowcolor": "#2a3f5f",
           "arrowhead": 0,
           "arrowwidth": 1
          },
          "autotypenumbers": "strict",
          "coloraxis": {
           "colorbar": {
            "outlinewidth": 0,
            "ticks": ""
           }
          },
          "colorscale": {
           "diverging": [
            [
             0,
             "#8e0152"
            ],
            [
             0.1,
             "#c51b7d"
            ],
            [
             0.2,
             "#de77ae"
            ],
            [
             0.3,
             "#f1b6da"
            ],
            [
             0.4,
             "#fde0ef"
            ],
            [
             0.5,
             "#f7f7f7"
            ],
            [
             0.6,
             "#e6f5d0"
            ],
            [
             0.7,
             "#b8e186"
            ],
            [
             0.8,
             "#7fbc41"
            ],
            [
             0.9,
             "#4d9221"
            ],
            [
             1,
             "#276419"
            ]
           ],
           "sequential": [
            [
             0,
             "#0d0887"
            ],
            [
             0.1111111111111111,
             "#46039f"
            ],
            [
             0.2222222222222222,
             "#7201a8"
            ],
            [
             0.3333333333333333,
             "#9c179e"
            ],
            [
             0.4444444444444444,
             "#bd3786"
            ],
            [
             0.5555555555555556,
             "#d8576b"
            ],
            [
             0.6666666666666666,
             "#ed7953"
            ],
            [
             0.7777777777777778,
             "#fb9f3a"
            ],
            [
             0.8888888888888888,
             "#fdca26"
            ],
            [
             1,
             "#f0f921"
            ]
           ],
           "sequentialminus": [
            [
             0,
             "#0d0887"
            ],
            [
             0.1111111111111111,
             "#46039f"
            ],
            [
             0.2222222222222222,
             "#7201a8"
            ],
            [
             0.3333333333333333,
             "#9c179e"
            ],
            [
             0.4444444444444444,
             "#bd3786"
            ],
            [
             0.5555555555555556,
             "#d8576b"
            ],
            [
             0.6666666666666666,
             "#ed7953"
            ],
            [
             0.7777777777777778,
             "#fb9f3a"
            ],
            [
             0.8888888888888888,
             "#fdca26"
            ],
            [
             1,
             "#f0f921"
            ]
           ]
          },
          "colorway": [
           "#636efa",
           "#EF553B",
           "#00cc96",
           "#ab63fa",
           "#FFA15A",
           "#19d3f3",
           "#FF6692",
           "#B6E880",
           "#FF97FF",
           "#FECB52"
          ],
          "font": {
           "color": "#2a3f5f"
          },
          "geo": {
           "bgcolor": "white",
           "lakecolor": "white",
           "landcolor": "#E5ECF6",
           "showlakes": true,
           "showland": true,
           "subunitcolor": "white"
          },
          "hoverlabel": {
           "align": "left"
          },
          "hovermode": "closest",
          "mapbox": {
           "style": "light"
          },
          "paper_bgcolor": "white",
          "plot_bgcolor": "#E5ECF6",
          "polar": {
           "angularaxis": {
            "gridcolor": "white",
            "linecolor": "white",
            "ticks": ""
           },
           "bgcolor": "#E5ECF6",
           "radialaxis": {
            "gridcolor": "white",
            "linecolor": "white",
            "ticks": ""
           }
          },
          "scene": {
           "xaxis": {
            "backgroundcolor": "#E5ECF6",
            "gridcolor": "white",
            "gridwidth": 2,
            "linecolor": "white",
            "showbackground": true,
            "ticks": "",
            "zerolinecolor": "white"
           },
           "yaxis": {
            "backgroundcolor": "#E5ECF6",
            "gridcolor": "white",
            "gridwidth": 2,
            "linecolor": "white",
            "showbackground": true,
            "ticks": "",
            "zerolinecolor": "white"
           },
           "zaxis": {
            "backgroundcolor": "#E5ECF6",
            "gridcolor": "white",
            "gridwidth": 2,
            "linecolor": "white",
            "showbackground": true,
            "ticks": "",
            "zerolinecolor": "white"
           }
          },
          "shapedefaults": {
           "line": {
            "color": "#2a3f5f"
           }
          },
          "ternary": {
           "aaxis": {
            "gridcolor": "white",
            "linecolor": "white",
            "ticks": ""
           },
           "baxis": {
            "gridcolor": "white",
            "linecolor": "white",
            "ticks": ""
           },
           "bgcolor": "#E5ECF6",
           "caxis": {
            "gridcolor": "white",
            "linecolor": "white",
            "ticks": ""
           }
          },
          "title": {
           "x": 0.05
          },
          "xaxis": {
           "automargin": true,
           "gridcolor": "white",
           "linecolor": "white",
           "ticks": "",
           "title": {
            "standoff": 15
           },
           "zerolinecolor": "white",
           "zerolinewidth": 2
          },
          "yaxis": {
           "automargin": true,
           "gridcolor": "white",
           "linecolor": "white",
           "ticks": "",
           "title": {
            "standoff": 15
           },
           "zerolinecolor": "white",
           "zerolinewidth": 2
          }
         }
        },
        "xaxis": {
         "anchor": "y",
         "domain": [
          0,
          1
         ],
         "title": {
          "text": "fare"
         }
        },
        "yaxis": {
         "anchor": "x",
         "domain": [
          0,
          1
         ]
        }
       }
      }
     },
     "metadata": {},
     "output_type": "display_data"
    }
   ],
   "source": [
    "fig = px.box( df , x = 'fare')\n",
    "fig.show()"
   ]
  },
  {
   "cell_type": "code",
   "execution_count": 101,
   "metadata": {},
   "outputs": [],
   "source": [
    "# Step 2: Calculate Q1, Q3, and IQR for the Fare column\n",
    "Q1 = df['fare'].quantile(0.25)\n",
    "Q3 = df['fare'].quantile(0.75)\n",
    "IQR = Q3 - Q1\n",
    "\n",
    "# Step 3: Define the lower and upper bounds for non-outliers\n",
    "lower_bound = Q1 - 1.5 * IQR\n",
    "upper_bound = Q3 + 1.5 * IQR\n",
    "\n",
    "# Step 4: Filter the dataframe to remove rows where Fare is an outlier\n",
    "df = df[(df['fare'] >= lower_bound) & (df['fare'] <= upper_bound)]\n"
   ]
  },
  {
   "cell_type": "code",
   "execution_count": 102,
   "metadata": {},
   "outputs": [
    {
     "data": {
      "application/vnd.plotly.v1+json": {
       "config": {
        "plotlyServerURL": "https://plot.ly"
       },
       "data": [
        {
         "alignmentgroup": "True",
         "hovertemplate": "fare=%{x}<extra></extra>",
         "legendgroup": "",
         "marker": {
          "color": "#636efa"
         },
         "name": "",
         "notched": false,
         "offsetgroup": "",
         "orientation": "h",
         "showlegend": false,
         "type": "box",
         "x": [
          7.25,
          7.925,
          53.1,
          8.05,
          8.4583,
          51.8625,
          11.1333,
          30.0708,
          16.7,
          8.05,
          31.275,
          7.8542,
          13,
          18,
          7.225,
          26,
          13,
          8.0292,
          35.5,
          21.075,
          31.3875,
          7.225,
          7.8792,
          7.8958,
          27.7208,
          7.75,
          52,
          7.2292,
          8.05,
          18,
          11.2417,
          9.475,
          21,
          7.8958,
          41.5792,
          7.8792,
          8.05,
          15.5,
          7.75,
          21.6792,
          17.8,
          39.6875,
          7.8,
          26,
          35.5,
          10.5,
          7.2292,
          27.75,
          46.9,
          7.2292,
          27.9,
          27.7208,
          15.2458,
          10.5,
          8.1583,
          7.925,
          8.6625,
          10.5,
          46.9,
          14.4542,
          56.4958,
          7.65,
          7.8958,
          8.05,
          12.475,
          9,
          9.5,
          7.7875,
          47.1,
          10.5,
          15.85,
          34.375,
          8.05,
          8.05,
          8.05,
          7.8542,
          61.175,
          20.575,
          8.05,
          23,
          26,
          7.8958,
          7.8958,
          8.6542,
          7.925,
          7.8958,
          7.65,
          7.775,
          7.8958,
          24.15,
          52,
          14.4542,
          8.05,
          9.825,
          14.4583,
          7.925,
          21,
          8.05,
          30.0708,
          13,
          11.2417,
          7.75,
          7.1417,
          22.3583,
          6.975,
          7.8958,
          7.05,
          14.5,
          26,
          13,
          15.0458,
          26.2833,
          53.1,
          9.2167,
          15.2458,
          7.75,
          15.85,
          6.75,
          11.5,
          36.75,
          7.7958,
          34.375,
          26,
          13,
          12.525,
          14.5,
          7.3125,
          61.3792,
          7.7333,
          8.05,
          8.6625,
          16.1,
          15.75,
          7.775,
          8.6625,
          20.525,
          55,
          27.9,
          25.925,
          56.4958,
          29.125,
          7.925,
          7.8542,
          25.4667,
          28.7125,
          13,
          0,
          15.05,
          31.3875,
          22.025,
          50,
          15.5,
          26.55,
          15.5,
          7.8958,
          13,
          13,
          7.8542,
          26,
          27.7208,
          7.75,
          8.4042,
          7.75,
          13,
          9.5,
          6.4958,
          7.225,
          8.05,
          15.85,
          18.7875,
          7.75,
          31,
          7.05,
          21,
          7.25,
          13,
          7.75,
          7.925,
          27,
          10.5,
          8.05,
          13,
          8.05,
          7.8958,
          9.35,
          10.5,
          7.25,
          13,
          25.4667,
          7.775,
          31.3875,
          10.5,
          7.55,
          26,
          26.25,
          10.5,
          12.275,
          14.4542,
          15.5,
          10.5,
          7.125,
          7.225,
          7.775,
          14.5,
          52.5542,
          26,
          7.25,
          10.4625,
          16.1,
          20.2125,
          15.2458,
          26,
          7.75,
          31.3875,
          0,
          7.75,
          10.5,
          39.6875,
          7.775,
          31,
          0,
          19.5,
          29.7,
          7.75,
          7.75,
          0,
          29.125,
          20.25,
          7.8542,
          9.5,
          8.05,
          26,
          8.6625,
          9.5,
          7.8958,
          13,
          7.75,
          12.875,
          8.85,
          7.8958,
          27.7208,
          7.2292,
          30.5,
          7.75,
          23.25,
          0,
          12.35,
          8.05,
          24,
          56.9292,
          26,
          7.8958,
          26.25,
          7.8542,
          26,
          14,
          7.25,
          7.8958,
          12.35,
          29,
          13,
          20.525,
          57.9792,
          23.25,
          28.5,
          18,
          7.8958,
          8.05,
          35.5,
          13,
          13,
          13,
          13,
          13,
          16.1,
          15.9,
          8.6625,
          9.225,
          35,
          7.2292,
          17.8,
          7.225,
          9.5,
          55,
          13,
          7.8792,
          7.8792,
          27.9,
          27.7208,
          14.4542,
          7.05,
          15.5,
          7.25,
          7.2292,
          7.75,
          55.4417,
          6.4958,
          8.05,
          21.075,
          7.25,
          4.0125,
          7.775,
          7.925,
          52,
          7.8958,
          13,
          7.7292,
          12,
          7.7958,
          7.925,
          16.7,
          7.7958,
          7.8542,
          26,
          10.5,
          12.65,
          7.925,
          8.05,
          9.825,
          15.85,
          8.6625,
          21,
          7.75,
          18.75,
          7.775,
          25.4667,
          7.8958,
          6.8583,
          0,
          7.925,
          8.05,
          32.5,
          13,
          13,
          24.15,
          7.8958,
          7.7333,
          7.875,
          14.4,
          20.2125,
          7.25,
          26,
          26,
          7.75,
          8.05,
          26.55,
          16.1,
          26,
          7.125,
          55.9,
          34.375,
          18.75,
          10.5,
          26.25,
          9.5,
          7.775,
          13,
          8.1125,
          19.5,
          26.55,
          19.2583,
          30.5,
          27.75,
          19.9667,
          27.75,
          8.05,
          7.8958,
          51.8625,
          10.5,
          7.75,
          26.55,
          8.05,
          38.5,
          13,
          8.05,
          7.05,
          0,
          7.725,
          7.25,
          8.6625,
          27.75,
          13.7917,
          9.8375,
          52,
          21,
          7.0458,
          7.5208,
          46.9,
          0,
          8.05,
          25.4667,
          8.05,
          15.9,
          19.9667,
          7.25,
          8.05,
          14.4583,
          15.1,
          7.7958,
          8.6625,
          7.75,
          7.6292,
          9.5875,
          26,
          26.55,
          22.525,
          56.4958,
          7.75,
          8.05,
          26.2875,
          59.4,
          7.4958,
          34.0208,
          10.5,
          24.15,
          26,
          7.8958,
          7.8958,
          7.225,
          57.9792,
          7.2292,
          7.75,
          10.5,
          7.925,
          11.5,
          7.2292,
          7.2292,
          22.3583,
          8.6625,
          26.25,
          26.55,
          14.5,
          49.5,
          31.275,
          31.275,
          26,
          26,
          13.8625,
          20.525,
          36.75,
          26,
          7.8292,
          7.225,
          7.775,
          39.6,
          17.4,
          7.75,
          7.8958,
          13.5,
          8.05,
          8.05,
          24.15,
          7.8958,
          21.075,
          7.2292,
          7.8542,
          51.4792,
          26.3875,
          7.75,
          8.05,
          14.5,
          13,
          55.9,
          14.4583,
          7.925,
          30,
          26,
          40.125,
          8.7125,
          15,
          8.05,
          8.05,
          7.125,
          7.25,
          7.75,
          26,
          24.15,
          33,
          0,
          7.225,
          56.9292,
          27,
          7.8958,
          42.4,
          8.05,
          26.55,
          15.55,
          7.8958,
          30.5,
          41.5792,
          31.275,
          7.05,
          15.5,
          7.75,
          8.05,
          14.4,
          16.1,
          39,
          10.5,
          14.4542,
          52.5542,
          15.7417,
          7.8542,
          16.1,
          7.8958,
          7.7333,
          7.0542,
          30.5,
          0,
          27.9,
          13,
          7.925,
          26.25,
          39.6875,
          16.1,
          7.8542,
          56.4958,
          7.8958,
          7.55,
          7.55,
          7.8958,
          23,
          8.4333,
          7.8292,
          6.75,
          7.8958,
          15.5,
          13,
          7.225,
          25.5875,
          7.4958,
          7.925,
          13,
          7.775,
          8.05,
          52,
          39,
          52,
          13,
          0,
          7.775,
          8.05,
          9.8417,
          46.9,
          8.1375,
          9.225,
          46.9,
          41.5792,
          39.6875,
          10.1708,
          7.7958,
          57,
          13.4167,
          56.4958,
          7.225,
          13.5,
          8.05,
          7.7333,
          7.65,
          26.2875,
          14.4542,
          7.7417,
          7.8542,
          26,
          13.5,
          26.2875,
          15.2458,
          49.5042,
          26.55,
          52,
          9.4833,
          13,
          7.65,
          10.5,
          15.5,
          7.775,
          33,
          7.0542,
          13,
          13,
          53.1,
          8.6625,
          21,
          7.7375,
          26,
          7.925,
          18.7875,
          0,
          13,
          13,
          16.1,
          34.375,
          7.8958,
          7.8958,
          30,
          16.1,
          7.925,
          20.25,
          13,
          53.1,
          7.75,
          23,
          12.475,
          9.5,
          7.8958,
          7.7958,
          11.5,
          8.05,
          14.5,
          7.125,
          7.2292,
          7.775,
          39.6,
          7.75,
          24.15,
          8.3625,
          9.5,
          7.8542,
          7.225,
          23,
          7.75,
          7.75,
          12.475,
          7.7375,
          7.2292,
          57,
          30,
          23.45,
          7.05,
          7.25,
          7.4958,
          29.125,
          7.75,
          26,
          30.6958,
          7.8958,
          13,
          25.9292,
          8.6833,
          7.2292,
          24.15,
          13,
          26.25,
          6.975,
          7.775,
          0,
          7.775,
          13,
          53.1,
          7.8875,
          24.15,
          10.5,
          31.275,
          8.05,
          0,
          7.925,
          37.0042,
          6.45,
          27.9,
          8.6625,
          0,
          12.475,
          6.95,
          56.4958,
          7.75,
          14.4542,
          7.2292,
          7.8542,
          8.3,
          8.6625,
          8.05,
          56.4958,
          29.7,
          7.925,
          10.5,
          31,
          6.4375,
          8.6625,
          7.55,
          7.8958,
          33,
          31.275,
          15.2458,
          39.4,
          26,
          9.35,
          26.55,
          19.2583,
          7.2292,
          14.1083,
          11.5,
          25.9292,
          13,
          13,
          13.8583,
          50.4958,
          9.5,
          11.1333,
          7.8958,
          52.5542,
          5,
          9,
          24,
          7.225,
          9.8458,
          7.8958,
          7.8958,
          26,
          7.8958,
          10.5167,
          10.5,
          7.05,
          29.125,
          13,
          30,
          23.45,
          30,
          7.75
         ],
         "x0": " ",
         "xaxis": "x",
         "y0": " ",
         "yaxis": "y"
        }
       ],
       "layout": {
        "boxmode": "group",
        "legend": {
         "tracegroupgap": 0
        },
        "margin": {
         "t": 60
        },
        "template": {
         "data": {
          "bar": [
           {
            "error_x": {
             "color": "#2a3f5f"
            },
            "error_y": {
             "color": "#2a3f5f"
            },
            "marker": {
             "line": {
              "color": "#E5ECF6",
              "width": 0.5
             },
             "pattern": {
              "fillmode": "overlay",
              "size": 10,
              "solidity": 0.2
             }
            },
            "type": "bar"
           }
          ],
          "barpolar": [
           {
            "marker": {
             "line": {
              "color": "#E5ECF6",
              "width": 0.5
             },
             "pattern": {
              "fillmode": "overlay",
              "size": 10,
              "solidity": 0.2
             }
            },
            "type": "barpolar"
           }
          ],
          "carpet": [
           {
            "aaxis": {
             "endlinecolor": "#2a3f5f",
             "gridcolor": "white",
             "linecolor": "white",
             "minorgridcolor": "white",
             "startlinecolor": "#2a3f5f"
            },
            "baxis": {
             "endlinecolor": "#2a3f5f",
             "gridcolor": "white",
             "linecolor": "white",
             "minorgridcolor": "white",
             "startlinecolor": "#2a3f5f"
            },
            "type": "carpet"
           }
          ],
          "choropleth": [
           {
            "colorbar": {
             "outlinewidth": 0,
             "ticks": ""
            },
            "type": "choropleth"
           }
          ],
          "contour": [
           {
            "colorbar": {
             "outlinewidth": 0,
             "ticks": ""
            },
            "colorscale": [
             [
              0,
              "#0d0887"
             ],
             [
              0.1111111111111111,
              "#46039f"
             ],
             [
              0.2222222222222222,
              "#7201a8"
             ],
             [
              0.3333333333333333,
              "#9c179e"
             ],
             [
              0.4444444444444444,
              "#bd3786"
             ],
             [
              0.5555555555555556,
              "#d8576b"
             ],
             [
              0.6666666666666666,
              "#ed7953"
             ],
             [
              0.7777777777777778,
              "#fb9f3a"
             ],
             [
              0.8888888888888888,
              "#fdca26"
             ],
             [
              1,
              "#f0f921"
             ]
            ],
            "type": "contour"
           }
          ],
          "contourcarpet": [
           {
            "colorbar": {
             "outlinewidth": 0,
             "ticks": ""
            },
            "type": "contourcarpet"
           }
          ],
          "heatmap": [
           {
            "colorbar": {
             "outlinewidth": 0,
             "ticks": ""
            },
            "colorscale": [
             [
              0,
              "#0d0887"
             ],
             [
              0.1111111111111111,
              "#46039f"
             ],
             [
              0.2222222222222222,
              "#7201a8"
             ],
             [
              0.3333333333333333,
              "#9c179e"
             ],
             [
              0.4444444444444444,
              "#bd3786"
             ],
             [
              0.5555555555555556,
              "#d8576b"
             ],
             [
              0.6666666666666666,
              "#ed7953"
             ],
             [
              0.7777777777777778,
              "#fb9f3a"
             ],
             [
              0.8888888888888888,
              "#fdca26"
             ],
             [
              1,
              "#f0f921"
             ]
            ],
            "type": "heatmap"
           }
          ],
          "heatmapgl": [
           {
            "colorbar": {
             "outlinewidth": 0,
             "ticks": ""
            },
            "colorscale": [
             [
              0,
              "#0d0887"
             ],
             [
              0.1111111111111111,
              "#46039f"
             ],
             [
              0.2222222222222222,
              "#7201a8"
             ],
             [
              0.3333333333333333,
              "#9c179e"
             ],
             [
              0.4444444444444444,
              "#bd3786"
             ],
             [
              0.5555555555555556,
              "#d8576b"
             ],
             [
              0.6666666666666666,
              "#ed7953"
             ],
             [
              0.7777777777777778,
              "#fb9f3a"
             ],
             [
              0.8888888888888888,
              "#fdca26"
             ],
             [
              1,
              "#f0f921"
             ]
            ],
            "type": "heatmapgl"
           }
          ],
          "histogram": [
           {
            "marker": {
             "pattern": {
              "fillmode": "overlay",
              "size": 10,
              "solidity": 0.2
             }
            },
            "type": "histogram"
           }
          ],
          "histogram2d": [
           {
            "colorbar": {
             "outlinewidth": 0,
             "ticks": ""
            },
            "colorscale": [
             [
              0,
              "#0d0887"
             ],
             [
              0.1111111111111111,
              "#46039f"
             ],
             [
              0.2222222222222222,
              "#7201a8"
             ],
             [
              0.3333333333333333,
              "#9c179e"
             ],
             [
              0.4444444444444444,
              "#bd3786"
             ],
             [
              0.5555555555555556,
              "#d8576b"
             ],
             [
              0.6666666666666666,
              "#ed7953"
             ],
             [
              0.7777777777777778,
              "#fb9f3a"
             ],
             [
              0.8888888888888888,
              "#fdca26"
             ],
             [
              1,
              "#f0f921"
             ]
            ],
            "type": "histogram2d"
           }
          ],
          "histogram2dcontour": [
           {
            "colorbar": {
             "outlinewidth": 0,
             "ticks": ""
            },
            "colorscale": [
             [
              0,
              "#0d0887"
             ],
             [
              0.1111111111111111,
              "#46039f"
             ],
             [
              0.2222222222222222,
              "#7201a8"
             ],
             [
              0.3333333333333333,
              "#9c179e"
             ],
             [
              0.4444444444444444,
              "#bd3786"
             ],
             [
              0.5555555555555556,
              "#d8576b"
             ],
             [
              0.6666666666666666,
              "#ed7953"
             ],
             [
              0.7777777777777778,
              "#fb9f3a"
             ],
             [
              0.8888888888888888,
              "#fdca26"
             ],
             [
              1,
              "#f0f921"
             ]
            ],
            "type": "histogram2dcontour"
           }
          ],
          "mesh3d": [
           {
            "colorbar": {
             "outlinewidth": 0,
             "ticks": ""
            },
            "type": "mesh3d"
           }
          ],
          "parcoords": [
           {
            "line": {
             "colorbar": {
              "outlinewidth": 0,
              "ticks": ""
             }
            },
            "type": "parcoords"
           }
          ],
          "pie": [
           {
            "automargin": true,
            "type": "pie"
           }
          ],
          "scatter": [
           {
            "fillpattern": {
             "fillmode": "overlay",
             "size": 10,
             "solidity": 0.2
            },
            "type": "scatter"
           }
          ],
          "scatter3d": [
           {
            "line": {
             "colorbar": {
              "outlinewidth": 0,
              "ticks": ""
             }
            },
            "marker": {
             "colorbar": {
              "outlinewidth": 0,
              "ticks": ""
             }
            },
            "type": "scatter3d"
           }
          ],
          "scattercarpet": [
           {
            "marker": {
             "colorbar": {
              "outlinewidth": 0,
              "ticks": ""
             }
            },
            "type": "scattercarpet"
           }
          ],
          "scattergeo": [
           {
            "marker": {
             "colorbar": {
              "outlinewidth": 0,
              "ticks": ""
             }
            },
            "type": "scattergeo"
           }
          ],
          "scattergl": [
           {
            "marker": {
             "colorbar": {
              "outlinewidth": 0,
              "ticks": ""
             }
            },
            "type": "scattergl"
           }
          ],
          "scattermapbox": [
           {
            "marker": {
             "colorbar": {
              "outlinewidth": 0,
              "ticks": ""
             }
            },
            "type": "scattermapbox"
           }
          ],
          "scatterpolar": [
           {
            "marker": {
             "colorbar": {
              "outlinewidth": 0,
              "ticks": ""
             }
            },
            "type": "scatterpolar"
           }
          ],
          "scatterpolargl": [
           {
            "marker": {
             "colorbar": {
              "outlinewidth": 0,
              "ticks": ""
             }
            },
            "type": "scatterpolargl"
           }
          ],
          "scatterternary": [
           {
            "marker": {
             "colorbar": {
              "outlinewidth": 0,
              "ticks": ""
             }
            },
            "type": "scatterternary"
           }
          ],
          "surface": [
           {
            "colorbar": {
             "outlinewidth": 0,
             "ticks": ""
            },
            "colorscale": [
             [
              0,
              "#0d0887"
             ],
             [
              0.1111111111111111,
              "#46039f"
             ],
             [
              0.2222222222222222,
              "#7201a8"
             ],
             [
              0.3333333333333333,
              "#9c179e"
             ],
             [
              0.4444444444444444,
              "#bd3786"
             ],
             [
              0.5555555555555556,
              "#d8576b"
             ],
             [
              0.6666666666666666,
              "#ed7953"
             ],
             [
              0.7777777777777778,
              "#fb9f3a"
             ],
             [
              0.8888888888888888,
              "#fdca26"
             ],
             [
              1,
              "#f0f921"
             ]
            ],
            "type": "surface"
           }
          ],
          "table": [
           {
            "cells": {
             "fill": {
              "color": "#EBF0F8"
             },
             "line": {
              "color": "white"
             }
            },
            "header": {
             "fill": {
              "color": "#C8D4E3"
             },
             "line": {
              "color": "white"
             }
            },
            "type": "table"
           }
          ]
         },
         "layout": {
          "annotationdefaults": {
           "arrowcolor": "#2a3f5f",
           "arrowhead": 0,
           "arrowwidth": 1
          },
          "autotypenumbers": "strict",
          "coloraxis": {
           "colorbar": {
            "outlinewidth": 0,
            "ticks": ""
           }
          },
          "colorscale": {
           "diverging": [
            [
             0,
             "#8e0152"
            ],
            [
             0.1,
             "#c51b7d"
            ],
            [
             0.2,
             "#de77ae"
            ],
            [
             0.3,
             "#f1b6da"
            ],
            [
             0.4,
             "#fde0ef"
            ],
            [
             0.5,
             "#f7f7f7"
            ],
            [
             0.6,
             "#e6f5d0"
            ],
            [
             0.7,
             "#b8e186"
            ],
            [
             0.8,
             "#7fbc41"
            ],
            [
             0.9,
             "#4d9221"
            ],
            [
             1,
             "#276419"
            ]
           ],
           "sequential": [
            [
             0,
             "#0d0887"
            ],
            [
             0.1111111111111111,
             "#46039f"
            ],
            [
             0.2222222222222222,
             "#7201a8"
            ],
            [
             0.3333333333333333,
             "#9c179e"
            ],
            [
             0.4444444444444444,
             "#bd3786"
            ],
            [
             0.5555555555555556,
             "#d8576b"
            ],
            [
             0.6666666666666666,
             "#ed7953"
            ],
            [
             0.7777777777777778,
             "#fb9f3a"
            ],
            [
             0.8888888888888888,
             "#fdca26"
            ],
            [
             1,
             "#f0f921"
            ]
           ],
           "sequentialminus": [
            [
             0,
             "#0d0887"
            ],
            [
             0.1111111111111111,
             "#46039f"
            ],
            [
             0.2222222222222222,
             "#7201a8"
            ],
            [
             0.3333333333333333,
             "#9c179e"
            ],
            [
             0.4444444444444444,
             "#bd3786"
            ],
            [
             0.5555555555555556,
             "#d8576b"
            ],
            [
             0.6666666666666666,
             "#ed7953"
            ],
            [
             0.7777777777777778,
             "#fb9f3a"
            ],
            [
             0.8888888888888888,
             "#fdca26"
            ],
            [
             1,
             "#f0f921"
            ]
           ]
          },
          "colorway": [
           "#636efa",
           "#EF553B",
           "#00cc96",
           "#ab63fa",
           "#FFA15A",
           "#19d3f3",
           "#FF6692",
           "#B6E880",
           "#FF97FF",
           "#FECB52"
          ],
          "font": {
           "color": "#2a3f5f"
          },
          "geo": {
           "bgcolor": "white",
           "lakecolor": "white",
           "landcolor": "#E5ECF6",
           "showlakes": true,
           "showland": true,
           "subunitcolor": "white"
          },
          "hoverlabel": {
           "align": "left"
          },
          "hovermode": "closest",
          "mapbox": {
           "style": "light"
          },
          "paper_bgcolor": "white",
          "plot_bgcolor": "#E5ECF6",
          "polar": {
           "angularaxis": {
            "gridcolor": "white",
            "linecolor": "white",
            "ticks": ""
           },
           "bgcolor": "#E5ECF6",
           "radialaxis": {
            "gridcolor": "white",
            "linecolor": "white",
            "ticks": ""
           }
          },
          "scene": {
           "xaxis": {
            "backgroundcolor": "#E5ECF6",
            "gridcolor": "white",
            "gridwidth": 2,
            "linecolor": "white",
            "showbackground": true,
            "ticks": "",
            "zerolinecolor": "white"
           },
           "yaxis": {
            "backgroundcolor": "#E5ECF6",
            "gridcolor": "white",
            "gridwidth": 2,
            "linecolor": "white",
            "showbackground": true,
            "ticks": "",
            "zerolinecolor": "white"
           },
           "zaxis": {
            "backgroundcolor": "#E5ECF6",
            "gridcolor": "white",
            "gridwidth": 2,
            "linecolor": "white",
            "showbackground": true,
            "ticks": "",
            "zerolinecolor": "white"
           }
          },
          "shapedefaults": {
           "line": {
            "color": "#2a3f5f"
           }
          },
          "ternary": {
           "aaxis": {
            "gridcolor": "white",
            "linecolor": "white",
            "ticks": ""
           },
           "baxis": {
            "gridcolor": "white",
            "linecolor": "white",
            "ticks": ""
           },
           "bgcolor": "#E5ECF6",
           "caxis": {
            "gridcolor": "white",
            "linecolor": "white",
            "ticks": ""
           }
          },
          "title": {
           "x": 0.05
          },
          "xaxis": {
           "automargin": true,
           "gridcolor": "white",
           "linecolor": "white",
           "ticks": "",
           "title": {
            "standoff": 15
           },
           "zerolinecolor": "white",
           "zerolinewidth": 2
          },
          "yaxis": {
           "automargin": true,
           "gridcolor": "white",
           "linecolor": "white",
           "ticks": "",
           "title": {
            "standoff": 15
           },
           "zerolinecolor": "white",
           "zerolinewidth": 2
          }
         }
        },
        "xaxis": {
         "anchor": "y",
         "domain": [
          0,
          1
         ],
         "title": {
          "text": "fare"
         }
        },
        "yaxis": {
         "anchor": "x",
         "domain": [
          0,
          1
         ]
        }
       }
      }
     },
     "metadata": {},
     "output_type": "display_data"
    }
   ],
   "source": [
    "fig = px.box( df , x = 'fare')\n",
    "fig.show()"
   ]
  },
  {
   "cell_type": "code",
   "execution_count": 103,
   "metadata": {},
   "outputs": [
    {
     "data": {
      "text/html": [
       "<div>\n",
       "<style scoped>\n",
       "    .dataframe tbody tr th:only-of-type {\n",
       "        vertical-align: middle;\n",
       "    }\n",
       "\n",
       "    .dataframe tbody tr th {\n",
       "        vertical-align: top;\n",
       "    }\n",
       "\n",
       "    .dataframe thead th {\n",
       "        text-align: right;\n",
       "    }\n",
       "</style>\n",
       "<table border=\"1\" class=\"dataframe\">\n",
       "  <thead>\n",
       "    <tr style=\"text-align: right;\">\n",
       "      <th></th>\n",
       "      <th>survived</th>\n",
       "      <th>pclass</th>\n",
       "      <th>age</th>\n",
       "      <th>sibsp</th>\n",
       "      <th>parch</th>\n",
       "      <th>fare</th>\n",
       "    </tr>\n",
       "  </thead>\n",
       "  <tbody>\n",
       "    <tr>\n",
       "      <th>count</th>\n",
       "      <td>718.000000</td>\n",
       "      <td>718.000000</td>\n",
       "      <td>718.000000</td>\n",
       "      <td>718.000000</td>\n",
       "      <td>718.000000</td>\n",
       "      <td>718.000000</td>\n",
       "    </tr>\n",
       "    <tr>\n",
       "      <th>mean</th>\n",
       "      <td>0.334262</td>\n",
       "      <td>2.512535</td>\n",
       "      <td>28.079387</td>\n",
       "      <td>0.413649</td>\n",
       "      <td>0.317549</td>\n",
       "      <td>17.193204</td>\n",
       "    </tr>\n",
       "    <tr>\n",
       "      <th>std</th>\n",
       "      <td>0.472061</td>\n",
       "      <td>0.715818</td>\n",
       "      <td>10.012369</td>\n",
       "      <td>0.855001</td>\n",
       "      <td>0.784792</td>\n",
       "      <td>13.244507</td>\n",
       "    </tr>\n",
       "    <tr>\n",
       "      <th>min</th>\n",
       "      <td>0.000000</td>\n",
       "      <td>1.000000</td>\n",
       "      <td>3.000000</td>\n",
       "      <td>0.000000</td>\n",
       "      <td>0.000000</td>\n",
       "      <td>0.000000</td>\n",
       "    </tr>\n",
       "    <tr>\n",
       "      <th>25%</th>\n",
       "      <td>0.000000</td>\n",
       "      <td>2.000000</td>\n",
       "      <td>22.000000</td>\n",
       "      <td>0.000000</td>\n",
       "      <td>0.000000</td>\n",
       "      <td>7.889575</td>\n",
       "    </tr>\n",
       "    <tr>\n",
       "      <th>50%</th>\n",
       "      <td>0.000000</td>\n",
       "      <td>3.000000</td>\n",
       "      <td>28.000000</td>\n",
       "      <td>0.000000</td>\n",
       "      <td>0.000000</td>\n",
       "      <td>11.750000</td>\n",
       "    </tr>\n",
       "    <tr>\n",
       "      <th>75%</th>\n",
       "      <td>1.000000</td>\n",
       "      <td>3.000000</td>\n",
       "      <td>32.875000</td>\n",
       "      <td>1.000000</td>\n",
       "      <td>0.000000</td>\n",
       "      <td>25.928150</td>\n",
       "    </tr>\n",
       "    <tr>\n",
       "      <th>max</th>\n",
       "      <td>1.000000</td>\n",
       "      <td>3.000000</td>\n",
       "      <td>54.000000</td>\n",
       "      <td>5.000000</td>\n",
       "      <td>6.000000</td>\n",
       "      <td>61.379200</td>\n",
       "    </tr>\n",
       "  </tbody>\n",
       "</table>\n",
       "</div>"
      ],
      "text/plain": [
       "         survived      pclass         age       sibsp       parch        fare\n",
       "count  718.000000  718.000000  718.000000  718.000000  718.000000  718.000000\n",
       "mean     0.334262    2.512535   28.079387    0.413649    0.317549   17.193204\n",
       "std      0.472061    0.715818   10.012369    0.855001    0.784792   13.244507\n",
       "min      0.000000    1.000000    3.000000    0.000000    0.000000    0.000000\n",
       "25%      0.000000    2.000000   22.000000    0.000000    0.000000    7.889575\n",
       "50%      0.000000    3.000000   28.000000    0.000000    0.000000   11.750000\n",
       "75%      1.000000    3.000000   32.875000    1.000000    0.000000   25.928150\n",
       "max      1.000000    3.000000   54.000000    5.000000    6.000000   61.379200"
      ]
     },
     "execution_count": 103,
     "metadata": {},
     "output_type": "execute_result"
    }
   ],
   "source": [
    "df.describe()"
   ]
  },
  {
   "cell_type": "code",
   "execution_count": 104,
   "metadata": {},
   "outputs": [
    {
     "data": {
      "application/vnd.plotly.v1+json": {
       "config": {
        "plotlyServerURL": "https://plot.ly"
       },
       "data": [
        {
         "customdata": [
          [
           3,
           "male"
          ],
          [
           3,
           "female"
          ],
          [
           1,
           "female"
          ],
          [
           3,
           "male"
          ],
          [
           3,
           "male"
          ],
          [
           1,
           "male"
          ],
          [
           3,
           "female"
          ],
          [
           2,
           "female"
          ],
          [
           3,
           "female"
          ],
          [
           3,
           "male"
          ],
          [
           3,
           "male"
          ],
          [
           3,
           "female"
          ],
          [
           2,
           "male"
          ],
          [
           3,
           "female"
          ],
          [
           3,
           "female"
          ],
          [
           2,
           "male"
          ],
          [
           2,
           "male"
          ],
          [
           3,
           "female"
          ],
          [
           1,
           "male"
          ],
          [
           3,
           "female"
          ],
          [
           3,
           "female"
          ],
          [
           3,
           "male"
          ],
          [
           3,
           "female"
          ],
          [
           3,
           "male"
          ],
          [
           1,
           "male"
          ],
          [
           3,
           "female"
          ],
          [
           1,
           "male"
          ],
          [
           3,
           "male"
          ],
          [
           3,
           "male"
          ],
          [
           3,
           "female"
          ],
          [
           3,
           "female"
          ],
          [
           3,
           "female"
          ],
          [
           2,
           "female"
          ],
          [
           3,
           "male"
          ],
          [
           2,
           "female"
          ],
          [
           3,
           "female"
          ],
          [
           3,
           "male"
          ],
          [
           3,
           "male"
          ],
          [
           3,
           "female"
          ],
          [
           3,
           "male"
          ],
          [
           3,
           "female"
          ],
          [
           3,
           "male"
          ],
          [
           3,
           "male"
          ],
          [
           2,
           "female"
          ],
          [
           1,
           "male"
          ],
          [
           2,
           "female"
          ],
          [
           3,
           "male"
          ],
          [
           2,
           "female"
          ],
          [
           3,
           "male"
          ],
          [
           3,
           "male"
          ],
          [
           3,
           "male"
          ],
          [
           1,
           "male"
          ],
          [
           3,
           "male"
          ],
          [
           2,
           "female"
          ],
          [
           3,
           "male"
          ],
          [
           3,
           "female"
          ],
          [
           3,
           "male"
          ],
          [
           2,
           "male"
          ],
          [
           3,
           "female"
          ],
          [
           3,
           "male"
          ],
          [
           3,
           "male"
          ],
          [
           3,
           "male"
          ],
          [
           3,
           "male"
          ],
          [
           3,
           "male"
          ],
          [
           3,
           "female"
          ],
          [
           3,
           "male"
          ],
          [
           3,
           "male"
          ],
          [
           3,
           "female"
          ],
          [
           1,
           "male"
          ],
          [
           2,
           "female"
          ],
          [
           3,
           "female"
          ],
          [
           3,
           "male"
          ],
          [
           3,
           "male"
          ],
          [
           3,
           "male"
          ],
          [
           3,
           "male"
          ],
          [
           3,
           "male"
          ],
          [
           1,
           "male"
          ],
          [
           3,
           "male"
          ],
          [
           3,
           "male"
          ],
          [
           2,
           "female"
          ],
          [
           2,
           "male"
          ],
          [
           3,
           "female"
          ],
          [
           3,
           "male"
          ],
          [
           3,
           "male"
          ],
          [
           3,
           "male"
          ],
          [
           3,
           "male"
          ],
          [
           3,
           "female"
          ],
          [
           3,
           "male"
          ],
          [
           3,
           "male"
          ],
          [
           3,
           "female"
          ],
          [
           1,
           "male"
          ],
          [
           3,
           "female"
          ],
          [
           3,
           "male"
          ],
          [
           3,
           "female"
          ],
          [
           3,
           "female"
          ],
          [
           3,
           "male"
          ],
          [
           2,
           "male"
          ],
          [
           3,
           "male"
          ],
          [
           2,
           "male"
          ],
          [
           2,
           "female"
          ],
          [
           3,
           "male"
          ],
          [
           3,
           "male"
          ],
          [
           3,
           "male"
          ],
          [
           3,
           "female"
          ],
          [
           3,
           "male"
          ],
          [
           3,
           "male"
          ],
          [
           3,
           "male"
          ],
          [
           3,
           "female"
          ],
          [
           2,
           "female"
          ],
          [
           2,
           "male"
          ],
          [
           2,
           "male"
          ],
          [
           1,
           "female"
          ],
          [
           1,
           "male"
          ],
          [
           3,
           "male"
          ],
          [
           3,
           "female"
          ],
          [
           3,
           "female"
          ],
          [
           3,
           "female"
          ],
          [
           3,
           "male"
          ],
          [
           2,
           "male"
          ],
          [
           2,
           "male"
          ],
          [
           3,
           "male"
          ],
          [
           3,
           "female"
          ],
          [
           2,
           "male"
          ],
          [
           2,
           "male"
          ],
          [
           2,
           "male"
          ],
          [
           3,
           "male"
          ],
          [
           3,
           "male"
          ],
          [
           1,
           "male"
          ],
          [
           3,
           "female"
          ],
          [
           3,
           "male"
          ],
          [
           3,
           "male"
          ],
          [
           3,
           "male"
          ],
          [
           2,
           "female"
          ],
          [
           3,
           "male"
          ],
          [
           3,
           "male"
          ],
          [
           3,
           "male"
          ],
          [
           1,
           "female"
          ],
          [
           3,
           "female"
          ],
          [
           1,
           "male"
          ],
          [
           3,
           "male"
          ],
          [
           3,
           "male"
          ],
          [
           3,
           "male"
          ],
          [
           3,
           "male"
          ],
          [
           3,
           "male"
          ],
          [
           1,
           "female"
          ],
          [
           2,
           "male"
          ],
          [
           3,
           "male"
          ],
          [
           2,
           "male"
          ],
          [
           3,
           "male"
          ],
          [
           3,
           "female"
          ],
          [
           1,
           "male"
          ],
          [
           3,
           "female"
          ],
          [
           1,
           "male"
          ],
          [
           3,
           "male"
          ],
          [
           3,
           "male"
          ],
          [
           2,
           "female"
          ],
          [
           2,
           "male"
          ],
          [
           3,
           "female"
          ],
          [
           2,
           "male"
          ],
          [
           1,
           "female"
          ],
          [
           3,
           "male"
          ],
          [
           3,
           "male"
          ],
          [
           3,
           "female"
          ],
          [
           2,
           "female"
          ],
          [
           3,
           "male"
          ],
          [
           3,
           "male"
          ],
          [
           3,
           "male"
          ],
          [
           3,
           "male"
          ],
          [
           3,
           "male"
          ],
          [
           3,
           "male"
          ],
          [
           3,
           "female"
          ],
          [
           1,
           "male"
          ],
          [
           3,
           "male"
          ],
          [
           2,
           "female"
          ],
          [
           3,
           "male"
          ],
          [
           2,
           "male"
          ],
          [
           3,
           "male"
          ],
          [
           3,
           "female"
          ],
          [
           2,
           "male"
          ],
          [
           2,
           "male"
          ],
          [
           3,
           "male"
          ],
          [
           2,
           "male"
          ],
          [
           3,
           "male"
          ],
          [
           3,
           "male"
          ],
          [
           3,
           "male"
          ],
          [
           2,
           "male"
          ],
          [
           3,
           "male"
          ],
          [
           2,
           "male"
          ],
          [
           3,
           "female"
          ],
          [
           3,
           "male"
          ],
          [
           3,
           "female"
          ],
          [
           2,
           "male"
          ],
          [
           3,
           "female"
          ],
          [
           2,
           "male"
          ],
          [
           2,
           "female"
          ],
          [
           2,
           "male"
          ],
          [
           2,
           "male"
          ],
          [
           3,
           "female"
          ],
          [
           3,
           "female"
          ],
          [
           2,
           "male"
          ],
          [
           3,
           "male"
          ],
          [
           3,
           "male"
          ],
          [
           3,
           "female"
          ],
          [
           2,
           "female"
          ],
          [
           1,
           "male"
          ],
          [
           2,
           "male"
          ],
          [
           3,
           "male"
          ],
          [
           3,
           "female"
          ],
          [
           3,
           "male"
          ],
          [
           3,
           "female"
          ],
          [
           3,
           "female"
          ],
          [
           2,
           "female"
          ],
          [
           3,
           "male"
          ],
          [
           3,
           "male"
          ],
          [
           1,
           "male"
          ],
          [
           3,
           "female"
          ],
          [
           2,
           "male"
          ],
          [
           3,
           "male"
          ],
          [
           3,
           "male"
          ],
          [
           1,
           "male"
          ],
          [
           3,
           "male"
          ],
          [
           2,
           "female"
          ],
          [
           1,
           "male"
          ],
          [
           3,
           "female"
          ],
          [
           3,
           "female"
          ],
          [
           2,
           "male"
          ],
          [
           3,
           "male"
          ],
          [
           3,
           "female"
          ],
          [
           3,
           "male"
          ],
          [
           3,
           "male"
          ],
          [
           3,
           "male"
          ],
          [
           1,
           "male"
          ],
          [
           3,
           "male"
          ],
          [
           3,
           "male"
          ],
          [
           3,
           "male"
          ],
          [
           2,
           "male"
          ],
          [
           3,
           "female"
          ],
          [
           2,
           "male"
          ],
          [
           3,
           "female"
          ],
          [
           3,
           "male"
          ],
          [
           1,
           "male"
          ],
          [
           3,
           "male"
          ],
          [
           1,
           "male"
          ],
          [
           3,
           "female"
          ],
          [
           3,
           "male"
          ],
          [
           3,
           "male"
          ],
          [
           2,
           "female"
          ],
          [
           3,
           "male"
          ],
          [
           2,
           "male"
          ],
          [
           1,
           "female"
          ],
          [
           2,
           "female"
          ],
          [
           3,
           "male"
          ],
          [
           2,
           "male"
          ],
          [
           3,
           "female"
          ],
          [
           2,
           "female"
          ],
          [
           2,
           "male"
          ],
          [
           3,
           "male"
          ],
          [
           3,
           "male"
          ],
          [
           2,
           "female"
          ],
          [
           2,
           "female"
          ],
          [
           2,
           "female"
          ],
          [
           3,
           "female"
          ],
          [
           1,
           "female"
          ],
          [
           3,
           "female"
          ],
          [
           1,
           "male"
          ],
          [
           3,
           "male"
          ],
          [
           3,
           "male"
          ],
          [
           3,
           "male"
          ],
          [
           1,
           "male"
          ],
          [
           2,
           "male"
          ],
          [
           2,
           "male"
          ],
          [
           2,
           "male"
          ],
          [
           2,
           "female"
          ],
          [
           2,
           "female"
          ],
          [
           3,
           "female"
          ],
          [
           3,
           "male"
          ],
          [
           3,
           "male"
          ],
          [
           3,
           "male"
          ],
          [
           1,
           "male"
          ],
          [
           3,
           "male"
          ],
          [
           3,
           "male"
          ],
          [
           3,
           "male"
          ],
          [
           3,
           "male"
          ],
          [
           1,
           "female"
          ],
          [
           2,
           "female"
          ],
          [
           3,
           "female"
          ],
          [
           3,
           "female"
          ],
          [
           3,
           "male"
          ],
          [
           2,
           "male"
          ],
          [
           3,
           "female"
          ],
          [
           3,
           "male"
          ],
          [
           3,
           "male"
          ],
          [
           3,
           "male"
          ],
          [
           3,
           "female"
          ],
          [
           3,
           "female"
          ],
          [
           1,
           "male"
          ],
          [
           3,
           "male"
          ],
          [
           3,
           "male"
          ],
          [
           3,
           "female"
          ],
          [
           3,
           "female"
          ],
          [
           3,
           "male"
          ],
          [
           3,
           "male"
          ],
          [
           3,
           "male"
          ],
          [
           1,
           "female"
          ],
          [
           3,
           "male"
          ],
          [
           2,
           "female"
          ],
          [
           3,
           "male"
          ],
          [
           2,
           "female"
          ],
          [
           3,
           "male"
          ],
          [
           3,
           "male"
          ],
          [
           3,
           "female"
          ],
          [
           3,
           "male"
          ],
          [
           3,
           "female"
          ],
          [
           2,
           "male"
          ],
          [
           2,
           "male"
          ],
          [
           2,
           "female"
          ],
          [
           3,
           "male"
          ],
          [
           3,
           "male"
          ],
          [
           3,
           "female"
          ],
          [
           3,
           "male"
          ],
          [
           3,
           "female"
          ],
          [
           2,
           "male"
          ],
          [
           3,
           "male"
          ],
          [
           2,
           "male"
          ],
          [
           3,
           "male"
          ],
          [
           3,
           "female"
          ],
          [
           3,
           "male"
          ],
          [
           3,
           "male"
          ],
          [
           2,
           "male"
          ],
          [
           3,
           "male"
          ],
          [
           3,
           "female"
          ],
          [
           2,
           "female"
          ],
          [
           2,
           "female"
          ],
          [
           2,
           "male"
          ],
          [
           3,
           "female"
          ],
          [
           3,
           "male"
          ],
          [
           3,
           "male"
          ],
          [
           3,
           "male"
          ],
          [
           3,
           "female"
          ],
          [
           3,
           "male"
          ],
          [
           3,
           "male"
          ],
          [
           2,
           "female"
          ],
          [
           2,
           "female"
          ],
          [
           3,
           "male"
          ],
          [
           3,
           "male"
          ],
          [
           1,
           "male"
          ],
          [
           3,
           "female"
          ],
          [
           2,
           "female"
          ],
          [
           3,
           "male"
          ],
          [
           1,
           "male"
          ],
          [
           3,
           "female"
          ],
          [
           2,
           "female"
          ],
          [
           2,
           "male"
          ],
          [
           2,
           "female"
          ],
          [
           3,
           "male"
          ],
          [
           3,
           "male"
          ],
          [
           2,
           "female"
          ],
          [
           3,
           "male"
          ],
          [
           2,
           "female"
          ],
          [
           1,
           "male"
          ],
          [
           3,
           "female"
          ],
          [
           1,
           "male"
          ],
          [
           2,
           "male"
          ],
          [
           3,
           "male"
          ],
          [
           1,
           "male"
          ],
          [
           3,
           "male"
          ],
          [
           3,
           "male"
          ],
          [
           1,
           "female"
          ],
          [
           2,
           "female"
          ],
          [
           3,
           "male"
          ],
          [
           1,
           "male"
          ],
          [
           3,
           "male"
          ],
          [
           1,
           "male"
          ],
          [
           2,
           "male"
          ],
          [
           3,
           "male"
          ],
          [
           3,
           "male"
          ],
          [
           2,
           "male"
          ],
          [
           3,
           "male"
          ],
          [
           3,
           "male"
          ],
          [
           3,
           "male"
          ],
          [
           2,
           "female"
          ],
          [
           2,
           "female"
          ],
          [
           3,
           "female"
          ],
          [
           1,
           "male"
          ],
          [
           2,
           "male"
          ],
          [
           3,
           "male"
          ],
          [
           3,
           "male"
          ],
          [
           3,
           "male"
          ],
          [
           2,
           "male"
          ],
          [
           3,
           "male"
          ],
          [
           3,
           "female"
          ],
          [
           3,
           "male"
          ],
          [
           3,
           "male"
          ],
          [
           3,
           "male"
          ],
          [
           3,
           "male"
          ],
          [
           3,
           "male"
          ],
          [
           3,
           "male"
          ],
          [
           3,
           "male"
          ],
          [
           3,
           "male"
          ],
          [
           3,
           "male"
          ],
          [
           3,
           "female"
          ],
          [
           3,
           "female"
          ],
          [
           3,
           "female"
          ],
          [
           2,
           "female"
          ],
          [
           1,
           "male"
          ],
          [
           3,
           "male"
          ],
          [
           3,
           "male"
          ],
          [
           3,
           "male"
          ],
          [
           3,
           "male"
          ],
          [
           1,
           "male"
          ],
          [
           1,
           "female"
          ],
          [
           3,
           "male"
          ],
          [
           1,
           "male"
          ],
          [
           2,
           "female"
          ],
          [
           3,
           "male"
          ],
          [
           2,
           "female"
          ],
          [
           3,
           "male"
          ],
          [
           3,
           "male"
          ],
          [
           3,
           "male"
          ],
          [
           1,
           "female"
          ],
          [
           3,
           "male"
          ],
          [
           3,
           "male"
          ],
          [
           2,
           "female"
          ],
          [
           3,
           "male"
          ],
          [
           2,
           "male"
          ],
          [
           3,
           "male"
          ],
          [
           3,
           "male"
          ],
          [
           3,
           "female"
          ],
          [
           3,
           "female"
          ],
          [
           2,
           "female"
          ],
          [
           1,
           "male"
          ],
          [
           3,
           "male"
          ],
          [
           1,
           "female"
          ],
          [
           3,
           "female"
          ],
          [
           3,
           "female"
          ],
          [
           2,
           "male"
          ],
          [
           2,
           "female"
          ],
          [
           2,
           "male"
          ],
          [
           3,
           "male"
          ],
          [
           2,
           "male"
          ],
          [
           2,
           "male"
          ],
          [
           3,
           "male"
          ],
          [
           3,
           "male"
          ],
          [
           3,
           "female"
          ],
          [
           1,
           "female"
          ],
          [
           3,
           "female"
          ],
          [
           3,
           "male"
          ],
          [
           3,
           "male"
          ],
          [
           2,
           "male"
          ],
          [
           3,
           "male"
          ],
          [
           3,
           "female"
          ],
          [
           3,
           "male"
          ],
          [
           3,
           "male"
          ],
          [
           3,
           "female"
          ],
          [
           3,
           "male"
          ],
          [
           3,
           "male"
          ],
          [
           1,
           "female"
          ],
          [
           1,
           "male"
          ],
          [
           3,
           "female"
          ],
          [
           3,
           "male"
          ],
          [
           3,
           "male"
          ],
          [
           2,
           "female"
          ],
          [
           1,
           "female"
          ],
          [
           3,
           "female"
          ],
          [
           3,
           "male"
          ],
          [
           2,
           "female"
          ],
          [
           2,
           "male"
          ],
          [
           1,
           "male"
          ],
          [
           3,
           "male"
          ],
          [
           2,
           "male"
          ],
          [
           3,
           "male"
          ],
          [
           3,
           "male"
          ],
          [
           3,
           "male"
          ],
          [
           3,
           "male"
          ],
          [
           3,
           "female"
          ],
          [
           2,
           "male"
          ],
          [
           3,
           "male"
          ],
          [
           2,
           "female"
          ],
          [
           3,
           "male"
          ],
          [
           3,
           "male"
          ],
          [
           1,
           "male"
          ],
          [
           2,
           "female"
          ],
          [
           3,
           "male"
          ],
          [
           1,
           "male"
          ],
          [
           3,
           "male"
          ],
          [
           1,
           "male"
          ],
          [
           3,
           "male"
          ],
          [
           3,
           "male"
          ],
          [
           1,
           "male"
          ],
          [
           2,
           "female"
          ],
          [
           3,
           "female"
          ],
          [
           3,
           "male"
          ],
          [
           3,
           "female"
          ],
          [
           3,
           "male"
          ],
          [
           3,
           "male"
          ],
          [
           3,
           "male"
          ],
          [
           3,
           "female"
          ],
          [
           2,
           "female"
          ],
          [
           2,
           "male"
          ],
          [
           3,
           "male"
          ],
          [
           1,
           "male"
          ],
          [
           3,
           "male"
          ],
          [
           3,
           "male"
          ],
          [
           3,
           "male"
          ],
          [
           3,
           "male"
          ],
          [
           3,
           "male"
          ],
          [
           3,
           "male"
          ],
          [
           1,
           "male"
          ],
          [
           1,
           "male"
          ],
          [
           3,
           "female"
          ],
          [
           2,
           "female"
          ],
          [
           3,
           "male"
          ],
          [
           2,
           "male"
          ],
          [
           3,
           "female"
          ],
          [
           3,
           "male"
          ],
          [
           3,
           "male"
          ],
          [
           3,
           "male"
          ],
          [
           3,
           "male"
          ],
          [
           3,
           "male"
          ],
          [
           3,
           "female"
          ],
          [
           3,
           "male"
          ],
          [
           2,
           "female"
          ],
          [
           3,
           "male"
          ],
          [
           3,
           "female"
          ],
          [
           3,
           "female"
          ],
          [
           3,
           "male"
          ],
          [
           3,
           "female"
          ],
          [
           2,
           "male"
          ],
          [
           3,
           "male"
          ],
          [
           1,
           "male"
          ],
          [
           3,
           "male"
          ],
          [
           3,
           "male"
          ],
          [
           2,
           "male"
          ],
          [
           3,
           "male"
          ],
          [
           3,
           "male"
          ],
          [
           1,
           "female"
          ],
          [
           2,
           "female"
          ],
          [
           1,
           "male"
          ],
          [
           2,
           "male"
          ],
          [
           2,
           "male"
          ],
          [
           3,
           "male"
          ],
          [
           3,
           "male"
          ],
          [
           3,
           "female"
          ],
          [
           3,
           "female"
          ],
          [
           3,
           "female"
          ],
          [
           3,
           "male"
          ],
          [
           3,
           "male"
          ],
          [
           2,
           "male"
          ],
          [
           3,
           "male"
          ],
          [
           3,
           "male"
          ],
          [
           3,
           "male"
          ],
          [
           1,
           "male"
          ],
          [
           3,
           "female"
          ],
          [
           3,
           "male"
          ],
          [
           3,
           "male"
          ],
          [
           2,
           "male"
          ],
          [
           3,
           "male"
          ],
          [
           3,
           "female"
          ],
          [
           3,
           "male"
          ],
          [
           1,
           "male"
          ],
          [
           3,
           "female"
          ],
          [
           3,
           "male"
          ],
          [
           3,
           "male"
          ],
          [
           2,
           "male"
          ],
          [
           2,
           "female"
          ],
          [
           1,
           "male"
          ],
          [
           3,
           "male"
          ],
          [
           1,
           "female"
          ],
          [
           1,
           "male"
          ],
          [
           1,
           "male"
          ],
          [
           3,
           "male"
          ],
          [
           2,
           "male"
          ],
          [
           3,
           "male"
          ],
          [
           2,
           "female"
          ],
          [
           3,
           "male"
          ],
          [
           3,
           "male"
          ],
          [
           2,
           "female"
          ],
          [
           3,
           "male"
          ],
          [
           2,
           "male"
          ],
          [
           2,
           "male"
          ],
          [
           1,
           "male"
          ],
          [
           3,
           "male"
          ],
          [
           2,
           "female"
          ],
          [
           3,
           "female"
          ],
          [
           2,
           "male"
          ],
          [
           3,
           "female"
          ],
          [
           3,
           "male"
          ],
          [
           2,
           "male"
          ],
          [
           2,
           "male"
          ],
          [
           2,
           "male"
          ],
          [
           3,
           "male"
          ],
          [
           3,
           "female"
          ],
          [
           3,
           "male"
          ],
          [
           3,
           "male"
          ],
          [
           1,
           "male"
          ],
          [
           3,
           "male"
          ],
          [
           3,
           "male"
          ],
          [
           3,
           "male"
          ],
          [
           2,
           "female"
          ],
          [
           1,
           "male"
          ],
          [
           3,
           "male"
          ],
          [
           2,
           "female"
          ],
          [
           3,
           "male"
          ],
          [
           3,
           "male"
          ],
          [
           3,
           "male"
          ],
          [
           3,
           "male"
          ],
          [
           2,
           "male"
          ],
          [
           3,
           "male"
          ],
          [
           3,
           "male"
          ],
          [
           3,
           "male"
          ],
          [
           3,
           "male"
          ],
          [
           3,
           "male"
          ],
          [
           1,
           "male"
          ],
          [
           3,
           "female"
          ],
          [
           3,
           "male"
          ],
          [
           3,
           "male"
          ],
          [
           3,
           "male"
          ],
          [
           3,
           "male"
          ],
          [
           3,
           "male"
          ],
          [
           2,
           "female"
          ],
          [
           3,
           "male"
          ],
          [
           3,
           "male"
          ],
          [
           3,
           "female"
          ],
          [
           3,
           "male"
          ],
          [
           3,
           "female"
          ],
          [
           1,
           "female"
          ],
          [
           1,
           "male"
          ],
          [
           3,
           "male"
          ],
          [
           3,
           "male"
          ],
          [
           3,
           "male"
          ],
          [
           3,
           "female"
          ],
          [
           3,
           "male"
          ],
          [
           3,
           "male"
          ],
          [
           2,
           "male"
          ],
          [
           1,
           "male"
          ],
          [
           3,
           "male"
          ],
          [
           2,
           "male"
          ],
          [
           1,
           "female"
          ],
          [
           3,
           "female"
          ],
          [
           3,
           "male"
          ],
          [
           3,
           "female"
          ],
          [
           2,
           "male"
          ],
          [
           2,
           "female"
          ],
          [
           3,
           "male"
          ],
          [
           3,
           "male"
          ],
          [
           1,
           "male"
          ],
          [
           3,
           "female"
          ],
          [
           2,
           "male"
          ],
          [
           1,
           "female"
          ],
          [
           3,
           "male"
          ],
          [
           3,
           "male"
          ],
          [
           2,
           "male"
          ],
          [
           3,
           "female"
          ],
          [
           3,
           "male"
          ],
          [
           1,
           "male"
          ],
          [
           3,
           "female"
          ],
          [
           2,
           "male"
          ],
          [
           3,
           "male"
          ],
          [
           3,
           "male"
          ],
          [
           3,
           "male"
          ],
          [
           1,
           "male"
          ],
          [
           3,
           "female"
          ],
          [
           3,
           "male"
          ],
          [
           3,
           "male"
          ],
          [
           3,
           "male"
          ],
          [
           3,
           "female"
          ],
          [
           3,
           "male"
          ],
          [
           3,
           "male"
          ],
          [
           3,
           "male"
          ],
          [
           3,
           "male"
          ],
          [
           3,
           "male"
          ],
          [
           3,
           "male"
          ],
          [
           1,
           "male"
          ],
          [
           3,
           "male"
          ],
          [
           2,
           "male"
          ],
          [
           1,
           "female"
          ],
          [
           3,
           "male"
          ],
          [
           3,
           "male"
          ],
          [
           3,
           "male"
          ],
          [
           3,
           "male"
          ],
          [
           2,
           "male"
          ],
          [
           3,
           "male"
          ],
          [
           3,
           "female"
          ],
          [
           1,
           "female"
          ],
          [
           2,
           "female"
          ],
          [
           3,
           "female"
          ],
          [
           1,
           "male"
          ],
          [
           3,
           "female"
          ],
          [
           3,
           "male"
          ],
          [
           3,
           "male"
          ],
          [
           2,
           "male"
          ],
          [
           1,
           "female"
          ],
          [
           2,
           "male"
          ],
          [
           2,
           "female"
          ],
          [
           2,
           "female"
          ],
          [
           1,
           "male"
          ],
          [
           3,
           "male"
          ],
          [
           3,
           "male"
          ],
          [
           3,
           "male"
          ],
          [
           1,
           "female"
          ],
          [
           1,
           "male"
          ],
          [
           3,
           "male"
          ],
          [
           2,
           "female"
          ],
          [
           3,
           "female"
          ],
          [
           3,
           "male"
          ],
          [
           3,
           "male"
          ],
          [
           3,
           "male"
          ],
          [
           2,
           "female"
          ],
          [
           3,
           "male"
          ],
          [
           3,
           "female"
          ],
          [
           2,
           "male"
          ],
          [
           3,
           "male"
          ],
          [
           3,
           "female"
          ],
          [
           2,
           "male"
          ],
          [
           1,
           "female"
          ],
          [
           3,
           "female"
          ],
          [
           1,
           "male"
          ],
          [
           3,
           "male"
          ]
         ],
         "hovertemplate": "Age of Passengers=%{x}<br>Fare Paid=%{y}<br>pclass=%{customdata[0]}<br>sex=%{customdata[1]}<br>survived=%{marker.color}<extra></extra>",
         "legendgroup": "",
         "marker": {
          "color": [
           0,
           1,
           1,
           0,
           0,
           0,
           1,
           1,
           1,
           0,
           0,
           0,
           1,
           0,
           1,
           0,
           1,
           1,
           1,
           0,
           1,
           0,
           1,
           0,
           0,
           1,
           0,
           1,
           0,
           0,
           1,
           0,
           0,
           0,
           1,
           1,
           0,
           0,
           1,
           0,
           0,
           0,
           0,
           1,
           1,
           1,
           0,
           1,
           0,
           0,
           0,
           0,
           1,
           1,
           0,
           1,
           0,
           0,
           0,
           0,
           1,
           0,
           0,
           0,
           1,
           0,
           1,
           1,
           0,
           1,
           1,
           0,
           0,
           0,
           0,
           0,
           0,
           0,
           0,
           1,
           0,
           0,
           0,
           0,
           0,
           0,
           1,
           1,
           0,
           1,
           0,
           0,
           0,
           0,
           0,
           0,
           0,
           0,
           0,
           1,
           1,
           0,
           1,
           1,
           0,
           0,
           0,
           0,
           1,
           0,
           0,
           1,
           0,
           0,
           0,
           1,
           1,
           0,
           0,
           0,
           1,
           0,
           0,
           0,
           0,
           0,
           0,
           0,
           1,
           0,
           0,
           0,
           1,
           0,
           0,
           1,
           1,
           0,
           0,
           0,
           0,
           0,
           0,
           0,
           0,
           0,
           0,
           0,
           0,
           1,
           0,
           1,
           1,
           0,
           0,
           1,
           0,
           1,
           1,
           1,
           0,
           0,
           1,
           0,
           0,
           0,
           0,
           1,
           0,
           1,
           1,
           1,
           0,
           1,
           0,
           0,
           0,
           1,
           0,
           0,
           1,
           0,
           0,
           0,
           0,
           1,
           0,
           0,
           0,
           0,
           1,
           0,
           0,
           0,
           1,
           0,
           0,
           0,
           1,
           0,
           0,
           0,
           0,
           1,
           1,
           0,
           0,
           0,
           0,
           0,
           1,
           1,
           0,
           1,
           0,
           0,
           0,
           0,
           1,
           0,
           1,
           1,
           0,
           1,
           0,
           0,
           0,
           1,
           0,
           0,
           1,
           0,
           0,
           1,
           0,
           1,
           1,
           0,
           0,
           0,
           0,
           0,
           1,
           1,
           1,
           0,
           1,
           0,
           0,
           1,
           0,
           0,
           0,
           1,
           1,
           0,
           0,
           0,
           1,
           1,
           1,
           1,
           1,
           1,
           0,
           0,
           0,
           1,
           0,
           0,
           0,
           0,
           1,
           1,
           1,
           1,
           0,
           0,
           0,
           0,
           0,
           0,
           0,
           1,
           0,
           1,
           1,
           0,
           0,
           0,
           0,
           0,
           0,
           1,
           1,
           1,
           0,
           0,
           0,
           1,
           0,
           0,
           0,
           1,
           0,
           1,
           0,
           1,
           1,
           0,
           1,
           0,
           0,
           0,
           0,
           1,
           1,
           0,
           0,
           0,
           0,
           0,
           0,
           1,
           0,
           0,
           0,
           0,
           0,
           1,
           0,
           1,
           1,
           0,
           0,
           0,
           0,
           0,
           0,
           0,
           0,
           1,
           1,
           0,
           1,
           1,
           1,
           1,
           0,
           0,
           0,
           1,
           0,
           1,
           0,
           0,
           1,
           1,
           1,
           1,
           1,
           1,
           0,
           0,
           0,
           0,
           1,
           1,
           1,
           0,
           1,
           0,
           0,
           0,
           0,
           0,
           0,
           0,
           0,
           0,
           1,
           1,
           0,
           0,
           0,
           0,
           0,
           0,
           0,
           0,
           0,
           0,
           1,
           0,
           0,
           0,
           0,
           0,
           0,
           0,
           0,
           0,
           0,
           1,
           1,
           0,
           1,
           1,
           0,
           1,
           1,
           0,
           0,
           1,
           0,
           1,
           0,
           0,
           0,
           1,
           0,
           0,
           1,
           0,
           0,
           0,
           0,
           1,
           0,
           1,
           0,
           0,
           1,
           0,
           0,
           1,
           1,
           1,
           0,
           1,
           0,
           0,
           1,
           1,
           1,
           1,
           0,
           0,
           0,
           0,
           0,
           0,
           0,
           0,
           0,
           1,
           1,
           1,
           1,
           0,
           0,
           1,
           1,
           0,
           1,
           1,
           0,
           0,
           0,
           0,
           0,
           0,
           0,
           0,
           0,
           0,
           0,
           1,
           0,
           0,
           1,
           1,
           0,
           0,
           0,
           1,
           0,
           0,
           1,
           1,
           0,
           0,
           1,
           0,
           0,
           0,
           0,
           1,
           0,
           0,
           1,
           1,
           0,
           0,
           0,
           0,
           0,
           1,
           0,
           0,
           1,
           0,
           0,
           0,
           0,
           0,
           1,
           0,
           0,
           1,
           0,
           1,
           0,
           1,
           0,
           0,
           0,
           0,
           0,
           0,
           0,
           1,
           0,
           0,
           0,
           1,
           1,
           0,
           1,
           0,
           0,
           0,
           1,
           0,
           0,
           0,
           0,
           0,
           0,
           0,
           0,
           1,
           1,
           1,
           0,
           0,
           0,
           1,
           0,
           1,
           0,
           0,
           0,
           0,
           1,
           1,
           1,
           1,
           0,
           1,
           0,
           0,
           0,
           1,
           0,
           0,
           1,
           0,
           0,
           0,
           1,
           0,
           1,
           1,
           0,
           0,
           0,
           0,
           0,
           0,
           0,
           0,
           0,
           0,
           1,
           0,
           1,
           0,
           1,
           0,
           0,
           1,
           1,
           0,
           0,
           0,
           0,
           0,
           0,
           0,
           1,
           0,
           0,
           0,
           0,
           0,
           0,
           0,
           0,
           1,
           0,
           0,
           1,
           0,
           1,
           1,
           0,
           0,
           0,
           0,
           1,
           0,
           0,
           0,
           0,
           0,
           0,
           1,
           1,
           0,
           0,
           0,
           1,
           1,
           0,
           0,
           0,
           0,
           1,
           0,
           0,
           0,
           0,
           0,
           0,
           0,
           0,
           0,
           0,
           1,
           0,
           1,
           0,
           0,
           1,
           1,
           0,
           0,
           0,
           0,
           0,
           1,
           1,
           0,
           0,
           1,
           0,
           0,
           0,
           0,
           0,
           0,
           0,
           1,
           0,
           1,
           1,
           1,
           0,
           0,
           0,
           1,
           0,
           1,
           1,
           0,
           0,
           1,
           0,
           1,
           0,
           0,
           1,
           1,
           0,
           0,
           0,
           1,
           0,
           0,
           0,
           0,
           0,
           0,
           1,
           0,
           1,
           0
          ],
          "coloraxis": "coloraxis",
          "symbol": "circle"
         },
         "mode": "markers",
         "name": "",
         "orientation": "v",
         "showlegend": false,
         "type": "scatter",
         "x": [
          22,
          26,
          35,
          35,
          28,
          54,
          27,
          14,
          4,
          20,
          39,
          14,
          28,
          31,
          28,
          35,
          34,
          15,
          28,
          8,
          38,
          28,
          28,
          28,
          40,
          28,
          42,
          28,
          21,
          18,
          14,
          40,
          27,
          28,
          3,
          19,
          28,
          28,
          28,
          28,
          18,
          7,
          21,
          29,
          28,
          21,
          28.5,
          5,
          11,
          22,
          4,
          28,
          28,
          29,
          19,
          17,
          26,
          32,
          16,
          26,
          32,
          25,
          28,
          28,
          30,
          22,
          29,
          28,
          28,
          17,
          33,
          16,
          28,
          24,
          29,
          20,
          46,
          26,
          28,
          34,
          34,
          28,
          28,
          33,
          37,
          28,
          21,
          28,
          38,
          28,
          47,
          14.5,
          22,
          20,
          17,
          21,
          29,
          28,
          32.5,
          32.5,
          12,
          28,
          24,
          28,
          45,
          33,
          20,
          47,
          29,
          25,
          23,
          19,
          37,
          16,
          28,
          22,
          24,
          19,
          18,
          19,
          27,
          9,
          36.5,
          42,
          51,
          40.5,
          28,
          51,
          16,
          30,
          28,
          44,
          40,
          26,
          17,
          9,
          28,
          45,
          28,
          28,
          4,
          21,
          18,
          28,
          50,
          30,
          36,
          28,
          9,
          4,
          28,
          28,
          45,
          40,
          36,
          32,
          19,
          19,
          3,
          44,
          28,
          42,
          28,
          24,
          28,
          34,
          45.5,
          18,
          32,
          26,
          16,
          40,
          24,
          35,
          22,
          30,
          28,
          27,
          42,
          30,
          16,
          27,
          51,
          28,
          22,
          19,
          20.5,
          18,
          28,
          29,
          5,
          24,
          28,
          44,
          8,
          19,
          33,
          28,
          28,
          29,
          22,
          30,
          25,
          24,
          37,
          54,
          28,
          29,
          30,
          41,
          29,
          50,
          28,
          3,
          40,
          28,
          36,
          16,
          25,
          28,
          25,
          41,
          37,
          28,
          45,
          28,
          7,
          35,
          28,
          16,
          19,
          28,
          33,
          30,
          22,
          42,
          22,
          36,
          24,
          24,
          28,
          23.5,
          28,
          28,
          28,
          19,
          28,
          28,
          30,
          30,
          26,
          28,
          43,
          26,
          24,
          54,
          22,
          27,
          30,
          22,
          36,
          31,
          16,
          28,
          45.5,
          16,
          28,
          45,
          45,
          28,
          25,
          36,
          24,
          40,
          28,
          3,
          42,
          23,
          28,
          15,
          25,
          28,
          28,
          22,
          38,
          28,
          28,
          40,
          29,
          45,
          35,
          28,
          30,
          28,
          28,
          25,
          18,
          19,
          3,
          22,
          20,
          19,
          32,
          35,
          28,
          36,
          28,
          17,
          21,
          28,
          24,
          22,
          31,
          46,
          23,
          28,
          39,
          26,
          21,
          28,
          20,
          34,
          51,
          3,
          21,
          28,
          28,
          28,
          28,
          44,
          28,
          34,
          18,
          30,
          10,
          28,
          21,
          29,
          28,
          18,
          28,
          28,
          19,
          28,
          32,
          28,
          28,
          42,
          17,
          50,
          21,
          24,
          31,
          45,
          20,
          25,
          28,
          28,
          13,
          34,
          5,
          52,
          36,
          28,
          30,
          28,
          29,
          28,
          50,
          28,
          48,
          34,
          47,
          48,
          28,
          38,
          28,
          28,
          28,
          38,
          33,
          23,
          22,
          28,
          34,
          29,
          22,
          9,
          28,
          50,
          28,
          30,
          9,
          28,
          21,
          21,
          28,
          28,
          24,
          17,
          21,
          28,
          37,
          33,
          28,
          28,
          26,
          29,
          28,
          36,
          54,
          24,
          47,
          34,
          28,
          36,
          32,
          22,
          28,
          44,
          28,
          40.5,
          50,
          39,
          23,
          28,
          17,
          28,
          30,
          7,
          45,
          28,
          22,
          9,
          11,
          32,
          19,
          28,
          33,
          8,
          27,
          28,
          22,
          22,
          48,
          36,
          28,
          40,
          28,
          28,
          28,
          24,
          19,
          29,
          28,
          32,
          53,
          36,
          28,
          16,
          19,
          34,
          39,
          28,
          32,
          25,
          54,
          36,
          28,
          47,
          22,
          28,
          35,
          47,
          28,
          37,
          36,
          28,
          49,
          28,
          49,
          24,
          28,
          28,
          44,
          35,
          36,
          30,
          27,
          22,
          39,
          28,
          28,
          28,
          35,
          34,
          26,
          4,
          26,
          27,
          42,
          20,
          21,
          21,
          26,
          28,
          51,
          32,
          28,
          9,
          28,
          32,
          31,
          41,
          28,
          20,
          28,
          19,
          28,
          23,
          28,
          18,
          21,
          28,
          18,
          28,
          32,
          23,
          40,
          47,
          36,
          20,
          25,
          28,
          43,
          28,
          40,
          31,
          31,
          28,
          18,
          24.5,
          18,
          43,
          28,
          20,
          14,
          25,
          14,
          19,
          18,
          31,
          4,
          28,
          25,
          52,
          44,
          28,
          42,
          35,
          18,
          25,
          26,
          39,
          45,
          42,
          28,
          24,
          28,
          48,
          29,
          52,
          19,
          27,
          28,
          33,
          6,
          17,
          34,
          50,
          27,
          20,
          30,
          28,
          25,
          25,
          11,
          28,
          23,
          23,
          28.5,
          48,
          28,
          28,
          28,
          24,
          31,
          16,
          30,
          19,
          31,
          4,
          6,
          33,
          23,
          28,
          18,
          34,
          28,
          41,
          20,
          16,
          28,
          30.5,
          28,
          32,
          24,
          48,
          28,
          54,
          18,
          28,
          5,
          28,
          13,
          17,
          29,
          28,
          25,
          25,
          18,
          8,
          28,
          16,
          28,
          25,
          39,
          49,
          31,
          30,
          30,
          34,
          31,
          27,
          31,
          39,
          18,
          39,
          33,
          26,
          39,
          35,
          6,
          30.5,
          28,
          23,
          31,
          43,
          10,
          27,
          38,
          27,
          28,
          28,
          28,
          15,
          28,
          23,
          18,
          21,
          28,
          32,
          28,
          20,
          16,
          30,
          34.5,
          17,
          42,
          35,
          28,
          4,
          9,
          16,
          44,
          18,
          51,
          24,
          28,
          41,
          21,
          48,
          24,
          42,
          27,
          31,
          28,
          4,
          26,
          47,
          33,
          47,
          28,
          15,
          20,
          19,
          28,
          25,
          33,
          22,
          28,
          25,
          39,
          27,
          19,
          28,
          26,
          32
         ],
         "xaxis": "x",
         "y": [
          7.25,
          7.925,
          53.1,
          8.05,
          8.4583,
          51.8625,
          11.1333,
          30.0708,
          16.7,
          8.05,
          31.275,
          7.8542,
          13,
          18,
          7.225,
          26,
          13,
          8.0292,
          35.5,
          21.075,
          31.3875,
          7.225,
          7.8792,
          7.8958,
          27.7208,
          7.75,
          52,
          7.2292,
          8.05,
          18,
          11.2417,
          9.475,
          21,
          7.8958,
          41.5792,
          7.8792,
          8.05,
          15.5,
          7.75,
          21.6792,
          17.8,
          39.6875,
          7.8,
          26,
          35.5,
          10.5,
          7.2292,
          27.75,
          46.9,
          7.2292,
          27.9,
          27.7208,
          15.2458,
          10.5,
          8.1583,
          7.925,
          8.6625,
          10.5,
          46.9,
          14.4542,
          56.4958,
          7.65,
          7.8958,
          8.05,
          12.475,
          9,
          9.5,
          7.7875,
          47.1,
          10.5,
          15.85,
          34.375,
          8.05,
          8.05,
          8.05,
          7.8542,
          61.175,
          20.575,
          8.05,
          23,
          26,
          7.8958,
          7.8958,
          8.6542,
          7.925,
          7.8958,
          7.65,
          7.775,
          7.8958,
          24.15,
          52,
          14.4542,
          8.05,
          9.825,
          14.4583,
          7.925,
          21,
          8.05,
          30.0708,
          13,
          11.2417,
          7.75,
          7.1417,
          22.3583,
          6.975,
          7.8958,
          7.05,
          14.5,
          26,
          13,
          15.0458,
          26.2833,
          53.1,
          9.2167,
          15.2458,
          7.75,
          15.85,
          6.75,
          11.5,
          36.75,
          7.7958,
          34.375,
          26,
          13,
          12.525,
          14.5,
          7.3125,
          61.3792,
          7.7333,
          8.05,
          8.6625,
          16.1,
          15.75,
          7.775,
          8.6625,
          20.525,
          55,
          27.9,
          25.925,
          56.4958,
          29.125,
          7.925,
          7.8542,
          25.4667,
          28.7125,
          13,
          0,
          15.05,
          31.3875,
          22.025,
          50,
          15.5,
          26.55,
          15.5,
          7.8958,
          13,
          13,
          7.8542,
          26,
          27.7208,
          7.75,
          8.4042,
          7.75,
          13,
          9.5,
          6.4958,
          7.225,
          8.05,
          15.85,
          18.7875,
          7.75,
          31,
          7.05,
          21,
          7.25,
          13,
          7.75,
          7.925,
          27,
          10.5,
          8.05,
          13,
          8.05,
          7.8958,
          9.35,
          10.5,
          7.25,
          13,
          25.4667,
          7.775,
          31.3875,
          10.5,
          7.55,
          26,
          26.25,
          10.5,
          12.275,
          14.4542,
          15.5,
          10.5,
          7.125,
          7.225,
          7.775,
          14.5,
          52.5542,
          26,
          7.25,
          10.4625,
          16.1,
          20.2125,
          15.2458,
          26,
          7.75,
          31.3875,
          0,
          7.75,
          10.5,
          39.6875,
          7.775,
          31,
          0,
          19.5,
          29.7,
          7.75,
          7.75,
          0,
          29.125,
          20.25,
          7.8542,
          9.5,
          8.05,
          26,
          8.6625,
          9.5,
          7.8958,
          13,
          7.75,
          12.875,
          8.85,
          7.8958,
          27.7208,
          7.2292,
          30.5,
          7.75,
          23.25,
          0,
          12.35,
          8.05,
          24,
          56.9292,
          26,
          7.8958,
          26.25,
          7.8542,
          26,
          14,
          7.25,
          7.8958,
          12.35,
          29,
          13,
          20.525,
          57.9792,
          23.25,
          28.5,
          18,
          7.8958,
          8.05,
          35.5,
          13,
          13,
          13,
          13,
          13,
          16.1,
          15.9,
          8.6625,
          9.225,
          35,
          7.2292,
          17.8,
          7.225,
          9.5,
          55,
          13,
          7.8792,
          7.8792,
          27.9,
          27.7208,
          14.4542,
          7.05,
          15.5,
          7.25,
          7.2292,
          7.75,
          55.4417,
          6.4958,
          8.05,
          21.075,
          7.25,
          4.0125,
          7.775,
          7.925,
          52,
          7.8958,
          13,
          7.7292,
          12,
          7.7958,
          7.925,
          16.7,
          7.7958,
          7.8542,
          26,
          10.5,
          12.65,
          7.925,
          8.05,
          9.825,
          15.85,
          8.6625,
          21,
          7.75,
          18.75,
          7.775,
          25.4667,
          7.8958,
          6.8583,
          0,
          7.925,
          8.05,
          32.5,
          13,
          13,
          24.15,
          7.8958,
          7.7333,
          7.875,
          14.4,
          20.2125,
          7.25,
          26,
          26,
          7.75,
          8.05,
          26.55,
          16.1,
          26,
          7.125,
          55.9,
          34.375,
          18.75,
          10.5,
          26.25,
          9.5,
          7.775,
          13,
          8.1125,
          19.5,
          26.55,
          19.2583,
          30.5,
          27.75,
          19.9667,
          27.75,
          8.05,
          7.8958,
          51.8625,
          10.5,
          7.75,
          26.55,
          8.05,
          38.5,
          13,
          8.05,
          7.05,
          0,
          7.725,
          7.25,
          8.6625,
          27.75,
          13.7917,
          9.8375,
          52,
          21,
          7.0458,
          7.5208,
          46.9,
          0,
          8.05,
          25.4667,
          8.05,
          15.9,
          19.9667,
          7.25,
          8.05,
          14.4583,
          15.1,
          7.7958,
          8.6625,
          7.75,
          7.6292,
          9.5875,
          26,
          26.55,
          22.525,
          56.4958,
          7.75,
          8.05,
          26.2875,
          59.4,
          7.4958,
          34.0208,
          10.5,
          24.15,
          26,
          7.8958,
          7.8958,
          7.225,
          57.9792,
          7.2292,
          7.75,
          10.5,
          7.925,
          11.5,
          7.2292,
          7.2292,
          22.3583,
          8.6625,
          26.25,
          26.55,
          14.5,
          49.5,
          31.275,
          31.275,
          26,
          26,
          13.8625,
          20.525,
          36.75,
          26,
          7.8292,
          7.225,
          7.775,
          39.6,
          17.4,
          7.75,
          7.8958,
          13.5,
          8.05,
          8.05,
          24.15,
          7.8958,
          21.075,
          7.2292,
          7.8542,
          51.4792,
          26.3875,
          7.75,
          8.05,
          14.5,
          13,
          55.9,
          14.4583,
          7.925,
          30,
          26,
          40.125,
          8.7125,
          15,
          8.05,
          8.05,
          7.125,
          7.25,
          7.75,
          26,
          24.15,
          33,
          0,
          7.225,
          56.9292,
          27,
          7.8958,
          42.4,
          8.05,
          26.55,
          15.55,
          7.8958,
          30.5,
          41.5792,
          31.275,
          7.05,
          15.5,
          7.75,
          8.05,
          14.4,
          16.1,
          39,
          10.5,
          14.4542,
          52.5542,
          15.7417,
          7.8542,
          16.1,
          7.8958,
          7.7333,
          7.0542,
          30.5,
          0,
          27.9,
          13,
          7.925,
          26.25,
          39.6875,
          16.1,
          7.8542,
          56.4958,
          7.8958,
          7.55,
          7.55,
          7.8958,
          23,
          8.4333,
          7.8292,
          6.75,
          7.8958,
          15.5,
          13,
          7.225,
          25.5875,
          7.4958,
          7.925,
          13,
          7.775,
          8.05,
          52,
          39,
          52,
          13,
          0,
          7.775,
          8.05,
          9.8417,
          46.9,
          8.1375,
          9.225,
          46.9,
          41.5792,
          39.6875,
          10.1708,
          7.7958,
          57,
          13.4167,
          56.4958,
          7.225,
          13.5,
          8.05,
          7.7333,
          7.65,
          26.2875,
          14.4542,
          7.7417,
          7.8542,
          26,
          13.5,
          26.2875,
          15.2458,
          49.5042,
          26.55,
          52,
          9.4833,
          13,
          7.65,
          10.5,
          15.5,
          7.775,
          33,
          7.0542,
          13,
          13,
          53.1,
          8.6625,
          21,
          7.7375,
          26,
          7.925,
          18.7875,
          0,
          13,
          13,
          16.1,
          34.375,
          7.8958,
          7.8958,
          30,
          16.1,
          7.925,
          20.25,
          13,
          53.1,
          7.75,
          23,
          12.475,
          9.5,
          7.8958,
          7.7958,
          11.5,
          8.05,
          14.5,
          7.125,
          7.2292,
          7.775,
          39.6,
          7.75,
          24.15,
          8.3625,
          9.5,
          7.8542,
          7.225,
          23,
          7.75,
          7.75,
          12.475,
          7.7375,
          7.2292,
          57,
          30,
          23.45,
          7.05,
          7.25,
          7.4958,
          29.125,
          7.75,
          26,
          30.6958,
          7.8958,
          13,
          25.9292,
          8.6833,
          7.2292,
          24.15,
          13,
          26.25,
          6.975,
          7.775,
          0,
          7.775,
          13,
          53.1,
          7.8875,
          24.15,
          10.5,
          31.275,
          8.05,
          0,
          7.925,
          37.0042,
          6.45,
          27.9,
          8.6625,
          0,
          12.475,
          6.95,
          56.4958,
          7.75,
          14.4542,
          7.2292,
          7.8542,
          8.3,
          8.6625,
          8.05,
          56.4958,
          29.7,
          7.925,
          10.5,
          31,
          6.4375,
          8.6625,
          7.55,
          7.8958,
          33,
          31.275,
          15.2458,
          39.4,
          26,
          9.35,
          26.55,
          19.2583,
          7.2292,
          14.1083,
          11.5,
          25.9292,
          13,
          13,
          13.8583,
          50.4958,
          9.5,
          11.1333,
          7.8958,
          52.5542,
          5,
          9,
          24,
          7.225,
          9.8458,
          7.8958,
          7.8958,
          26,
          7.8958,
          10.5167,
          10.5,
          7.05,
          29.125,
          13,
          30,
          23.45,
          30,
          7.75
         ],
         "yaxis": "y"
        }
       ],
       "layout": {
        "coloraxis": {
         "colorbar": {
          "title": {
           "text": "survived"
          }
         },
         "colorscale": [
          [
           0,
           "#440154"
          ],
          [
           0.1111111111111111,
           "#482878"
          ],
          [
           0.2222222222222222,
           "#3e4989"
          ],
          [
           0.3333333333333333,
           "#31688e"
          ],
          [
           0.4444444444444444,
           "#26828e"
          ],
          [
           0.5555555555555556,
           "#1f9e89"
          ],
          [
           0.6666666666666666,
           "#35b779"
          ],
          [
           0.7777777777777778,
           "#6ece58"
          ],
          [
           0.8888888888888888,
           "#b5de2b"
          ],
          [
           1,
           "#fde725"
          ]
         ]
        },
        "legend": {
         "tracegroupgap": 0
        },
        "template": {
         "data": {
          "bar": [
           {
            "error_x": {
             "color": "#f2f5fa"
            },
            "error_y": {
             "color": "#f2f5fa"
            },
            "marker": {
             "line": {
              "color": "rgb(17,17,17)",
              "width": 0.5
             },
             "pattern": {
              "fillmode": "overlay",
              "size": 10,
              "solidity": 0.2
             }
            },
            "type": "bar"
           }
          ],
          "barpolar": [
           {
            "marker": {
             "line": {
              "color": "rgb(17,17,17)",
              "width": 0.5
             },
             "pattern": {
              "fillmode": "overlay",
              "size": 10,
              "solidity": 0.2
             }
            },
            "type": "barpolar"
           }
          ],
          "carpet": [
           {
            "aaxis": {
             "endlinecolor": "#A2B1C6",
             "gridcolor": "#506784",
             "linecolor": "#506784",
             "minorgridcolor": "#506784",
             "startlinecolor": "#A2B1C6"
            },
            "baxis": {
             "endlinecolor": "#A2B1C6",
             "gridcolor": "#506784",
             "linecolor": "#506784",
             "minorgridcolor": "#506784",
             "startlinecolor": "#A2B1C6"
            },
            "type": "carpet"
           }
          ],
          "choropleth": [
           {
            "colorbar": {
             "outlinewidth": 0,
             "ticks": ""
            },
            "type": "choropleth"
           }
          ],
          "contour": [
           {
            "colorbar": {
             "outlinewidth": 0,
             "ticks": ""
            },
            "colorscale": [
             [
              0,
              "#0d0887"
             ],
             [
              0.1111111111111111,
              "#46039f"
             ],
             [
              0.2222222222222222,
              "#7201a8"
             ],
             [
              0.3333333333333333,
              "#9c179e"
             ],
             [
              0.4444444444444444,
              "#bd3786"
             ],
             [
              0.5555555555555556,
              "#d8576b"
             ],
             [
              0.6666666666666666,
              "#ed7953"
             ],
             [
              0.7777777777777778,
              "#fb9f3a"
             ],
             [
              0.8888888888888888,
              "#fdca26"
             ],
             [
              1,
              "#f0f921"
             ]
            ],
            "type": "contour"
           }
          ],
          "contourcarpet": [
           {
            "colorbar": {
             "outlinewidth": 0,
             "ticks": ""
            },
            "type": "contourcarpet"
           }
          ],
          "heatmap": [
           {
            "colorbar": {
             "outlinewidth": 0,
             "ticks": ""
            },
            "colorscale": [
             [
              0,
              "#0d0887"
             ],
             [
              0.1111111111111111,
              "#46039f"
             ],
             [
              0.2222222222222222,
              "#7201a8"
             ],
             [
              0.3333333333333333,
              "#9c179e"
             ],
             [
              0.4444444444444444,
              "#bd3786"
             ],
             [
              0.5555555555555556,
              "#d8576b"
             ],
             [
              0.6666666666666666,
              "#ed7953"
             ],
             [
              0.7777777777777778,
              "#fb9f3a"
             ],
             [
              0.8888888888888888,
              "#fdca26"
             ],
             [
              1,
              "#f0f921"
             ]
            ],
            "type": "heatmap"
           }
          ],
          "heatmapgl": [
           {
            "colorbar": {
             "outlinewidth": 0,
             "ticks": ""
            },
            "colorscale": [
             [
              0,
              "#0d0887"
             ],
             [
              0.1111111111111111,
              "#46039f"
             ],
             [
              0.2222222222222222,
              "#7201a8"
             ],
             [
              0.3333333333333333,
              "#9c179e"
             ],
             [
              0.4444444444444444,
              "#bd3786"
             ],
             [
              0.5555555555555556,
              "#d8576b"
             ],
             [
              0.6666666666666666,
              "#ed7953"
             ],
             [
              0.7777777777777778,
              "#fb9f3a"
             ],
             [
              0.8888888888888888,
              "#fdca26"
             ],
             [
              1,
              "#f0f921"
             ]
            ],
            "type": "heatmapgl"
           }
          ],
          "histogram": [
           {
            "marker": {
             "pattern": {
              "fillmode": "overlay",
              "size": 10,
              "solidity": 0.2
             }
            },
            "type": "histogram"
           }
          ],
          "histogram2d": [
           {
            "colorbar": {
             "outlinewidth": 0,
             "ticks": ""
            },
            "colorscale": [
             [
              0,
              "#0d0887"
             ],
             [
              0.1111111111111111,
              "#46039f"
             ],
             [
              0.2222222222222222,
              "#7201a8"
             ],
             [
              0.3333333333333333,
              "#9c179e"
             ],
             [
              0.4444444444444444,
              "#bd3786"
             ],
             [
              0.5555555555555556,
              "#d8576b"
             ],
             [
              0.6666666666666666,
              "#ed7953"
             ],
             [
              0.7777777777777778,
              "#fb9f3a"
             ],
             [
              0.8888888888888888,
              "#fdca26"
             ],
             [
              1,
              "#f0f921"
             ]
            ],
            "type": "histogram2d"
           }
          ],
          "histogram2dcontour": [
           {
            "colorbar": {
             "outlinewidth": 0,
             "ticks": ""
            },
            "colorscale": [
             [
              0,
              "#0d0887"
             ],
             [
              0.1111111111111111,
              "#46039f"
             ],
             [
              0.2222222222222222,
              "#7201a8"
             ],
             [
              0.3333333333333333,
              "#9c179e"
             ],
             [
              0.4444444444444444,
              "#bd3786"
             ],
             [
              0.5555555555555556,
              "#d8576b"
             ],
             [
              0.6666666666666666,
              "#ed7953"
             ],
             [
              0.7777777777777778,
              "#fb9f3a"
             ],
             [
              0.8888888888888888,
              "#fdca26"
             ],
             [
              1,
              "#f0f921"
             ]
            ],
            "type": "histogram2dcontour"
           }
          ],
          "mesh3d": [
           {
            "colorbar": {
             "outlinewidth": 0,
             "ticks": ""
            },
            "type": "mesh3d"
           }
          ],
          "parcoords": [
           {
            "line": {
             "colorbar": {
              "outlinewidth": 0,
              "ticks": ""
             }
            },
            "type": "parcoords"
           }
          ],
          "pie": [
           {
            "automargin": true,
            "type": "pie"
           }
          ],
          "scatter": [
           {
            "marker": {
             "line": {
              "color": "#283442"
             }
            },
            "type": "scatter"
           }
          ],
          "scatter3d": [
           {
            "line": {
             "colorbar": {
              "outlinewidth": 0,
              "ticks": ""
             }
            },
            "marker": {
             "colorbar": {
              "outlinewidth": 0,
              "ticks": ""
             }
            },
            "type": "scatter3d"
           }
          ],
          "scattercarpet": [
           {
            "marker": {
             "colorbar": {
              "outlinewidth": 0,
              "ticks": ""
             }
            },
            "type": "scattercarpet"
           }
          ],
          "scattergeo": [
           {
            "marker": {
             "colorbar": {
              "outlinewidth": 0,
              "ticks": ""
             }
            },
            "type": "scattergeo"
           }
          ],
          "scattergl": [
           {
            "marker": {
             "line": {
              "color": "#283442"
             }
            },
            "type": "scattergl"
           }
          ],
          "scattermapbox": [
           {
            "marker": {
             "colorbar": {
              "outlinewidth": 0,
              "ticks": ""
             }
            },
            "type": "scattermapbox"
           }
          ],
          "scatterpolar": [
           {
            "marker": {
             "colorbar": {
              "outlinewidth": 0,
              "ticks": ""
             }
            },
            "type": "scatterpolar"
           }
          ],
          "scatterpolargl": [
           {
            "marker": {
             "colorbar": {
              "outlinewidth": 0,
              "ticks": ""
             }
            },
            "type": "scatterpolargl"
           }
          ],
          "scatterternary": [
           {
            "marker": {
             "colorbar": {
              "outlinewidth": 0,
              "ticks": ""
             }
            },
            "type": "scatterternary"
           }
          ],
          "surface": [
           {
            "colorbar": {
             "outlinewidth": 0,
             "ticks": ""
            },
            "colorscale": [
             [
              0,
              "#0d0887"
             ],
             [
              0.1111111111111111,
              "#46039f"
             ],
             [
              0.2222222222222222,
              "#7201a8"
             ],
             [
              0.3333333333333333,
              "#9c179e"
             ],
             [
              0.4444444444444444,
              "#bd3786"
             ],
             [
              0.5555555555555556,
              "#d8576b"
             ],
             [
              0.6666666666666666,
              "#ed7953"
             ],
             [
              0.7777777777777778,
              "#fb9f3a"
             ],
             [
              0.8888888888888888,
              "#fdca26"
             ],
             [
              1,
              "#f0f921"
             ]
            ],
            "type": "surface"
           }
          ],
          "table": [
           {
            "cells": {
             "fill": {
              "color": "#506784"
             },
             "line": {
              "color": "rgb(17,17,17)"
             }
            },
            "header": {
             "fill": {
              "color": "#2a3f5f"
             },
             "line": {
              "color": "rgb(17,17,17)"
             }
            },
            "type": "table"
           }
          ]
         },
         "layout": {
          "annotationdefaults": {
           "arrowcolor": "#f2f5fa",
           "arrowhead": 0,
           "arrowwidth": 1
          },
          "autotypenumbers": "strict",
          "coloraxis": {
           "colorbar": {
            "outlinewidth": 0,
            "ticks": ""
           }
          },
          "colorscale": {
           "diverging": [
            [
             0,
             "#8e0152"
            ],
            [
             0.1,
             "#c51b7d"
            ],
            [
             0.2,
             "#de77ae"
            ],
            [
             0.3,
             "#f1b6da"
            ],
            [
             0.4,
             "#fde0ef"
            ],
            [
             0.5,
             "#f7f7f7"
            ],
            [
             0.6,
             "#e6f5d0"
            ],
            [
             0.7,
             "#b8e186"
            ],
            [
             0.8,
             "#7fbc41"
            ],
            [
             0.9,
             "#4d9221"
            ],
            [
             1,
             "#276419"
            ]
           ],
           "sequential": [
            [
             0,
             "#0d0887"
            ],
            [
             0.1111111111111111,
             "#46039f"
            ],
            [
             0.2222222222222222,
             "#7201a8"
            ],
            [
             0.3333333333333333,
             "#9c179e"
            ],
            [
             0.4444444444444444,
             "#bd3786"
            ],
            [
             0.5555555555555556,
             "#d8576b"
            ],
            [
             0.6666666666666666,
             "#ed7953"
            ],
            [
             0.7777777777777778,
             "#fb9f3a"
            ],
            [
             0.8888888888888888,
             "#fdca26"
            ],
            [
             1,
             "#f0f921"
            ]
           ],
           "sequentialminus": [
            [
             0,
             "#0d0887"
            ],
            [
             0.1111111111111111,
             "#46039f"
            ],
            [
             0.2222222222222222,
             "#7201a8"
            ],
            [
             0.3333333333333333,
             "#9c179e"
            ],
            [
             0.4444444444444444,
             "#bd3786"
            ],
            [
             0.5555555555555556,
             "#d8576b"
            ],
            [
             0.6666666666666666,
             "#ed7953"
            ],
            [
             0.7777777777777778,
             "#fb9f3a"
            ],
            [
             0.8888888888888888,
             "#fdca26"
            ],
            [
             1,
             "#f0f921"
            ]
           ]
          },
          "colorway": [
           "#636efa",
           "#EF553B",
           "#00cc96",
           "#ab63fa",
           "#FFA15A",
           "#19d3f3",
           "#FF6692",
           "#B6E880",
           "#FF97FF",
           "#FECB52"
          ],
          "font": {
           "color": "#f2f5fa"
          },
          "geo": {
           "bgcolor": "rgb(17,17,17)",
           "lakecolor": "rgb(17,17,17)",
           "landcolor": "rgb(17,17,17)",
           "showlakes": true,
           "showland": true,
           "subunitcolor": "#506784"
          },
          "hoverlabel": {
           "align": "left"
          },
          "hovermode": "closest",
          "mapbox": {
           "style": "dark"
          },
          "paper_bgcolor": "rgb(17,17,17)",
          "plot_bgcolor": "rgb(17,17,17)",
          "polar": {
           "angularaxis": {
            "gridcolor": "#506784",
            "linecolor": "#506784",
            "ticks": ""
           },
           "bgcolor": "rgb(17,17,17)",
           "radialaxis": {
            "gridcolor": "#506784",
            "linecolor": "#506784",
            "ticks": ""
           }
          },
          "scene": {
           "xaxis": {
            "backgroundcolor": "rgb(17,17,17)",
            "gridcolor": "#506784",
            "gridwidth": 2,
            "linecolor": "#506784",
            "showbackground": true,
            "ticks": "",
            "zerolinecolor": "#C8D4E3"
           },
           "yaxis": {
            "backgroundcolor": "rgb(17,17,17)",
            "gridcolor": "#506784",
            "gridwidth": 2,
            "linecolor": "#506784",
            "showbackground": true,
            "ticks": "",
            "zerolinecolor": "#C8D4E3"
           },
           "zaxis": {
            "backgroundcolor": "rgb(17,17,17)",
            "gridcolor": "#506784",
            "gridwidth": 2,
            "linecolor": "#506784",
            "showbackground": true,
            "ticks": "",
            "zerolinecolor": "#C8D4E3"
           }
          },
          "shapedefaults": {
           "line": {
            "color": "#f2f5fa"
           }
          },
          "sliderdefaults": {
           "bgcolor": "#C8D4E3",
           "bordercolor": "rgb(17,17,17)",
           "borderwidth": 1,
           "tickwidth": 0
          },
          "ternary": {
           "aaxis": {
            "gridcolor": "#506784",
            "linecolor": "#506784",
            "ticks": ""
           },
           "baxis": {
            "gridcolor": "#506784",
            "linecolor": "#506784",
            "ticks": ""
           },
           "bgcolor": "rgb(17,17,17)",
           "caxis": {
            "gridcolor": "#506784",
            "linecolor": "#506784",
            "ticks": ""
           }
          },
          "title": {
           "x": 0.05
          },
          "updatemenudefaults": {
           "bgcolor": "#506784",
           "borderwidth": 0
          },
          "xaxis": {
           "automargin": true,
           "gridcolor": "#283442",
           "linecolor": "#506784",
           "ticks": "",
           "title": {
            "standoff": 15
           },
           "zerolinecolor": "#283442",
           "zerolinewidth": 2
          },
          "yaxis": {
           "automargin": true,
           "gridcolor": "#283442",
           "linecolor": "#506784",
           "ticks": "",
           "title": {
            "standoff": 15
           },
           "zerolinecolor": "#283442",
           "zerolinewidth": 2
          }
         }
        },
        "title": {
         "text": "Relationship Between Age and Fare"
        },
        "xaxis": {
         "anchor": "y",
         "domain": [
          0,
          1
         ],
         "title": {
          "text": "Age of Passengers"
         }
        },
        "yaxis": {
         "anchor": "x",
         "domain": [
          0,
          1
         ],
         "title": {
          "text": "Fare Paid"
         }
        }
       }
      }
     },
     "metadata": {},
     "output_type": "display_data"
    }
   ],
   "source": [
    "# Create the scatter plot\n",
    "fig = px.scatter(df, \n",
    "                 x='age', \n",
    "                 y='fare', \n",
    "                 color='survived',  # Color by survival status\n",
    "                 title='Scatter Plot of Age vs. Fare',\n",
    "                 labels={'age': 'Age of Passengers', 'fare': 'Fare Paid'},\n",
    "                 color_continuous_scale=px.colors.sequential.Viridis,  # Color scale\n",
    "                 hover_data=['pclass', 'sex']  # Additional information on hover\n",
    "                )\n",
    "\n",
    "# Update layout for better appearance\n",
    "fig.update_layout(title='Relationship Between Age and Fare',\n",
    "                  xaxis_title='Age of Passengers',\n",
    "                  yaxis_title='Fare Paid',\n",
    "                  template='plotly_dark')  # Use a dark theme to match your style\n",
    "\n",
    "# Show the plot\n",
    "fig.show()"
   ]
  },
  {
   "cell_type": "markdown",
   "metadata": {},
   "source": [
    "## Interpretation Of the Plot:\n",
    "1. **Younger passengers:** The plot shows a dense cluster of passengers around the younger age range, particularly between 10 and 30 years old. These passengers appear to have paid a wide range of fares, with some paying relatively low fares and others paying higher fares.\n",
    "\n",
    "2. **Older passengers:** As the age of passengers increases, the data points become more scattered, with fewer passengers in the older age ranges. The fares paid by older passengers also appear to be more varied, with some paying higher fares and others paying lower fares.\n",
    "3. **Survival rates:** The color gradient indicates that passengers who paid higher fares generally had a higher probability of surviving, as shown by the yellow and green shades. Conversely, passengers who paid lower fares had a lower probability of surviving, as indicated by the blue and purple shades."
   ]
  },
  {
   "cell_type": "code",
   "execution_count": 68,
   "metadata": {},
   "outputs": [
    {
     "name": "stdout",
     "output_type": "stream",
     "text": [
      "<class 'pandas.core.frame.DataFrame'>\n",
      "Index: 664 entries, 0 to 890\n",
      "Data columns (total 15 columns):\n",
      " #   Column       Non-Null Count  Dtype   \n",
      "---  ------       --------------  -----   \n",
      " 0   survived     664 non-null    int64   \n",
      " 1   pclass       664 non-null    int64   \n",
      " 2   sex          664 non-null    object  \n",
      " 3   age          664 non-null    float64 \n",
      " 4   sibsp        664 non-null    int64   \n",
      " 5   parch        664 non-null    int64   \n",
      " 6   fare         664 non-null    float64 \n",
      " 7   embarked     664 non-null    object  \n",
      " 8   class        664 non-null    category\n",
      " 9   who          664 non-null    object  \n",
      " 10  adult_male   664 non-null    bool    \n",
      " 11  embark_town  664 non-null    object  \n",
      " 12  alive        664 non-null    object  \n",
      " 13  alone        664 non-null    bool    \n",
      " 14  ageGroup     664 non-null    category\n",
      "dtypes: bool(2), category(2), float64(2), int64(4), object(5)\n",
      "memory usage: 65.2+ KB\n"
     ]
    }
   ],
   "source": [
    "df.info()"
   ]
  },
  {
   "cell_type": "code",
   "execution_count": 86,
   "metadata": {},
   "outputs": [
    {
     "data": {
      "text/plain": [
       "alone\n",
       "True     454\n",
       "False    210\n",
       "Name: count, dtype: int64"
      ]
     },
     "execution_count": 86,
     "metadata": {},
     "output_type": "execute_result"
    }
   ],
   "source": [
    "df['alone'].value_counts()"
   ]
  },
  {
   "cell_type": "code",
   "execution_count": 106,
   "metadata": {},
   "outputs": [
    {
     "name": "stdout",
     "output_type": "stream",
     "text": [
      "Original Data Types:\n",
      "survived           int64\n",
      "pclass             int64\n",
      "sex               object\n",
      "age              float64\n",
      "sibsp              int64\n",
      "parch              int64\n",
      "fare             float64\n",
      "embarked          object\n",
      "class           category\n",
      "who               object\n",
      "adult_male          bool\n",
      "embark_town       object\n",
      "alive             object\n",
      "alone               bool\n",
      "sex_num            int32\n",
      "embarked_num       int32\n",
      "class_num          int32\n",
      "who_num            int32\n",
      "alive_num          int32\n",
      "dtype: object\n",
      "\n",
      "Updated Data Types:\n",
      "survived             int64\n",
      "pclass               int64\n",
      "sex                 object\n",
      "age                float64\n",
      "sibsp                int64\n",
      "parch                int64\n",
      "fare               float64\n",
      "embarked            object\n",
      "class             category\n",
      "who                 object\n",
      "adult_male            bool\n",
      "embark_town         object\n",
      "alive               object\n",
      "alone                 bool\n",
      "sex_num              int32\n",
      "embarked_num         int32\n",
      "class_num            int32\n",
      "who_num              int32\n",
      "alive_num            int32\n",
      "adult_male_num       int32\n",
      "alone_num            int32\n",
      "dtype: object\n",
      "\n",
      "Updated DataFrame:\n",
      "   survived  pclass     sex   age  sibsp  parch     fare embarked  class  \\\n",
      "0         0       3    male  22.0      1      0   7.2500        S  Third   \n",
      "2         1       3  female  26.0      0      0   7.9250        S  Third   \n",
      "3         1       1  female  35.0      1      0  53.1000        S  First   \n",
      "4         0       3    male  35.0      0      0   8.0500        S  Third   \n",
      "5         0       3    male  28.0      0      0   8.4583        Q  Third   \n",
      "\n",
      "     who  ...  embark_town alive  alone  sex_num  embarked_num  class_num  \\\n",
      "0    man  ...  Southampton    no  False        1             2          2   \n",
      "2  woman  ...  Southampton   yes   True        0             2          2   \n",
      "3  woman  ...  Southampton   yes  False        0             2          0   \n",
      "4    man  ...  Southampton    no   True        1             2          2   \n",
      "5    man  ...   Queenstown    no   True        1             1          2   \n",
      "\n",
      "   who_num  alive_num  adult_male_num  alone_num  \n",
      "0        1          0               1          0  \n",
      "2        2          1               0          1  \n",
      "3        2          1               0          0  \n",
      "4        1          0               1          1  \n",
      "5        1          0               1          1  \n",
      "\n",
      "[5 rows x 21 columns]\n"
     ]
    }
   ],
   "source": [
    "import pandas as pd\n",
    "from sklearn.preprocessing import LabelEncoder\n",
    "\n",
    "# Display the original data types\n",
    "print(\"Original Data Types:\")\n",
    "print(df.dtypes)\n",
    "\n",
    "# List of categorical and boolean columns to convert\n",
    "categorical_columns = ['sex', 'embarked', 'class', 'who', 'alive',  'adult_male', 'alone']\n",
    "\n",
    "# Convert categorical columns to numerical categories using LabelEncoder\n",
    "label_encoder = LabelEncoder()\n",
    "for column in categorical_columns:\n",
    "    df[column+\"_num\"] = label_encoder.fit_transform(df[column].astype(str))\n",
    "\n",
    "# Convert boolean columns to integers\n",
    "bool_columns = ['adult_male', 'alone']\n",
    "for column in bool_columns:\n",
    "    df[column+\"_num\"] = df[column].astype(int)  # Convert boolean to int (True=1, False=0)\n",
    "\n",
    "# Display the updated data types\n",
    "print(\"\\nUpdated Data Types:\")\n",
    "print(df.dtypes)\n",
    "\n",
    "# Show the first few rows of the updated DataFrame\n",
    "print(\"\\nUpdated DataFrame:\")\n",
    "print(df.head())\n"
   ]
  },
  {
   "cell_type": "code",
   "execution_count": 109,
   "metadata": {},
   "outputs": [
    {
     "name": "stdout",
     "output_type": "stream",
     "text": [
      "sex     sex_num\n",
      "female  0          229\n",
      "male    1          489\n",
      "Name: count, dtype: int64\n",
      "==============\n",
      "embarked  embarked_num\n",
      "C         0               104\n",
      "Q         1                71\n",
      "S         2               543\n",
      "Name: count, dtype: int64\n",
      "==============\n",
      "class   class_num\n",
      "First   0             94\n",
      "        1              0\n",
      "        2              0\n",
      "Second  1            162\n",
      "        0              0\n",
      "        2              0\n",
      "Third   2            462\n",
      "        0              0\n",
      "        1              0\n",
      "Name: count, dtype: int64\n",
      "==============\n",
      "who    who_num\n",
      "child  0           55\n",
      "man    1          465\n",
      "woman  2          198\n",
      "Name: count, dtype: int64\n",
      "==============\n",
      "alive  alive_num\n",
      "no     0            478\n",
      "yes    1            240\n",
      "Name: count, dtype: int64\n",
      "==============\n",
      "adult_male  adult_male_num\n",
      "False       0                 253\n",
      "True        1                 465\n",
      "Name: count, dtype: int64\n",
      "==============\n",
      "alone  alone_num\n",
      "False  0            245\n",
      "True   1            473\n",
      "Name: count, dtype: int64\n"
     ]
    },
    {
     "name": "stderr",
     "output_type": "stream",
     "text": [
      "C:\\Users\\DENZEN COMPUTERS\\AppData\\Local\\Temp\\ipykernel_9360\\696379421.py:5: FutureWarning:\n",
      "\n",
      "The default of observed=False is deprecated and will be changed to True in a future version of pandas. Pass observed=False to retain current behavior or observed=True to adopt the future default and silence this warning.\n",
      "\n"
     ]
    }
   ],
   "source": [
    "print(df.groupby('sex')['sex_num'].value_counts())\n",
    "print(\"==============\")\n",
    "print(df.groupby('embarked')['embarked_num'].value_counts())\n",
    "print(\"==============\")\n",
    "print(df.groupby('class')['class_num'].value_counts())\n",
    "print(\"==============\")\n",
    "print(df.groupby('who')['who_num'].value_counts())\n",
    "print(\"==============\")\n",
    "print(df.groupby('alive')['alive_num'].value_counts())\n",
    "print(\"==============\")\n",
    "print(df.groupby('adult_male')['adult_male_num'].value_counts())\n",
    "print(\"==============\")\n",
    "print(df.groupby('alone')['alone_num'].value_counts())\n"
   ]
  },
  {
   "cell_type": "markdown",
   "metadata": {},
   "source": [
    "<!DOCTYPE html>\n",
    "<html lang=\"en\">\n",
    "<head>\n",
    "    <meta charset=\"UTF-8\">\n",
    "    <meta name=\"viewport\" content=\"width=device-width, initial-scale=1.0\">\n",
    "    <title>Statistical Analysis Section</title>\n",
    "    <style>\n",
    "        body {\n",
    "            background-color: #1a1a1a; /* Dark background for dark theme */\n",
    "            color: #e0e0e0; /* Light text color */\n",
    "            font-family: 'Arial', sans-serif;\n",
    "            margin: 0;\n",
    "            padding: 20px;\n",
    "            display: flex;\n",
    "            justify-content: center;\n",
    "            align-items: center;\n",
    "            height: 100vh;\n",
    "            text-align: center;\n",
    "        }\n",
    "        .analysis-header {\n",
    "            padding: 30px;\n",
    "            border-radius: 15px;\n",
    "            position: relative; /* For positioning the pseudo-elements */\n",
    "            overflow: hidden; /* Ensure inner elements don't overflow */\n",
    "            transition: transform 0.3s, box-shadow 0.3s;\n",
    "            box-shadow: 0 4px 20px rgba(0, 0, 0, 0.5);\n",
    "        }\n",
    "        .analysis-header:hover {\n",
    "            box-shadow: 0 8px 40px rgba(0, 0, 0, 0.7); /* Enhanced shadow on hover */\n",
    "            transform: scale(1.05); /* Slight zoom effect on hover */\n",
    "        }\n",
    "        .analysis-header h2 {\n",
    "            margin: 0;\n",
    "            font-size: 2.5em;\n",
    "            text-shadow: 2px 2px 10px rgba(0, 0, 0, 0.8); /* Stronger shadow for depth */\n",
    "            transition: color 0.3s; /* Transition for text color */\n",
    "        }\n",
    "        .analysis-header:hover h2 {\n",
    "            color: #90caf9; /* Change text color on hover */\n",
    "        }\n",
    "        .analysis-description {\n",
    "            margin-top: 10px;\n",
    "            font-size: 1.2em;\n",
    "            line-height: 1.6;\n",
    "            opacity: 0.9; /* Slightly transparent */\n",
    "            transition: transform 0.3s, opacity 0.3s; /* Transition for description */\n",
    "        }\n",
    "        .analysis-header:hover .analysis-description {\n",
    "            transform: translateY(-5px); /* Slight upward move on hover */\n",
    "            opacity: 1; /* Full opacity on hover */\n",
    "        }\n",
    "    </style>\n",
    "</head>\n",
    "<body>\n",
    "    <div class=\"analysis-header\">\n",
    "        <h2>Let's Do Statistical Analysis</h2>\n",
    "        <p class=\"analysis-description\">In this section, we will explore the statistical properties of the Titanic dataset. \n",
    "        Get ready to uncover insights through measures such as mean, median, mode, and standard deviation, \n",
    "        along with visualizations to enhance our understanding of the data.</p>\n",
    "    </div>\n",
    "\n",
    "</body>\n",
    "</html>\n"
   ]
  },
  {
   "cell_type": "code",
   "execution_count": 116,
   "metadata": {},
   "outputs": [
    {
     "name": "stdout",
     "output_type": "stream",
     "text": [
      "T-test results:\n",
      "T-statistic: -1.705442126124575, P-value: 0.08854572625621597\n",
      "There is no significant difference in age between survivors and non-survivors.\n"
     ]
    }
   ],
   "source": [
    "from scipy import stats\n",
    "\n",
    "# Separate the ages of survivors and non-survivors\n",
    "survivors_age = df[df['survived'] == 1]['age'].dropna()\n",
    "non_survivors_age = df[df['survived'] == 0]['age'].dropna()\n",
    "\n",
    "# Perform the T-test\n",
    "t_stat, p_value = stats.ttest_ind(survivors_age, non_survivors_age)\n",
    "\n",
    "print(\"T-test results:\")\n",
    "print(f\"T-statistic: {t_stat}, P-value: {p_value}\")\n",
    "if p_value < 0.05:\n",
    "    print(\"There is a significant difference in age between survivors and non-survivors.\")\n",
    "else:\n",
    "    print(\"There is no significant difference in age between survivors and non-survivors.\")"
   ]
  },
  {
   "cell_type": "code",
   "execution_count": 117,
   "metadata": {},
   "outputs": [
    {
     "name": "stdout",
     "output_type": "stream",
     "text": [
      "\n",
      "Chi-Squared Test results:\n",
      "Chi-squared Statistic: 53.850012340692814, P-value: 2.0259018219238356e-12, Degrees of Freedom: 2\n",
      "There is a significant association between Pclass and Survived.\n"
     ]
    }
   ],
   "source": [
    "# Create a contingency table for Pclass and Survived\n",
    "contingency_table = pd.crosstab(df['pclass'], df['survived'])\n",
    "\n",
    "# Perform the Chi-Squared test\n",
    "chi2_stat, p_value, dof, expected = stats.chi2_contingency(contingency_table)\n",
    "\n",
    "print(\"\\nChi-Squared Test results:\")\n",
    "print(f\"Chi-squared Statistic: {chi2_stat}, P-value: {p_value}, Degrees of Freedom: {dof}\")\n",
    "\n",
    "if p_value < 0.05:\n",
    "    print(\"There is a significant association between Pclass and Survived.\")\n",
    "else:\n",
    "    print(\"There is no significant association between Pclass and Survived.\")"
   ]
  },
  {
   "cell_type": "code",
   "execution_count": 118,
   "metadata": {},
   "outputs": [
    {
     "name": "stdout",
     "output_type": "stream",
     "text": [
      "\n",
      "ANOVA Test results:\n",
      "F-statistic: 37.140285104142734, P-value: 4.510037991809027e-16\n",
      "There are significant differences in age across different passenger classes.\n"
     ]
    }
   ],
   "source": [
    "# Perform ANOVA on Age by Pclass\n",
    "anova_result = stats.f_oneway(df[df['pclass'] == 1]['age'].dropna(),\n",
    "                               df[df['pclass'] == 2]['age'].dropna(),\n",
    "                               df[df['pclass'] == 3]['age'].dropna())\n",
    "\n",
    "print(\"\\nANOVA Test results:\")\n",
    "print(f\"F-statistic: {anova_result.statistic}, P-value: {anova_result.pvalue}\")\n",
    "\n",
    "if anova_result.pvalue < 0.05:\n",
    "    print(\"There are significant differences in age across different passenger classes.\")\n",
    "else:\n",
    "    print(\"There are no significant differences in age across different passenger classes.\")"
   ]
  },
  {
   "cell_type": "code",
   "execution_count": 119,
   "metadata": {},
   "outputs": [
    {
     "name": "stdout",
     "output_type": "stream",
     "text": [
      "\n",
      "Correlation between Age and Fare:\n",
      "Correlation coefficient: 0.09861148711465792, P-value: 0.008188676085646628\n",
      "There is a significant correlation between Age and Fare.\n",
      "The correlation is weak.\n"
     ]
    }
   ],
   "source": [
    "# Calculate correlation between Age and Fare\n",
    "correlation, p_value = stats.pearsonr(df['age'].dropna(), df['fare'].dropna())\n",
    "\n",
    "print(\"\\nCorrelation between Age and Fare:\")\n",
    "print(f\"Correlation coefficient: {correlation}, P-value: {p_value}\")\n",
    "\n",
    "\n",
    "# Interpretation\n",
    "if p_value < 0.05:\n",
    "    print(\"There is a significant correlation between Age and Fare.\")\n",
    "    if abs(correlation) > 0.5:\n",
    "        print(\"The correlation is strong.\")\n",
    "    elif abs(correlation) > 0.3:\n",
    "        print(\"The correlation is moderate.\")\n",
    "    else:\n",
    "        print(\"The correlation is weak.\")\n",
    "else:\n",
    "    print(\"There is no significant correlation between Age and Fare.\")"
   ]
  },
  {
   "cell_type": "code",
   "execution_count": 123,
   "metadata": {},
   "outputs": [
    {
     "name": "stdout",
     "output_type": "stream",
     "text": [
      "<class 'pandas.core.frame.DataFrame'>\n",
      "Index: 718 entries, 0 to 890\n",
      "Data columns (total 21 columns):\n",
      " #   Column          Non-Null Count  Dtype   \n",
      "---  ------          --------------  -----   \n",
      " 0   survived        718 non-null    int64   \n",
      " 1   pclass          718 non-null    int64   \n",
      " 2   sex             718 non-null    object  \n",
      " 3   age             718 non-null    float64 \n",
      " 4   sibsp           718 non-null    int64   \n",
      " 5   parch           718 non-null    int64   \n",
      " 6   fare            718 non-null    float64 \n",
      " 7   embarked        718 non-null    object  \n",
      " 8   class           718 non-null    category\n",
      " 9   who             718 non-null    object  \n",
      " 10  adult_male      718 non-null    bool    \n",
      " 11  embark_town     718 non-null    object  \n",
      " 12  alive           718 non-null    object  \n",
      " 13  alone           718 non-null    bool    \n",
      " 14  sex_num         718 non-null    int32   \n",
      " 15  embarked_num    718 non-null    int32   \n",
      " 16  class_num       718 non-null    int32   \n",
      " 17  who_num         718 non-null    int32   \n",
      " 18  alive_num       718 non-null    int32   \n",
      " 19  adult_male_num  718 non-null    int32   \n",
      " 20  alone_num       718 non-null    int32   \n",
      "dtypes: bool(2), category(1), float64(2), int32(7), int64(4), object(5)\n",
      "memory usage: 89.2+ KB\n"
     ]
    }
   ],
   "source": [
    "df.info()"
   ]
  },
  {
   "cell_type": "code",
   "execution_count": null,
   "metadata": {},
   "outputs": [],
   "source": []
  },
  {
   "cell_type": "code",
   "execution_count": 125,
   "metadata": {},
   "outputs": [],
   "source": [
    "from sklearn.model_selection import train_test_split\n",
    "# Selecting features and target variable\n",
    "X = df[['pclass', 'sex_num', 'age', 'sibsp', 'parch', 'fare', \n",
    "         'embarked_num', 'class_num', 'who_num', \n",
    "         'adult_male_num', 'alone_num']]\n",
    "y = df['survived']\n",
    "\n",
    "# Splitting the dataset into training and testing sets\n",
    "X_train, X_test, y_train, y_test = train_test_split(X, y, test_size=0.2, random_state=42)\n"
   ]
  },
  {
   "cell_type": "code",
   "execution_count": 126,
   "metadata": {},
   "outputs": [
    {
     "name": "stderr",
     "output_type": "stream",
     "text": [
      "c:\\Users\\DENZEN COMPUTERS\\anaconda3\\envs\\ml_env\\Lib\\site-packages\\keras\\src\\layers\\core\\dense.py:87: UserWarning:\n",
      "\n",
      "Do not pass an `input_shape`/`input_dim` argument to a layer. When using Sequential models, prefer using an `Input(shape)` object as the first layer in the model instead.\n",
      "\n"
     ]
    }
   ],
   "source": [
    "import tensorflow as tf\n",
    "from tensorflow.keras import Sequential\n",
    "from tensorflow.keras.layers import Dense\n",
    "\n",
    "# Define the neural network architecture\n",
    "model = Sequential()\n",
    "model.add(Dense(16, activation='relu', input_shape=(X_train.shape[1],)))  # Input layer\n",
    "model.add(Dense(8, activation='relu'))  # Hidden layer\n",
    "model.add(Dense(1, activation='sigmoid'))  # Output layer for binary classification\n"
   ]
  },
  {
   "cell_type": "code",
   "execution_count": 127,
   "metadata": {},
   "outputs": [],
   "source": [
    "# compile the model\n",
    "model.compile(optimizer='adam', loss='binary_crossentropy', metrics=['accuracy'])\n"
   ]
  },
  {
   "cell_type": "code",
   "execution_count": 128,
   "metadata": {},
   "outputs": [
    {
     "name": "stdout",
     "output_type": "stream",
     "text": [
      "Epoch 1/100\n",
      "\u001b[1m46/46\u001b[0m \u001b[32m━━━━━━━━━━━━━━━━━━━━\u001b[0m\u001b[37m\u001b[0m \u001b[1m9s\u001b[0m 37ms/step - accuracy: 0.6446 - loss: 1.0937 - val_accuracy: 0.6783 - val_loss: 0.7100\n",
      "Epoch 2/100\n",
      "\u001b[1m46/46\u001b[0m \u001b[32m━━━━━━━━━━━━━━━━━━━━\u001b[0m\u001b[37m\u001b[0m \u001b[1m2s\u001b[0m 12ms/step - accuracy: 0.6570 - loss: 0.6631 - val_accuracy: 0.6870 - val_loss: 0.6587\n",
      "Epoch 3/100\n",
      "\u001b[1m46/46\u001b[0m \u001b[32m━━━━━━━━━━━━━━━━━━━━\u001b[0m\u001b[37m\u001b[0m \u001b[1m1s\u001b[0m 16ms/step - accuracy: 0.6457 - loss: 0.6459 - val_accuracy: 0.6435 - val_loss: 0.6431\n",
      "Epoch 4/100\n",
      "\u001b[1m46/46\u001b[0m \u001b[32m━━━━━━━━━━━━━━━━━━━━\u001b[0m\u001b[37m\u001b[0m \u001b[1m1s\u001b[0m 9ms/step - accuracy: 0.6952 - loss: 0.5737 - val_accuracy: 0.6609 - val_loss: 0.6354\n",
      "Epoch 5/100\n",
      "\u001b[1m46/46\u001b[0m \u001b[32m━━━━━━━━━━━━━━━━━━━━\u001b[0m\u001b[37m\u001b[0m \u001b[1m1s\u001b[0m 17ms/step - accuracy: 0.7007 - loss: 0.6020 - val_accuracy: 0.6348 - val_loss: 0.6315\n",
      "Epoch 6/100\n",
      "\u001b[1m46/46\u001b[0m \u001b[32m━━━━━━━━━━━━━━━━━━━━\u001b[0m\u001b[37m\u001b[0m \u001b[1m1s\u001b[0m 7ms/step - accuracy: 0.6579 - loss: 0.6162 - val_accuracy: 0.6348 - val_loss: 0.6292\n",
      "Epoch 7/100\n",
      "\u001b[1m46/46\u001b[0m \u001b[32m━━━━━━━━━━━━━━━━━━━━\u001b[0m\u001b[37m\u001b[0m \u001b[1m0s\u001b[0m 6ms/step - accuracy: 0.6978 - loss: 0.5711 - val_accuracy: 0.6435 - val_loss: 0.6289\n",
      "Epoch 8/100\n",
      "\u001b[1m46/46\u001b[0m \u001b[32m━━━━━━━━━━━━━━━━━━━━\u001b[0m\u001b[37m\u001b[0m \u001b[1m1s\u001b[0m 6ms/step - accuracy: 0.6855 - loss: 0.5746 - val_accuracy: 0.6261 - val_loss: 0.6221\n",
      "Epoch 9/100\n",
      "\u001b[1m46/46\u001b[0m \u001b[32m━━━━━━━━━━━━━━━━━━━━\u001b[0m\u001b[37m\u001b[0m \u001b[1m1s\u001b[0m 9ms/step - accuracy: 0.6823 - loss: 0.5659 - val_accuracy: 0.6174 - val_loss: 0.6170\n",
      "Epoch 10/100\n",
      "\u001b[1m46/46\u001b[0m \u001b[32m━━━━━━━━━━━━━━━━━━━━\u001b[0m\u001b[37m\u001b[0m \u001b[1m1s\u001b[0m 14ms/step - accuracy: 0.6736 - loss: 0.5905 - val_accuracy: 0.6348 - val_loss: 0.6217\n",
      "Epoch 11/100\n",
      "\u001b[1m46/46\u001b[0m \u001b[32m━━━━━━━━━━━━━━━━━━━━\u001b[0m\u001b[37m\u001b[0m \u001b[1m3s\u001b[0m 39ms/step - accuracy: 0.7030 - loss: 0.5422 - val_accuracy: 0.6174 - val_loss: 0.6107\n",
      "Epoch 12/100\n",
      "\u001b[1m46/46\u001b[0m \u001b[32m━━━━━━━━━━━━━━━━━━━━\u001b[0m\u001b[37m\u001b[0m \u001b[1m1s\u001b[0m 7ms/step - accuracy: 0.7127 - loss: 0.5619 - val_accuracy: 0.6174 - val_loss: 0.6093\n",
      "Epoch 13/100\n",
      "\u001b[1m46/46\u001b[0m \u001b[32m━━━━━━━━━━━━━━━━━━━━\u001b[0m\u001b[37m\u001b[0m \u001b[1m0s\u001b[0m 5ms/step - accuracy: 0.7045 - loss: 0.5421 - val_accuracy: 0.6174 - val_loss: 0.5959\n",
      "Epoch 14/100\n",
      "\u001b[1m46/46\u001b[0m \u001b[32m━━━━━━━━━━━━━━━━━━━━\u001b[0m\u001b[37m\u001b[0m \u001b[1m0s\u001b[0m 7ms/step - accuracy: 0.7272 - loss: 0.5378 - val_accuracy: 0.6174 - val_loss: 0.5840\n",
      "Epoch 15/100\n",
      "\u001b[1m46/46\u001b[0m \u001b[32m━━━━━━━━━━━━━━━━━━━━\u001b[0m\u001b[37m\u001b[0m \u001b[1m1s\u001b[0m 8ms/step - accuracy: 0.6872 - loss: 0.5445 - val_accuracy: 0.6261 - val_loss: 0.5779\n",
      "Epoch 16/100\n",
      "\u001b[1m46/46\u001b[0m \u001b[32m━━━━━━━━━━━━━━━━━━━━\u001b[0m\u001b[37m\u001b[0m \u001b[1m2s\u001b[0m 29ms/step - accuracy: 0.7279 - loss: 0.5302 - val_accuracy: 0.6348 - val_loss: 0.5652\n",
      "Epoch 17/100\n",
      "\u001b[1m46/46\u001b[0m \u001b[32m━━━━━━━━━━━━━━━━━━━━\u001b[0m\u001b[37m\u001b[0m \u001b[1m0s\u001b[0m 6ms/step - accuracy: 0.7069 - loss: 0.5463 - val_accuracy: 0.6348 - val_loss: 0.5671\n",
      "Epoch 18/100\n",
      "\u001b[1m46/46\u001b[0m \u001b[32m━━━━━━━━━━━━━━━━━━━━\u001b[0m\u001b[37m\u001b[0m \u001b[1m1s\u001b[0m 5ms/step - accuracy: 0.7304 - loss: 0.4982 - val_accuracy: 0.6870 - val_loss: 0.5480\n",
      "Epoch 19/100\n",
      "\u001b[1m46/46\u001b[0m \u001b[32m━━━━━━━━━━━━━━━━━━━━\u001b[0m\u001b[37m\u001b[0m \u001b[1m0s\u001b[0m 5ms/step - accuracy: 0.7394 - loss: 0.5025 - val_accuracy: 0.6870 - val_loss: 0.5512\n",
      "Epoch 20/100\n",
      "\u001b[1m46/46\u001b[0m \u001b[32m━━━━━━━━━━━━━━━━━━━━\u001b[0m\u001b[37m\u001b[0m \u001b[1m0s\u001b[0m 5ms/step - accuracy: 0.7044 - loss: 0.5212 - val_accuracy: 0.7043 - val_loss: 0.5416\n",
      "Epoch 21/100\n",
      "\u001b[1m46/46\u001b[0m \u001b[32m━━━━━━━━━━━━━━━━━━━━\u001b[0m\u001b[37m\u001b[0m \u001b[1m0s\u001b[0m 5ms/step - accuracy: 0.7310 - loss: 0.5102 - val_accuracy: 0.6870 - val_loss: 0.5419\n",
      "Epoch 22/100\n",
      "\u001b[1m46/46\u001b[0m \u001b[32m━━━━━━━━━━━━━━━━━━━━\u001b[0m\u001b[37m\u001b[0m \u001b[1m1s\u001b[0m 8ms/step - accuracy: 0.7468 - loss: 0.4850 - val_accuracy: 0.7130 - val_loss: 0.5380\n",
      "Epoch 23/100\n",
      "\u001b[1m46/46\u001b[0m \u001b[32m━━━━━━━━━━━━━━━━━━━━\u001b[0m\u001b[37m\u001b[0m \u001b[1m1s\u001b[0m 14ms/step - accuracy: 0.7399 - loss: 0.5234 - val_accuracy: 0.7217 - val_loss: 0.5374\n",
      "Epoch 24/100\n",
      "\u001b[1m46/46\u001b[0m \u001b[32m━━━━━━━━━━━━━━━━━━━━\u001b[0m\u001b[37m\u001b[0m \u001b[1m2s\u001b[0m 7ms/step - accuracy: 0.7346 - loss: 0.4816 - val_accuracy: 0.7217 - val_loss: 0.5403\n",
      "Epoch 25/100\n",
      "\u001b[1m46/46\u001b[0m \u001b[32m━━━━━━━━━━━━━━━━━━━━\u001b[0m\u001b[37m\u001b[0m \u001b[1m0s\u001b[0m 6ms/step - accuracy: 0.7685 - loss: 0.5181 - val_accuracy: 0.6957 - val_loss: 0.5425\n",
      "Epoch 26/100\n",
      "\u001b[1m46/46\u001b[0m \u001b[32m━━━━━━━━━━━━━━━━━━━━\u001b[0m\u001b[37m\u001b[0m \u001b[1m0s\u001b[0m 5ms/step - accuracy: 0.7319 - loss: 0.5550 - val_accuracy: 0.7043 - val_loss: 0.5406\n",
      "Epoch 27/100\n",
      "\u001b[1m46/46\u001b[0m \u001b[32m━━━━━━━━━━━━━━━━━━━━\u001b[0m\u001b[37m\u001b[0m \u001b[1m0s\u001b[0m 5ms/step - accuracy: 0.7391 - loss: 0.5149 - val_accuracy: 0.7043 - val_loss: 0.5418\n",
      "Epoch 28/100\n",
      "\u001b[1m46/46\u001b[0m \u001b[32m━━━━━━━━━━━━━━━━━━━━\u001b[0m\u001b[37m\u001b[0m \u001b[1m0s\u001b[0m 5ms/step - accuracy: 0.7406 - loss: 0.4876 - val_accuracy: 0.7391 - val_loss: 0.5398\n",
      "Epoch 29/100\n",
      "\u001b[1m46/46\u001b[0m \u001b[32m━━━━━━━━━━━━━━━━━━━━\u001b[0m\u001b[37m\u001b[0m \u001b[1m0s\u001b[0m 5ms/step - accuracy: 0.7137 - loss: 0.5452 - val_accuracy: 0.7217 - val_loss: 0.5430\n",
      "Epoch 30/100\n",
      "\u001b[1m46/46\u001b[0m \u001b[32m━━━━━━━━━━━━━━━━━━━━\u001b[0m\u001b[37m\u001b[0m \u001b[1m1s\u001b[0m 9ms/step - accuracy: 0.7636 - loss: 0.5056 - val_accuracy: 0.7478 - val_loss: 0.5374\n",
      "Epoch 31/100\n",
      "\u001b[1m46/46\u001b[0m \u001b[32m━━━━━━━━━━━━━━━━━━━━\u001b[0m\u001b[37m\u001b[0m \u001b[1m1s\u001b[0m 10ms/step - accuracy: 0.7608 - loss: 0.4471 - val_accuracy: 0.7130 - val_loss: 0.5399\n",
      "Epoch 32/100\n",
      "\u001b[1m46/46\u001b[0m \u001b[32m━━━━━━━━━━━━━━━━━━━━\u001b[0m\u001b[37m\u001b[0m \u001b[1m1s\u001b[0m 8ms/step - accuracy: 0.7730 - loss: 0.4862 - val_accuracy: 0.7391 - val_loss: 0.5373\n",
      "Epoch 33/100\n",
      "\u001b[1m46/46\u001b[0m \u001b[32m━━━━━━━━━━━━━━━━━━━━\u001b[0m\u001b[37m\u001b[0m \u001b[1m0s\u001b[0m 6ms/step - accuracy: 0.7779 - loss: 0.4908 - val_accuracy: 0.7478 - val_loss: 0.5373\n",
      "Epoch 34/100\n",
      "\u001b[1m46/46\u001b[0m \u001b[32m━━━━━━━━━━━━━━━━━━━━\u001b[0m\u001b[37m\u001b[0m \u001b[1m0s\u001b[0m 5ms/step - accuracy: 0.7470 - loss: 0.5045 - val_accuracy: 0.7652 - val_loss: 0.5351\n",
      "Epoch 35/100\n",
      "\u001b[1m46/46\u001b[0m \u001b[32m━━━━━━━━━━━━━━━━━━━━\u001b[0m\u001b[37m\u001b[0m \u001b[1m0s\u001b[0m 7ms/step - accuracy: 0.7729 - loss: 0.4687 - val_accuracy: 0.7478 - val_loss: 0.5364\n",
      "Epoch 36/100\n",
      "\u001b[1m46/46\u001b[0m \u001b[32m━━━━━━━━━━━━━━━━━━━━\u001b[0m\u001b[37m\u001b[0m \u001b[1m0s\u001b[0m 5ms/step - accuracy: 0.7508 - loss: 0.4703 - val_accuracy: 0.7391 - val_loss: 0.5350\n",
      "Epoch 37/100\n",
      "\u001b[1m46/46\u001b[0m \u001b[32m━━━━━━━━━━━━━━━━━━━━\u001b[0m\u001b[37m\u001b[0m \u001b[1m0s\u001b[0m 4ms/step - accuracy: 0.7726 - loss: 0.4721 - val_accuracy: 0.7739 - val_loss: 0.5324\n",
      "Epoch 38/100\n",
      "\u001b[1m46/46\u001b[0m \u001b[32m━━━━━━━━━━━━━━━━━━━━\u001b[0m\u001b[37m\u001b[0m \u001b[1m0s\u001b[0m 7ms/step - accuracy: 0.8051 - loss: 0.4701 - val_accuracy: 0.7478 - val_loss: 0.5332\n",
      "Epoch 39/100\n",
      "\u001b[1m46/46\u001b[0m \u001b[32m━━━━━━━━━━━━━━━━━━━━\u001b[0m\u001b[37m\u001b[0m \u001b[1m0s\u001b[0m 8ms/step - accuracy: 0.7886 - loss: 0.4684 - val_accuracy: 0.7391 - val_loss: 0.5331\n",
      "Epoch 40/100\n",
      "\u001b[1m46/46\u001b[0m \u001b[32m━━━━━━━━━━━━━━━━━━━━\u001b[0m\u001b[37m\u001b[0m \u001b[1m1s\u001b[0m 7ms/step - accuracy: 0.7597 - loss: 0.5196 - val_accuracy: 0.7739 - val_loss: 0.5297\n",
      "Epoch 41/100\n",
      "\u001b[1m46/46\u001b[0m \u001b[32m━━━━━━━━━━━━━━━━━━━━\u001b[0m\u001b[37m\u001b[0m \u001b[1m0s\u001b[0m 7ms/step - accuracy: 0.7279 - loss: 0.4816 - val_accuracy: 0.7652 - val_loss: 0.5258\n",
      "Epoch 42/100\n",
      "\u001b[1m46/46\u001b[0m \u001b[32m━━━━━━━━━━━━━━━━━━━━\u001b[0m\u001b[37m\u001b[0m \u001b[1m1s\u001b[0m 7ms/step - accuracy: 0.7766 - loss: 0.4557 - val_accuracy: 0.7652 - val_loss: 0.5251\n",
      "Epoch 43/100\n",
      "\u001b[1m46/46\u001b[0m \u001b[32m━━━━━━━━━━━━━━━━━━━━\u001b[0m\u001b[37m\u001b[0m \u001b[1m0s\u001b[0m 5ms/step - accuracy: 0.8103 - loss: 0.4615 - val_accuracy: 0.7739 - val_loss: 0.5223\n",
      "Epoch 44/100\n",
      "\u001b[1m46/46\u001b[0m \u001b[32m━━━━━━━━━━━━━━━━━━━━\u001b[0m\u001b[37m\u001b[0m \u001b[1m0s\u001b[0m 5ms/step - accuracy: 0.7784 - loss: 0.4860 - val_accuracy: 0.8000 - val_loss: 0.5208\n",
      "Epoch 45/100\n",
      "\u001b[1m46/46\u001b[0m \u001b[32m━━━━━━━━━━━━━━━━━━━━\u001b[0m\u001b[37m\u001b[0m \u001b[1m0s\u001b[0m 5ms/step - accuracy: 0.8174 - loss: 0.4659 - val_accuracy: 0.7739 - val_loss: 0.5204\n",
      "Epoch 46/100\n",
      "\u001b[1m46/46\u001b[0m \u001b[32m━━━━━━━━━━━━━━━━━━━━\u001b[0m\u001b[37m\u001b[0m \u001b[1m0s\u001b[0m 5ms/step - accuracy: 0.7949 - loss: 0.4608 - val_accuracy: 0.7565 - val_loss: 0.5197\n",
      "Epoch 47/100\n",
      "\u001b[1m46/46\u001b[0m \u001b[32m━━━━━━━━━━━━━━━━━━━━\u001b[0m\u001b[37m\u001b[0m \u001b[1m0s\u001b[0m 7ms/step - accuracy: 0.8419 - loss: 0.4256 - val_accuracy: 0.7739 - val_loss: 0.5231\n",
      "Epoch 48/100\n",
      "\u001b[1m46/46\u001b[0m \u001b[32m━━━━━━━━━━━━━━━━━━━━\u001b[0m\u001b[37m\u001b[0m \u001b[1m0s\u001b[0m 5ms/step - accuracy: 0.8077 - loss: 0.4817 - val_accuracy: 0.8000 - val_loss: 0.5203\n",
      "Epoch 49/100\n",
      "\u001b[1m46/46\u001b[0m \u001b[32m━━━━━━━━━━━━━━━━━━━━\u001b[0m\u001b[37m\u001b[0m \u001b[1m1s\u001b[0m 7ms/step - accuracy: 0.8136 - loss: 0.4404 - val_accuracy: 0.7826 - val_loss: 0.5207\n",
      "Epoch 50/100\n",
      "\u001b[1m46/46\u001b[0m \u001b[32m━━━━━━━━━━━━━━━━━━━━\u001b[0m\u001b[37m\u001b[0m \u001b[1m1s\u001b[0m 8ms/step - accuracy: 0.8073 - loss: 0.4704 - val_accuracy: 0.7652 - val_loss: 0.5298\n",
      "Epoch 51/100\n",
      "\u001b[1m46/46\u001b[0m \u001b[32m━━━━━━━━━━━━━━━━━━━━\u001b[0m\u001b[37m\u001b[0m \u001b[1m1s\u001b[0m 23ms/step - accuracy: 0.7858 - loss: 0.5155 - val_accuracy: 0.8087 - val_loss: 0.5193\n",
      "Epoch 52/100\n",
      "\u001b[1m46/46\u001b[0m \u001b[32m━━━━━━━━━━━━━━━━━━━━\u001b[0m\u001b[37m\u001b[0m \u001b[1m0s\u001b[0m 6ms/step - accuracy: 0.8107 - loss: 0.4719 - val_accuracy: 0.7826 - val_loss: 0.5254\n",
      "Epoch 53/100\n",
      "\u001b[1m46/46\u001b[0m \u001b[32m━━━━━━━━━━━━━━━━━━━━\u001b[0m\u001b[37m\u001b[0m \u001b[1m0s\u001b[0m 5ms/step - accuracy: 0.8146 - loss: 0.4508 - val_accuracy: 0.8000 - val_loss: 0.5164\n",
      "Epoch 54/100\n",
      "\u001b[1m46/46\u001b[0m \u001b[32m━━━━━━━━━━━━━━━━━━━━\u001b[0m\u001b[37m\u001b[0m \u001b[1m0s\u001b[0m 5ms/step - accuracy: 0.8274 - loss: 0.4435 - val_accuracy: 0.8000 - val_loss: 0.5181\n",
      "Epoch 55/100\n",
      "\u001b[1m46/46\u001b[0m \u001b[32m━━━━━━━━━━━━━━━━━━━━\u001b[0m\u001b[37m\u001b[0m \u001b[1m0s\u001b[0m 5ms/step - accuracy: 0.8038 - loss: 0.4676 - val_accuracy: 0.8000 - val_loss: 0.5151\n",
      "Epoch 56/100\n",
      "\u001b[1m46/46\u001b[0m \u001b[32m━━━━━━━━━━━━━━━━━━━━\u001b[0m\u001b[37m\u001b[0m \u001b[1m0s\u001b[0m 4ms/step - accuracy: 0.8196 - loss: 0.4748 - val_accuracy: 0.7826 - val_loss: 0.5160\n",
      "Epoch 57/100\n",
      "\u001b[1m46/46\u001b[0m \u001b[32m━━━━━━━━━━━━━━━━━━━━\u001b[0m\u001b[37m\u001b[0m \u001b[1m0s\u001b[0m 4ms/step - accuracy: 0.8012 - loss: 0.4435 - val_accuracy: 0.7652 - val_loss: 0.5227\n",
      "Epoch 58/100\n",
      "\u001b[1m46/46\u001b[0m \u001b[32m━━━━━━━━━━━━━━━━━━━━\u001b[0m\u001b[37m\u001b[0m \u001b[1m0s\u001b[0m 5ms/step - accuracy: 0.7425 - loss: 0.4957 - val_accuracy: 0.8000 - val_loss: 0.5174\n",
      "Epoch 59/100\n",
      "\u001b[1m46/46\u001b[0m \u001b[32m━━━━━━━━━━━━━━━━━━━━\u001b[0m\u001b[37m\u001b[0m \u001b[1m0s\u001b[0m 8ms/step - accuracy: 0.8280 - loss: 0.4231 - val_accuracy: 0.8000 - val_loss: 0.5186\n",
      "Epoch 60/100\n",
      "\u001b[1m46/46\u001b[0m \u001b[32m━━━━━━━━━━━━━━━━━━━━\u001b[0m\u001b[37m\u001b[0m \u001b[1m1s\u001b[0m 9ms/step - accuracy: 0.8136 - loss: 0.4700 - val_accuracy: 0.7913 - val_loss: 0.5142\n",
      "Epoch 61/100\n",
      "\u001b[1m46/46\u001b[0m \u001b[32m━━━━━━━━━━━━━━━━━━━━\u001b[0m\u001b[37m\u001b[0m \u001b[1m1s\u001b[0m 10ms/step - accuracy: 0.8123 - loss: 0.4563 - val_accuracy: 0.7739 - val_loss: 0.5200\n",
      "Epoch 62/100\n",
      "\u001b[1m46/46\u001b[0m \u001b[32m━━━━━━━━━━━━━━━━━━━━\u001b[0m\u001b[37m\u001b[0m \u001b[1m2s\u001b[0m 20ms/step - accuracy: 0.7919 - loss: 0.4545 - val_accuracy: 0.7913 - val_loss: 0.5138\n",
      "Epoch 63/100\n",
      "\u001b[1m46/46\u001b[0m \u001b[32m━━━━━━━━━━━━━━━━━━━━\u001b[0m\u001b[37m\u001b[0m \u001b[1m0s\u001b[0m 6ms/step - accuracy: 0.8271 - loss: 0.4353 - val_accuracy: 0.8000 - val_loss: 0.5134\n",
      "Epoch 64/100\n",
      "\u001b[1m46/46\u001b[0m \u001b[32m━━━━━━━━━━━━━━━━━━━━\u001b[0m\u001b[37m\u001b[0m \u001b[1m1s\u001b[0m 9ms/step - accuracy: 0.7960 - loss: 0.4964 - val_accuracy: 0.7913 - val_loss: 0.5134\n",
      "Epoch 65/100\n",
      "\u001b[1m46/46\u001b[0m \u001b[32m━━━━━━━━━━━━━━━━━━━━\u001b[0m\u001b[37m\u001b[0m \u001b[1m1s\u001b[0m 12ms/step - accuracy: 0.8004 - loss: 0.4885 - val_accuracy: 0.7913 - val_loss: 0.5183\n",
      "Epoch 66/100\n",
      "\u001b[1m46/46\u001b[0m \u001b[32m━━━━━━━━━━━━━━━━━━━━\u001b[0m\u001b[37m\u001b[0m \u001b[1m1s\u001b[0m 9ms/step - accuracy: 0.8201 - loss: 0.4601 - val_accuracy: 0.7913 - val_loss: 0.5132\n",
      "Epoch 67/100\n",
      "\u001b[1m46/46\u001b[0m \u001b[32m━━━━━━━━━━━━━━━━━━━━\u001b[0m\u001b[37m\u001b[0m \u001b[1m1s\u001b[0m 20ms/step - accuracy: 0.8265 - loss: 0.4626 - val_accuracy: 0.7913 - val_loss: 0.5149\n",
      "Epoch 68/100\n",
      "\u001b[1m46/46\u001b[0m \u001b[32m━━━━━━━━━━━━━━━━━━━━\u001b[0m\u001b[37m\u001b[0m \u001b[1m1s\u001b[0m 6ms/step - accuracy: 0.8105 - loss: 0.4438 - val_accuracy: 0.8000 - val_loss: 0.5122\n",
      "Epoch 69/100\n",
      "\u001b[1m46/46\u001b[0m \u001b[32m━━━━━━━━━━━━━━━━━━━━\u001b[0m\u001b[37m\u001b[0m \u001b[1m0s\u001b[0m 5ms/step - accuracy: 0.8342 - loss: 0.4469 - val_accuracy: 0.8000 - val_loss: 0.5164\n",
      "Epoch 70/100\n",
      "\u001b[1m46/46\u001b[0m \u001b[32m━━━━━━━━━━━━━━━━━━━━\u001b[0m\u001b[37m\u001b[0m \u001b[1m0s\u001b[0m 5ms/step - accuracy: 0.8211 - loss: 0.4619 - val_accuracy: 0.8000 - val_loss: 0.5149\n",
      "Epoch 71/100\n",
      "\u001b[1m46/46\u001b[0m \u001b[32m━━━━━━━━━━━━━━━━━━━━\u001b[0m\u001b[37m\u001b[0m \u001b[1m0s\u001b[0m 5ms/step - accuracy: 0.7992 - loss: 0.4552 - val_accuracy: 0.8087 - val_loss: 0.5197\n",
      "Epoch 72/100\n",
      "\u001b[1m46/46\u001b[0m \u001b[32m━━━━━━━━━━━━━━━━━━━━\u001b[0m\u001b[37m\u001b[0m \u001b[1m0s\u001b[0m 7ms/step - accuracy: 0.7947 - loss: 0.4561 - val_accuracy: 0.8000 - val_loss: 0.5169\n",
      "Epoch 73/100\n",
      "\u001b[1m46/46\u001b[0m \u001b[32m━━━━━━━━━━━━━━━━━━━━\u001b[0m\u001b[37m\u001b[0m \u001b[1m0s\u001b[0m 7ms/step - accuracy: 0.8344 - loss: 0.4178 - val_accuracy: 0.7913 - val_loss: 0.5120\n",
      "Epoch 74/100\n",
      "\u001b[1m46/46\u001b[0m \u001b[32m━━━━━━━━━━━━━━━━━━━━\u001b[0m\u001b[37m\u001b[0m \u001b[1m1s\u001b[0m 7ms/step - accuracy: 0.8197 - loss: 0.4598 - val_accuracy: 0.7826 - val_loss: 0.5247\n",
      "Epoch 75/100\n",
      "\u001b[1m46/46\u001b[0m \u001b[32m━━━━━━━━━━━━━━━━━━━━\u001b[0m\u001b[37m\u001b[0m \u001b[1m1s\u001b[0m 14ms/step - accuracy: 0.8018 - loss: 0.4757 - val_accuracy: 0.8000 - val_loss: 0.5147\n",
      "Epoch 76/100\n",
      "\u001b[1m46/46\u001b[0m \u001b[32m━━━━━━━━━━━━━━━━━━━━\u001b[0m\u001b[37m\u001b[0m \u001b[1m1s\u001b[0m 4ms/step - accuracy: 0.8451 - loss: 0.4347 - val_accuracy: 0.8000 - val_loss: 0.5160\n",
      "Epoch 77/100\n",
      "\u001b[1m46/46\u001b[0m \u001b[32m━━━━━━━━━━━━━━━━━━━━\u001b[0m\u001b[37m\u001b[0m \u001b[1m1s\u001b[0m 9ms/step - accuracy: 0.8186 - loss: 0.4692 - val_accuracy: 0.8000 - val_loss: 0.5132\n",
      "Epoch 78/100\n",
      "\u001b[1m46/46\u001b[0m \u001b[32m━━━━━━━━━━━━━━━━━━━━\u001b[0m\u001b[37m\u001b[0m \u001b[1m1s\u001b[0m 4ms/step - accuracy: 0.8156 - loss: 0.4345 - val_accuracy: 0.7913 - val_loss: 0.5106\n",
      "Epoch 79/100\n",
      "\u001b[1m46/46\u001b[0m \u001b[32m━━━━━━━━━━━━━━━━━━━━\u001b[0m\u001b[37m\u001b[0m \u001b[1m0s\u001b[0m 5ms/step - accuracy: 0.8397 - loss: 0.4170 - val_accuracy: 0.7565 - val_loss: 0.5260\n",
      "Epoch 80/100\n",
      "\u001b[1m46/46\u001b[0m \u001b[32m━━━━━━━━━━━━━━━━━━━━\u001b[0m\u001b[37m\u001b[0m \u001b[1m0s\u001b[0m 4ms/step - accuracy: 0.8456 - loss: 0.3898 - val_accuracy: 0.7652 - val_loss: 0.5217\n",
      "Epoch 81/100\n",
      "\u001b[1m46/46\u001b[0m \u001b[32m━━━━━━━━━━━━━━━━━━━━\u001b[0m\u001b[37m\u001b[0m \u001b[1m0s\u001b[0m 4ms/step - accuracy: 0.8010 - loss: 0.4713 - val_accuracy: 0.8000 - val_loss: 0.5115\n",
      "Epoch 82/100\n",
      "\u001b[1m46/46\u001b[0m \u001b[32m━━━━━━━━━━━━━━━━━━━━\u001b[0m\u001b[37m\u001b[0m \u001b[1m1s\u001b[0m 7ms/step - accuracy: 0.8235 - loss: 0.4475 - val_accuracy: 0.7913 - val_loss: 0.5122\n",
      "Epoch 83/100\n",
      "\u001b[1m46/46\u001b[0m \u001b[32m━━━━━━━━━━━━━━━━━━━━\u001b[0m\u001b[37m\u001b[0m \u001b[1m1s\u001b[0m 11ms/step - accuracy: 0.8182 - loss: 0.4410 - val_accuracy: 0.7652 - val_loss: 0.5188\n",
      "Epoch 84/100\n",
      "\u001b[1m46/46\u001b[0m \u001b[32m━━━━━━━━━━━━━━━━━━━━\u001b[0m\u001b[37m\u001b[0m \u001b[1m2s\u001b[0m 9ms/step - accuracy: 0.8367 - loss: 0.4349 - val_accuracy: 0.8000 - val_loss: 0.5101\n",
      "Epoch 85/100\n",
      "\u001b[1m46/46\u001b[0m \u001b[32m━━━━━━━━━━━━━━━━━━━━\u001b[0m\u001b[37m\u001b[0m \u001b[1m1s\u001b[0m 8ms/step - accuracy: 0.8167 - loss: 0.4203 - val_accuracy: 0.8000 - val_loss: 0.5124\n",
      "Epoch 86/100\n",
      "\u001b[1m46/46\u001b[0m \u001b[32m━━━━━━━━━━━━━━━━━━━━\u001b[0m\u001b[37m\u001b[0m \u001b[1m0s\u001b[0m 5ms/step - accuracy: 0.8309 - loss: 0.4331 - val_accuracy: 0.7913 - val_loss: 0.5093\n",
      "Epoch 87/100\n",
      "\u001b[1m46/46\u001b[0m \u001b[32m━━━━━━━━━━━━━━━━━━━━\u001b[0m\u001b[37m\u001b[0m \u001b[1m0s\u001b[0m 4ms/step - accuracy: 0.8175 - loss: 0.4515 - val_accuracy: 0.7913 - val_loss: 0.5097\n",
      "Epoch 88/100\n",
      "\u001b[1m46/46\u001b[0m \u001b[32m━━━━━━━━━━━━━━━━━━━━\u001b[0m\u001b[37m\u001b[0m \u001b[1m0s\u001b[0m 4ms/step - accuracy: 0.8403 - loss: 0.4534 - val_accuracy: 0.7826 - val_loss: 0.5222\n",
      "Epoch 89/100\n",
      "\u001b[1m46/46\u001b[0m \u001b[32m━━━━━━━━━━━━━━━━━━━━\u001b[0m\u001b[37m\u001b[0m \u001b[1m0s\u001b[0m 7ms/step - accuracy: 0.8459 - loss: 0.3984 - val_accuracy: 0.8000 - val_loss: 0.5102\n",
      "Epoch 90/100\n",
      "\u001b[1m46/46\u001b[0m \u001b[32m━━━━━━━━━━━━━━━━━━━━\u001b[0m\u001b[37m\u001b[0m \u001b[1m1s\u001b[0m 9ms/step - accuracy: 0.8180 - loss: 0.4377 - val_accuracy: 0.7913 - val_loss: 0.5117\n",
      "Epoch 91/100\n",
      "\u001b[1m46/46\u001b[0m \u001b[32m━━━━━━━━━━━━━━━━━━━━\u001b[0m\u001b[37m\u001b[0m \u001b[1m0s\u001b[0m 6ms/step - accuracy: 0.8137 - loss: 0.4492 - val_accuracy: 0.8000 - val_loss: 0.5101\n",
      "Epoch 92/100\n",
      "\u001b[1m46/46\u001b[0m \u001b[32m━━━━━━━━━━━━━━━━━━━━\u001b[0m\u001b[37m\u001b[0m \u001b[1m0s\u001b[0m 4ms/step - accuracy: 0.8544 - loss: 0.3913 - val_accuracy: 0.7913 - val_loss: 0.5094\n",
      "Epoch 93/100\n",
      "\u001b[1m46/46\u001b[0m \u001b[32m━━━━━━━━━━━━━━━━━━━━\u001b[0m\u001b[37m\u001b[0m \u001b[1m0s\u001b[0m 7ms/step - accuracy: 0.8281 - loss: 0.4400 - val_accuracy: 0.8000 - val_loss: 0.5100\n",
      "Epoch 94/100\n",
      "\u001b[1m46/46\u001b[0m \u001b[32m━━━━━━━━━━━━━━━━━━━━\u001b[0m\u001b[37m\u001b[0m \u001b[1m0s\u001b[0m 3ms/step - accuracy: 0.8521 - loss: 0.3645 - val_accuracy: 0.7913 - val_loss: 0.5097\n",
      "Epoch 95/100\n",
      "\u001b[1m46/46\u001b[0m \u001b[32m━━━━━━━━━━━━━━━━━━━━\u001b[0m\u001b[37m\u001b[0m \u001b[1m0s\u001b[0m 4ms/step - accuracy: 0.8220 - loss: 0.4312 - val_accuracy: 0.8000 - val_loss: 0.5097\n",
      "Epoch 96/100\n",
      "\u001b[1m46/46\u001b[0m \u001b[32m━━━━━━━━━━━━━━━━━━━━\u001b[0m\u001b[37m\u001b[0m \u001b[1m0s\u001b[0m 4ms/step - accuracy: 0.8475 - loss: 0.4058 - val_accuracy: 0.8087 - val_loss: 0.5193\n",
      "Epoch 97/100\n",
      "\u001b[1m46/46\u001b[0m \u001b[32m━━━━━━━━━━━━━━━━━━━━\u001b[0m\u001b[37m\u001b[0m \u001b[1m0s\u001b[0m 6ms/step - accuracy: 0.8344 - loss: 0.4199 - val_accuracy: 0.7826 - val_loss: 0.5103\n",
      "Epoch 98/100\n",
      "\u001b[1m46/46\u001b[0m \u001b[32m━━━━━━━━━━━━━━━━━━━━\u001b[0m\u001b[37m\u001b[0m \u001b[1m0s\u001b[0m 4ms/step - accuracy: 0.8083 - loss: 0.4674 - val_accuracy: 0.8000 - val_loss: 0.5144\n",
      "Epoch 99/100\n",
      "\u001b[1m46/46\u001b[0m \u001b[32m━━━━━━━━━━━━━━━━━━━━\u001b[0m\u001b[37m\u001b[0m \u001b[1m0s\u001b[0m 5ms/step - accuracy: 0.8083 - loss: 0.4358 - val_accuracy: 0.8000 - val_loss: 0.5218\n",
      "Epoch 100/100\n",
      "\u001b[1m46/46\u001b[0m \u001b[32m━━━━━━━━━━━━━━━━━━━━\u001b[0m\u001b[37m\u001b[0m \u001b[1m0s\u001b[0m 3ms/step - accuracy: 0.7638 - loss: 0.5031 - val_accuracy: 0.8000 - val_loss: 0.5160\n"
     ]
    }
   ],
   "source": [
    "# Fit the model to the training data\n",
    "history = model.fit(X_train, y_train, epochs=100, batch_size=10, validation_split=0.2)\n"
   ]
  },
  {
   "cell_type": "code",
   "execution_count": 129,
   "metadata": {},
   "outputs": [
    {
     "name": "stdout",
     "output_type": "stream",
     "text": [
      "\u001b[1m5/5\u001b[0m \u001b[32m━━━━━━━━━━━━━━━━━━━━\u001b[0m\u001b[37m\u001b[0m \u001b[1m0s\u001b[0m 4ms/step - accuracy: 0.8235 - loss: 0.4208\n",
      "Test Accuracy: 0.78\n"
     ]
    }
   ],
   "source": [
    "# Evaluate the model on the test set\n",
    "loss, accuracy = model.evaluate(X_test, y_test)\n",
    "print(f'Test Accuracy: {accuracy:.2f}')\n"
   ]
  },
  {
   "cell_type": "markdown",
   "metadata": {},
   "source": [
    "<div class=\"result-section\">\n",
    "    <h2>Model Evaluation Results</h2>\n",
    "    <div class=\"result-container\">\n",
    "        <div class=\"result-card\">\n",
    "            <h3>Test Accuracy</h3>\n",
    "            <p class=\"result-value\">0.78</p>\n",
    "        </div>\n",
    "        <div class=\"result-card\">\n",
    "            <h3>Loss</h3>\n",
    "            <p class=\"result-value\">0.4208</p>\n",
    "        </div>\n",
    "    </div>\n",
    "</div>\n",
    "\n",
    "<style>\n",
    "    .result-section {\n",
    "        text-align: center;\n",
    "        margin: 40px 0;\n",
    "        padding: 20px;\n",
    "        border-radius: 10px;\n",
    "        animation: fadeIn 0.5s ease-in-out;\n",
    "        /* background-color: #2b2b2b; */\n",
    "        color: #fff;\n",
    "    }\n",
    "\n",
    "    .result-section h2 {\n",
    "        font-size: 2em;\n",
    "        margin-bottom: 20px;\n",
    "        color: #4db8ff;\n",
    "        transition: transform 0.3s ease;\n",
    "    }\n",
    "\n",
    "    .result-section h2:hover {\n",
    "        transform: scale(1.05);\n",
    "    }\n",
    "\n",
    "    .result-container {\n",
    "        display: flex;\n",
    "        justify-content: center;\n",
    "        gap: 30px;\n",
    "        flex-wrap: wrap;\n",
    "    }\n",
    "\n",
    "    .result-card {\n",
    "        background-color: #1e1e1e;\n",
    "        padding: 20px;\n",
    "        border-radius: 10px;\n",
    "        box-shadow: 0 4px 10px rgba(0, 0, 0, 0.3);\n",
    "        transition: transform 0.3s ease, background-color 0.3s ease;\n",
    "        width: 200px;\n",
    "    }\n",
    "\n",
    "    .result-card:hover {\n",
    "        transform: translateY(-5px);\n",
    "        background-color: #333;\n",
    "    }\n",
    "\n",
    "    .result-value {\n",
    "        font-size: 1.5em;\n",
    "        font-weight: bold;\n",
    "        margin-top: 10px;\n",
    "        color: #4db8ff;\n",
    "    }\n",
    "\n",
    "    @keyframes fadeIn {\n",
    "        from {\n",
    "            opacity: 0;\n",
    "        }\n",
    "        to {\n",
    "            opacity: 1;\n",
    "        }\n",
    "    }\n",
    "</style>\n"
   ]
  },
  {
   "cell_type": "markdown",
   "metadata": {},
   "source": [
    "<div class=\"footer-section\">\n",
    "    <h2>Notebook Created By</h2>\n",
    "    <p class=\"creator-name\">Hasaan Khan & ChatGPT</p>\n",
    "    <div class=\"joke-container\">\n",
    "        <h3>Here's a little joke to brighten your day:</h3>\n",
    "        <p class=\"joke\">Why did the computer go to therapy?</p>\n",
    "        <p class=\"punchline\">Because it had too many bytes!</p>\n",
    "    </div>\n",
    "</div>\n",
    "\n",
    "<style>\n",
    "    .footer-section {\n",
    "        text-align: center;\n",
    "        margin: 40px 0;\n",
    "        padding: 20px;\n",
    "        border-radius: 10px;\n",
    "        /* background-color: #2b2b2b; */\n",
    "        /* color: #fff; */\n",
    "        animation: fadeIn 0.5s ease-in-out;\n",
    "    }\n",
    "\n",
    "    .footer-section h2 {\n",
    "        font-size: 2em;\n",
    "        margin-bottom: 10px;\n",
    "        color: #4db8ff;\n",
    "        transition: transform 0.3s ease;\n",
    "    }\n",
    "\n",
    "    .footer-section h2:hover {\n",
    "        transform: scale(1.05);\n",
    "    }\n",
    "\n",
    "    .creator-name {\n",
    "        font-size: 1.5em;\n",
    "        font-weight: bold;\n",
    "        margin: 10px 0;\n",
    "        color: #4db8ff;\n",
    "    }\n",
    "\n",
    "    .joke-container {\n",
    "        margin-top: 20px;\n",
    "    }\n",
    "\n",
    "    .joke {\n",
    "        font-size: 1.2em;\n",
    "        color: #ffcc00;\n",
    "        transition: color 0.3s ease;\n",
    "    }\n",
    "\n",
    "    .joke:hover {\n",
    "        color: #ffe600;\n",
    "    }\n",
    "\n",
    "    .punchline {\n",
    "        font-size: 1em;\n",
    "        margin-top: 5px;\n",
    "        color: #99ccff;\n",
    "    }\n",
    "\n",
    "    @keyframes fadeIn {\n",
    "        from {\n",
    "            opacity: 0;\n",
    "        }\n",
    "        to {\n",
    "            opacity: 1;\n",
    "        }\n",
    "    }\n",
    "</style>\n"
   ]
  }
 ],
 "metadata": {
  "kernelspec": {
   "display_name": "ml_env",
   "language": "python",
   "name": "python3"
  },
  "language_info": {
   "codemirror_mode": {
    "name": "ipython",
    "version": 3
   },
   "file_extension": ".py",
   "mimetype": "text/x-python",
   "name": "python",
   "nbconvert_exporter": "python",
   "pygments_lexer": "ipython3",
   "version": "3.12.0"
  }
 },
 "nbformat": 4,
 "nbformat_minor": 2
}
